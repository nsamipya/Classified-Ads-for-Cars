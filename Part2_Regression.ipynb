{
 "cells": [
  {
   "cell_type": "code",
   "execution_count": 2,
   "metadata": {},
   "outputs": [],
   "source": [
    "import warnings\n",
    "warnings.filterwarnings('ignore')"
   ]
  },
  {
   "cell_type": "code",
   "execution_count": 3,
   "metadata": {},
   "outputs": [],
   "source": [
    "import numpy as np\n",
    "import pandas as pd\n",
    "import matplotlib.pyplot as plt"
   ]
  },
  {
   "cell_type": "markdown",
   "metadata": {},
   "source": [
    "# Data Exploration and Cleaning"
   ]
  },
  {
   "cell_type": "markdown",
   "metadata": {},
   "source": [
    "Link to the dataset : https://www.kaggle.com/mirosval/personal-cars-classifieds"
   ]
  },
  {
   "cell_type": "code",
   "execution_count": 4,
   "metadata": {},
   "outputs": [],
   "source": [
    "carData = pd.read_csv(\"all_anonymized_2015_11_2017_03.csv\")"
   ]
  },
  {
   "cell_type": "code",
   "execution_count": 5,
   "metadata": {},
   "outputs": [
    {
     "data": {
      "text/html": [
       "<div>\n",
       "<style scoped>\n",
       "    .dataframe tbody tr th:only-of-type {\n",
       "        vertical-align: middle;\n",
       "    }\n",
       "\n",
       "    .dataframe tbody tr th {\n",
       "        vertical-align: top;\n",
       "    }\n",
       "\n",
       "    .dataframe thead th {\n",
       "        text-align: right;\n",
       "    }\n",
       "</style>\n",
       "<table border=\"1\" class=\"dataframe\">\n",
       "  <thead>\n",
       "    <tr style=\"text-align: right;\">\n",
       "      <th></th>\n",
       "      <th>maker</th>\n",
       "      <th>model</th>\n",
       "      <th>mileage</th>\n",
       "      <th>manufacture_year</th>\n",
       "      <th>engine_displacement</th>\n",
       "      <th>engine_power</th>\n",
       "      <th>body_type</th>\n",
       "      <th>color_slug</th>\n",
       "      <th>stk_year</th>\n",
       "      <th>transmission</th>\n",
       "      <th>door_count</th>\n",
       "      <th>seat_count</th>\n",
       "      <th>fuel_type</th>\n",
       "      <th>date_created</th>\n",
       "      <th>date_last_seen</th>\n",
       "      <th>price_eur</th>\n",
       "    </tr>\n",
       "  </thead>\n",
       "  <tbody>\n",
       "    <tr>\n",
       "      <th>0</th>\n",
       "      <td>ford</td>\n",
       "      <td>galaxy</td>\n",
       "      <td>151000.0</td>\n",
       "      <td>2011.0</td>\n",
       "      <td>2000.0</td>\n",
       "      <td>103.0</td>\n",
       "      <td>NaN</td>\n",
       "      <td>NaN</td>\n",
       "      <td>None</td>\n",
       "      <td>man</td>\n",
       "      <td>5</td>\n",
       "      <td>7</td>\n",
       "      <td>diesel</td>\n",
       "      <td>2015-11-14 18:10:06.838319+00</td>\n",
       "      <td>2016-01-27 20:40:15.46361+00</td>\n",
       "      <td>10584.75</td>\n",
       "    </tr>\n",
       "    <tr>\n",
       "      <th>1</th>\n",
       "      <td>skoda</td>\n",
       "      <td>octavia</td>\n",
       "      <td>143476.0</td>\n",
       "      <td>2012.0</td>\n",
       "      <td>2000.0</td>\n",
       "      <td>81.0</td>\n",
       "      <td>NaN</td>\n",
       "      <td>NaN</td>\n",
       "      <td>None</td>\n",
       "      <td>man</td>\n",
       "      <td>5</td>\n",
       "      <td>5</td>\n",
       "      <td>diesel</td>\n",
       "      <td>2015-11-14 18:10:06.853411+00</td>\n",
       "      <td>2016-01-27 20:40:15.46361+00</td>\n",
       "      <td>8882.31</td>\n",
       "    </tr>\n",
       "    <tr>\n",
       "      <th>2</th>\n",
       "      <td>bmw</td>\n",
       "      <td>NaN</td>\n",
       "      <td>97676.0</td>\n",
       "      <td>2010.0</td>\n",
       "      <td>1995.0</td>\n",
       "      <td>85.0</td>\n",
       "      <td>NaN</td>\n",
       "      <td>NaN</td>\n",
       "      <td>None</td>\n",
       "      <td>man</td>\n",
       "      <td>5</td>\n",
       "      <td>5</td>\n",
       "      <td>diesel</td>\n",
       "      <td>2015-11-14 18:10:06.861792+00</td>\n",
       "      <td>2016-01-27 20:40:15.46361+00</td>\n",
       "      <td>12065.06</td>\n",
       "    </tr>\n",
       "    <tr>\n",
       "      <th>3</th>\n",
       "      <td>skoda</td>\n",
       "      <td>fabia</td>\n",
       "      <td>111970.0</td>\n",
       "      <td>2004.0</td>\n",
       "      <td>1200.0</td>\n",
       "      <td>47.0</td>\n",
       "      <td>NaN</td>\n",
       "      <td>NaN</td>\n",
       "      <td>None</td>\n",
       "      <td>man</td>\n",
       "      <td>5</td>\n",
       "      <td>5</td>\n",
       "      <td>gasoline</td>\n",
       "      <td>2015-11-14 18:10:06.872313+00</td>\n",
       "      <td>2016-01-27 20:40:15.46361+00</td>\n",
       "      <td>2960.77</td>\n",
       "    </tr>\n",
       "    <tr>\n",
       "      <th>4</th>\n",
       "      <td>skoda</td>\n",
       "      <td>fabia</td>\n",
       "      <td>128886.0</td>\n",
       "      <td>2004.0</td>\n",
       "      <td>1200.0</td>\n",
       "      <td>47.0</td>\n",
       "      <td>NaN</td>\n",
       "      <td>NaN</td>\n",
       "      <td>None</td>\n",
       "      <td>man</td>\n",
       "      <td>5</td>\n",
       "      <td>5</td>\n",
       "      <td>gasoline</td>\n",
       "      <td>2015-11-14 18:10:06.880335+00</td>\n",
       "      <td>2016-01-27 20:40:15.46361+00</td>\n",
       "      <td>2738.71</td>\n",
       "    </tr>\n",
       "    <tr>\n",
       "      <th>5</th>\n",
       "      <td>skoda</td>\n",
       "      <td>fabia</td>\n",
       "      <td>140932.0</td>\n",
       "      <td>2003.0</td>\n",
       "      <td>1200.0</td>\n",
       "      <td>40.0</td>\n",
       "      <td>NaN</td>\n",
       "      <td>NaN</td>\n",
       "      <td>None</td>\n",
       "      <td>man</td>\n",
       "      <td>5</td>\n",
       "      <td>5</td>\n",
       "      <td>gasoline</td>\n",
       "      <td>2015-11-14 18:10:06.894643+00</td>\n",
       "      <td>2016-01-27 20:40:15.46361+00</td>\n",
       "      <td>1628.42</td>\n",
       "    </tr>\n",
       "    <tr>\n",
       "      <th>6</th>\n",
       "      <td>skoda</td>\n",
       "      <td>fabia</td>\n",
       "      <td>167220.0</td>\n",
       "      <td>2001.0</td>\n",
       "      <td>1400.0</td>\n",
       "      <td>74.0</td>\n",
       "      <td>NaN</td>\n",
       "      <td>NaN</td>\n",
       "      <td>None</td>\n",
       "      <td>man</td>\n",
       "      <td>5</td>\n",
       "      <td>5</td>\n",
       "      <td>gasoline</td>\n",
       "      <td>2015-11-14 18:10:06.915376+00</td>\n",
       "      <td>2016-01-27 20:40:15.46361+00</td>\n",
       "      <td>2072.54</td>\n",
       "    </tr>\n",
       "    <tr>\n",
       "      <th>7</th>\n",
       "      <td>bmw</td>\n",
       "      <td>NaN</td>\n",
       "      <td>148500.0</td>\n",
       "      <td>2009.0</td>\n",
       "      <td>2000.0</td>\n",
       "      <td>130.0</td>\n",
       "      <td>NaN</td>\n",
       "      <td>NaN</td>\n",
       "      <td>None</td>\n",
       "      <td>auto</td>\n",
       "      <td>5</td>\n",
       "      <td>5</td>\n",
       "      <td>diesel</td>\n",
       "      <td>2015-11-14 18:10:06.924123+00</td>\n",
       "      <td>2016-01-27 20:40:15.46361+00</td>\n",
       "      <td>10547.74</td>\n",
       "    </tr>\n",
       "    <tr>\n",
       "      <th>8</th>\n",
       "      <td>skoda</td>\n",
       "      <td>octavia</td>\n",
       "      <td>105389.0</td>\n",
       "      <td>2003.0</td>\n",
       "      <td>1900.0</td>\n",
       "      <td>81.0</td>\n",
       "      <td>NaN</td>\n",
       "      <td>NaN</td>\n",
       "      <td>None</td>\n",
       "      <td>man</td>\n",
       "      <td>5</td>\n",
       "      <td>5</td>\n",
       "      <td>diesel</td>\n",
       "      <td>2015-11-14 18:10:06.936239+00</td>\n",
       "      <td>2016-01-27 20:40:15.46361+00</td>\n",
       "      <td>4293.12</td>\n",
       "    </tr>\n",
       "    <tr>\n",
       "      <th>9</th>\n",
       "      <td>NaN</td>\n",
       "      <td>NaN</td>\n",
       "      <td>301381.0</td>\n",
       "      <td>2002.0</td>\n",
       "      <td>1900.0</td>\n",
       "      <td>88.0</td>\n",
       "      <td>NaN</td>\n",
       "      <td>NaN</td>\n",
       "      <td>None</td>\n",
       "      <td>man</td>\n",
       "      <td>5</td>\n",
       "      <td>5</td>\n",
       "      <td>diesel</td>\n",
       "      <td>2015-11-14 18:10:06.954319+00</td>\n",
       "      <td>2016-01-27 20:40:15.46361+00</td>\n",
       "      <td>1332.35</td>\n",
       "    </tr>\n",
       "  </tbody>\n",
       "</table>\n",
       "</div>"
      ],
      "text/plain": [
       "   maker    model   mileage  manufacture_year  engine_displacement  \\\n",
       "0   ford   galaxy  151000.0            2011.0               2000.0   \n",
       "1  skoda  octavia  143476.0            2012.0               2000.0   \n",
       "2    bmw      NaN   97676.0            2010.0               1995.0   \n",
       "3  skoda    fabia  111970.0            2004.0               1200.0   \n",
       "4  skoda    fabia  128886.0            2004.0               1200.0   \n",
       "5  skoda    fabia  140932.0            2003.0               1200.0   \n",
       "6  skoda    fabia  167220.0            2001.0               1400.0   \n",
       "7    bmw      NaN  148500.0            2009.0               2000.0   \n",
       "8  skoda  octavia  105389.0            2003.0               1900.0   \n",
       "9    NaN      NaN  301381.0            2002.0               1900.0   \n",
       "\n",
       "   engine_power body_type color_slug stk_year transmission door_count  \\\n",
       "0         103.0       NaN        NaN     None          man          5   \n",
       "1          81.0       NaN        NaN     None          man          5   \n",
       "2          85.0       NaN        NaN     None          man          5   \n",
       "3          47.0       NaN        NaN     None          man          5   \n",
       "4          47.0       NaN        NaN     None          man          5   \n",
       "5          40.0       NaN        NaN     None          man          5   \n",
       "6          74.0       NaN        NaN     None          man          5   \n",
       "7         130.0       NaN        NaN     None         auto          5   \n",
       "8          81.0       NaN        NaN     None          man          5   \n",
       "9          88.0       NaN        NaN     None          man          5   \n",
       "\n",
       "  seat_count fuel_type                   date_created  \\\n",
       "0          7    diesel  2015-11-14 18:10:06.838319+00   \n",
       "1          5    diesel  2015-11-14 18:10:06.853411+00   \n",
       "2          5    diesel  2015-11-14 18:10:06.861792+00   \n",
       "3          5  gasoline  2015-11-14 18:10:06.872313+00   \n",
       "4          5  gasoline  2015-11-14 18:10:06.880335+00   \n",
       "5          5  gasoline  2015-11-14 18:10:06.894643+00   \n",
       "6          5  gasoline  2015-11-14 18:10:06.915376+00   \n",
       "7          5    diesel  2015-11-14 18:10:06.924123+00   \n",
       "8          5    diesel  2015-11-14 18:10:06.936239+00   \n",
       "9          5    diesel  2015-11-14 18:10:06.954319+00   \n",
       "\n",
       "                 date_last_seen  price_eur  \n",
       "0  2016-01-27 20:40:15.46361+00   10584.75  \n",
       "1  2016-01-27 20:40:15.46361+00    8882.31  \n",
       "2  2016-01-27 20:40:15.46361+00   12065.06  \n",
       "3  2016-01-27 20:40:15.46361+00    2960.77  \n",
       "4  2016-01-27 20:40:15.46361+00    2738.71  \n",
       "5  2016-01-27 20:40:15.46361+00    1628.42  \n",
       "6  2016-01-27 20:40:15.46361+00    2072.54  \n",
       "7  2016-01-27 20:40:15.46361+00   10547.74  \n",
       "8  2016-01-27 20:40:15.46361+00    4293.12  \n",
       "9  2016-01-27 20:40:15.46361+00    1332.35  "
      ]
     },
     "execution_count": 5,
     "metadata": {},
     "output_type": "execute_result"
    }
   ],
   "source": [
    "carData.head(10)"
   ]
  },
  {
   "cell_type": "code",
   "execution_count": 6,
   "metadata": {},
   "outputs": [
    {
     "data": {
      "text/plain": [
       "maker                   518915\n",
       "model                  1133361\n",
       "mileage                 362584\n",
       "manufacture_year        370578\n",
       "engine_displacement     743414\n",
       "engine_power            554877\n",
       "body_type              1122914\n",
       "color_slug             3343411\n",
       "stk_year               1708156\n",
       "transmission            741630\n",
       "door_count              614373\n",
       "seat_count              749489\n",
       "fuel_type              1847606\n",
       "date_created                 0\n",
       "date_last_seen               0\n",
       "price_eur                    0\n",
       "dtype: int64"
      ]
     },
     "execution_count": 6,
     "metadata": {},
     "output_type": "execute_result"
    }
   ],
   "source": [
    "carData.isnull().sum()"
   ]
  },
  {
   "cell_type": "code",
   "execution_count": 7,
   "metadata": {},
   "outputs": [],
   "source": [
    "carData = carData.drop(columns =['model','color_slug', 'stk_year'])"
   ]
  },
  {
   "cell_type": "code",
   "execution_count": 8,
   "metadata": {},
   "outputs": [],
   "source": [
    "carData['date_created'] = carData['date_created'].str.slice(0, 10)\n",
    "carData['date_last_seen'] = carData['date_last_seen'].str.slice(0, 10)"
   ]
  },
  {
   "cell_type": "code",
   "execution_count": 9,
   "metadata": {},
   "outputs": [],
   "source": [
    "carData = carData[carData['body_type'].notna()]\n",
    "carData = carData[carData['fuel_type'].notna()]"
   ]
  },
  {
   "cell_type": "code",
   "execution_count": 10,
   "metadata": {},
   "outputs": [
    {
     "data": {
      "text/plain": [
       "compact         241948\n",
       "other           122159\n",
       "coupe            68738\n",
       "stationwagon     68092\n",
       "van              30728\n",
       "offroad          21835\n",
       "sedan            19149\n",
       "convertible       5303\n",
       "transporter       4440\n",
       "Name: body_type, dtype: int64"
      ]
     },
     "execution_count": 10,
     "metadata": {},
     "output_type": "execute_result"
    }
   ],
   "source": [
    "carData['body_type'].value_counts()"
   ]
  },
  {
   "cell_type": "code",
   "execution_count": 11,
   "metadata": {},
   "outputs": [
    {
     "data": {
      "text/plain": [
       "None     237765\n",
       "5.0      160410\n",
       "5         13172\n",
       "0.0       11322\n",
       "7.0        9805\n",
       "4.0        9043\n",
       "4          6372\n",
       "3.0        4346\n",
       "2.0        3841\n",
       "2          2869\n",
       "7          2467\n",
       "3          1729\n",
       "9.0        1721\n",
       "6.0        1517\n",
       "8.0         886\n",
       "6           462\n",
       "9           380\n",
       "1.0         190\n",
       "8           156\n",
       "1            11\n",
       "21.0          9\n",
       "50.0          5\n",
       "14.0          5\n",
       "57            4\n",
       "18.0          4\n",
       "51.0          4\n",
       "29.0          3\n",
       "52.0          3\n",
       "17.0          3\n",
       "16.0          3\n",
       "15.0          3\n",
       "81.0          3\n",
       "44.0          2\n",
       "13.0          2\n",
       "32.0          2\n",
       "33.0          2\n",
       "36.0          2\n",
       "17            2\n",
       "49.0          2\n",
       "53.0          2\n",
       "55.0          2\n",
       "57.0          2\n",
       "58.0          2\n",
       "512.0         2\n",
       "10.0          1\n",
       "517.0         1\n",
       "30.0          1\n",
       "19.0          1\n",
       "23.0          1\n",
       "25.0          1\n",
       "515.0         1\n",
       "43.0          1\n",
       "54.0          1\n",
       "59.0          1\n",
       "85.0          1\n",
       "138.0         1\n",
       "45.0          1\n",
       "Name: seat_count, dtype: int64"
      ]
     },
     "execution_count": 11,
     "metadata": {},
     "output_type": "execute_result"
    }
   ],
   "source": [
    "carData['seat_count'].value_counts()"
   ]
  },
  {
   "cell_type": "code",
   "execution_count": 12,
   "metadata": {},
   "outputs": [
    {
     "data": {
      "text/plain": [
       "None    233523\n",
       "5.0     160334\n",
       "4.0      17846\n",
       "5        13231\n",
       "3.0       9338\n",
       "0.0       7668\n",
       "2         7290\n",
       "4         7053\n",
       "3         4242\n",
       "2.0       3839\n",
       "6.0        229\n",
       "1.0         89\n",
       "6           41\n",
       "7.0         15\n",
       "55.0         9\n",
       "1            8\n",
       "58.0         2\n",
       "9.0          2\n",
       "8.0          2\n",
       "49.0         1\n",
       "45.0         1\n",
       "17.0         1\n",
       "7            1\n",
       "22.0         1\n",
       "Name: door_count, dtype: int64"
      ]
     },
     "execution_count": 12,
     "metadata": {},
     "output_type": "execute_result"
    }
   ],
   "source": [
    "carData['door_count'].value_counts()"
   ]
  },
  {
   "cell_type": "code",
   "execution_count": 13,
   "metadata": {},
   "outputs": [],
   "source": [
    "#drop all the None values\n",
    "carData = carData[carData['seat_count'] != 'None']\n",
    "carData = carData[carData['door_count'] != 'None']\n",
    "\n",
    "#convert everything to numeric\n",
    "carData[['seat_count', 'door_count']] = carData[['seat_count', 'door_count']].apply(pd.to_numeric)\n",
    "\n",
    "carData = carData[carData['seat_count'] <= 9] #drop values greater than 9\n",
    "carData['seat_count'] = carData['seat_count'].astype(np.int64)\n",
    "carData = carData[carData['door_count'] <= 7] #drop values greater than 7\n",
    "carData['door_count'] = carData['door_count'].astype(np.int64)"
   ]
  },
  {
   "cell_type": "code",
   "execution_count": 14,
   "metadata": {},
   "outputs": [
    {
     "data": {
      "text/plain": [
       "0      8629\n",
       "1       198\n",
       "2      5095\n",
       "3      5251\n",
       "4     15148\n",
       "5    170986\n",
       "6      1893\n",
       "7     12023\n",
       "8       991\n",
       "9      2018\n",
       "Name: seat_count, dtype: int64"
      ]
     },
     "execution_count": 14,
     "metadata": {},
     "output_type": "execute_result"
    }
   ],
   "source": [
    "carData['seat_count'].value_counts().sort_index()"
   ]
  },
  {
   "cell_type": "code",
   "execution_count": 15,
   "metadata": {},
   "outputs": [
    {
     "data": {
      "text/plain": [
       "Text(0.5, 1.0, 'Car Seat Counts')"
      ]
     },
     "execution_count": 15,
     "metadata": {},
     "output_type": "execute_result"
    },
    {
     "data": {
      "image/png": "[encoded data removed]",
      "text/plain": [
       "<Figure size 432x288 with 1 Axes>"
      ]
     },
     "metadata": {
      "needs_background": "light"
     },
     "output_type": "display_data"
    }
   ],
   "source": [
    "carData['seat_count'].value_counts().sort_index().plot(kind ='bar')\n",
    "plt.title(\"Car Seat Counts\")"
   ]
  },
  {
   "cell_type": "code",
   "execution_count": 16,
   "metadata": {},
   "outputs": [
    {
     "data": {
      "text/plain": [
       "0      7653\n",
       "1        85\n",
       "2     10010\n",
       "3     12587\n",
       "4     23968\n",
       "5    167650\n",
       "6       264\n",
       "7        15\n",
       "Name: door_count, dtype: int64"
      ]
     },
     "execution_count": 16,
     "metadata": {},
     "output_type": "execute_result"
    }
   ],
   "source": [
    "carData['door_count'].value_counts().sort_index()"
   ]
  },
  {
   "cell_type": "code",
   "execution_count": 17,
   "metadata": {},
   "outputs": [
    {
     "data": {
      "text/plain": [
       "Text(0.5, 1.0, 'Car Door Counts')"
      ]
     },
     "execution_count": 17,
     "metadata": {},
     "output_type": "execute_result"
    },
    {
     "data": {
      "image/png": "[encoded data removed]",
      "text/plain": [
       "<Figure size 432x288 with 1 Axes>"
      ]
     },
     "metadata": {
      "needs_background": "light"
     },
     "output_type": "display_data"
    }
   ],
   "source": [
    "carData['door_count'].value_counts().sort_index().plot(kind = 'bar')\n",
    "plt.title(\"Car Door Counts\")"
   ]
  },
  {
   "cell_type": "code",
   "execution_count": 18,
   "metadata": {},
   "outputs": [],
   "source": [
    "carData['maker'] = carData['maker'].fillna(carData['maker'].mode()[0])\n",
    "carData['transmission'] = carData['transmission'].fillna(carData['transmission'].mode()[0])\n",
    "\n",
    "carData['manufacture_year'] = carData['manufacture_year'].fillna(carData['manufacture_year'].mode()[0])\n",
    "carData['manufacture_year'] = carData['manufacture_year'].astype(np.int64)\n",
    "\n",
    "carData = carData[carData['mileage'] != 0] # remove cars without any mileage\n",
    "carData['mileage'] = carData['mileage'].fillna(carData['mileage'].mean())\n",
    "carData['mileage (log)'] = np.log(carData['mileage'])\n",
    "carData = carData.drop(columns=['mileage'])\n",
    "\n",
    "carData['engine_displacement'] = carData['engine_displacement'].fillna(carData['engine_displacement'].mean())\n",
    "carData['engine_power'] = carData['engine_power'].fillna(carData['engine_power'].mean())\n",
    "carData['engine_displacement (log)'] = np.log(carData['engine_displacement'])\n",
    "carData = carData.drop(columns=['engine_displacement'])"
   ]
  },
  {
   "cell_type": "code",
   "execution_count": 19,
   "metadata": {},
   "outputs": [
    {
     "data": {
      "text/plain": [
       "Text(0.5, 1.0, 'Automatic and Manual Car Counts')"
      ]
     },
     "execution_count": 19,
     "metadata": {},
     "output_type": "execute_result"
    },
    {
     "data": {
      "image/png": "[encoded data removed]",
      "text/plain": [
       "<Figure size 432x288 with 1 Axes>"
      ]
     },
     "metadata": {
      "needs_background": "light"
     },
     "output_type": "display_data"
    }
   ],
   "source": [
    "carData['transmission'].value_counts().sort_index().plot(kind = 'bar')\n",
    "plt.title(\"Automatic and Manual Car Counts\")"
   ]
  },
  {
   "cell_type": "code",
   "execution_count": 20,
   "metadata": {},
   "outputs": [],
   "source": [
    "carData[['date_created','date_last_seen']] = carData[['date_created','date_last_seen']].apply(pd.to_datetime)\n",
    "carData['ad_day_count'] = (carData['date_last_seen'] - carData['date_created']).dt.days\n",
    "carData = carData.drop(columns =['date_created','date_last_seen'])"
   ]
  },
  {
   "cell_type": "code",
   "execution_count": 21,
   "metadata": {},
   "outputs": [
    {
     "data": {
      "text/plain": [
       "maker                        0\n",
       "manufacture_year             0\n",
       "engine_power                 0\n",
       "body_type                    0\n",
       "transmission                 0\n",
       "door_count                   0\n",
       "seat_count                   0\n",
       "fuel_type                    0\n",
       "price_eur                    0\n",
       "mileage (log)                0\n",
       "engine_displacement (log)    0\n",
       "ad_day_count                 0\n",
       "dtype: int64"
      ]
     },
     "execution_count": 21,
     "metadata": {},
     "output_type": "execute_result"
    }
   ],
   "source": [
    "carData.isnull().sum()"
   ]
  },
  {
   "cell_type": "code",
   "execution_count": 22,
   "metadata": {},
   "outputs": [
    {
     "data": {
      "text/html": [
       "<div>\n",
       "<style scoped>\n",
       "    .dataframe tbody tr th:only-of-type {\n",
       "        vertical-align: middle;\n",
       "    }\n",
       "\n",
       "    .dataframe tbody tr th {\n",
       "        vertical-align: top;\n",
       "    }\n",
       "\n",
       "    .dataframe thead th {\n",
       "        text-align: right;\n",
       "    }\n",
       "</style>\n",
       "<table border=\"1\" class=\"dataframe\">\n",
       "  <thead>\n",
       "    <tr style=\"text-align: right;\">\n",
       "      <th></th>\n",
       "      <th>maker</th>\n",
       "      <th>manufacture_year</th>\n",
       "      <th>engine_power</th>\n",
       "      <th>body_type</th>\n",
       "      <th>transmission</th>\n",
       "      <th>door_count</th>\n",
       "      <th>seat_count</th>\n",
       "      <th>fuel_type</th>\n",
       "      <th>price_eur</th>\n",
       "      <th>mileage (log)</th>\n",
       "      <th>engine_displacement (log)</th>\n",
       "      <th>ad_day_count</th>\n",
       "    </tr>\n",
       "  </thead>\n",
       "  <tbody>\n",
       "    <tr>\n",
       "      <th>507</th>\n",
       "      <td>mercedes-benz</td>\n",
       "      <td>2011</td>\n",
       "      <td>120.0</td>\n",
       "      <td>van</td>\n",
       "      <td>man</td>\n",
       "      <td>5</td>\n",
       "      <td>5</td>\n",
       "      <td>diesel</td>\n",
       "      <td>22168.76</td>\n",
       "      <td>12.223878</td>\n",
       "      <td>7.669962</td>\n",
       "      <td>74</td>\n",
       "    </tr>\n",
       "    <tr>\n",
       "      <th>577</th>\n",
       "      <td>skoda</td>\n",
       "      <td>2007</td>\n",
       "      <td>96.0</td>\n",
       "      <td>van</td>\n",
       "      <td>man</td>\n",
       "      <td>5</td>\n",
       "      <td>9</td>\n",
       "      <td>diesel</td>\n",
       "      <td>8475.20</td>\n",
       "      <td>12.409013</td>\n",
       "      <td>7.808323</td>\n",
       "      <td>74</td>\n",
       "    </tr>\n",
       "    <tr>\n",
       "      <th>583</th>\n",
       "      <td>skoda</td>\n",
       "      <td>2005</td>\n",
       "      <td>128.0</td>\n",
       "      <td>van</td>\n",
       "      <td>man</td>\n",
       "      <td>5</td>\n",
       "      <td>8</td>\n",
       "      <td>diesel</td>\n",
       "      <td>9215.40</td>\n",
       "      <td>12.421184</td>\n",
       "      <td>7.808323</td>\n",
       "      <td>74</td>\n",
       "    </tr>\n",
       "    <tr>\n",
       "      <th>898</th>\n",
       "      <td>ford</td>\n",
       "      <td>2011</td>\n",
       "      <td>103.0</td>\n",
       "      <td>van</td>\n",
       "      <td>man</td>\n",
       "      <td>5</td>\n",
       "      <td>5</td>\n",
       "      <td>diesel</td>\n",
       "      <td>9437.45</td>\n",
       "      <td>11.830040</td>\n",
       "      <td>7.600902</td>\n",
       "      <td>74</td>\n",
       "    </tr>\n",
       "    <tr>\n",
       "      <th>972</th>\n",
       "      <td>skoda</td>\n",
       "      <td>2016</td>\n",
       "      <td>79.0</td>\n",
       "      <td>van</td>\n",
       "      <td>man</td>\n",
       "      <td>5</td>\n",
       "      <td>5</td>\n",
       "      <td>diesel</td>\n",
       "      <td>4441.15</td>\n",
       "      <td>12.055250</td>\n",
       "      <td>7.599401</td>\n",
       "      <td>74</td>\n",
       "    </tr>\n",
       "    <tr>\n",
       "      <th>1007</th>\n",
       "      <td>hyundai</td>\n",
       "      <td>2002</td>\n",
       "      <td>90.0</td>\n",
       "      <td>van</td>\n",
       "      <td>man</td>\n",
       "      <td>5</td>\n",
       "      <td>5</td>\n",
       "      <td>gasoline</td>\n",
       "      <td>1073.28</td>\n",
       "      <td>12.111762</td>\n",
       "      <td>7.492760</td>\n",
       "      <td>74</td>\n",
       "    </tr>\n",
       "    <tr>\n",
       "      <th>1038</th>\n",
       "      <td>skoda</td>\n",
       "      <td>2016</td>\n",
       "      <td>55.0</td>\n",
       "      <td>van</td>\n",
       "      <td>man</td>\n",
       "      <td>3</td>\n",
       "      <td>2</td>\n",
       "      <td>diesel</td>\n",
       "      <td>5162.84</td>\n",
       "      <td>11.716307</td>\n",
       "      <td>7.286876</td>\n",
       "      <td>74</td>\n",
       "    </tr>\n",
       "    <tr>\n",
       "      <th>1079</th>\n",
       "      <td>chrysler</td>\n",
       "      <td>2012</td>\n",
       "      <td>214.0</td>\n",
       "      <td>van</td>\n",
       "      <td>auto</td>\n",
       "      <td>5</td>\n",
       "      <td>7</td>\n",
       "      <td>gasoline</td>\n",
       "      <td>18467.80</td>\n",
       "      <td>11.718312</td>\n",
       "      <td>8.189800</td>\n",
       "      <td>74</td>\n",
       "    </tr>\n",
       "    <tr>\n",
       "      <th>1320</th>\n",
       "      <td>skoda</td>\n",
       "      <td>2004</td>\n",
       "      <td>96.0</td>\n",
       "      <td>van</td>\n",
       "      <td>man</td>\n",
       "      <td>4</td>\n",
       "      <td>6</td>\n",
       "      <td>diesel</td>\n",
       "      <td>8845.30</td>\n",
       "      <td>11.957611</td>\n",
       "      <td>7.824046</td>\n",
       "      <td>74</td>\n",
       "    </tr>\n",
       "    <tr>\n",
       "      <th>1603</th>\n",
       "      <td>fiat</td>\n",
       "      <td>2006</td>\n",
       "      <td>77.0</td>\n",
       "      <td>van</td>\n",
       "      <td>man</td>\n",
       "      <td>4</td>\n",
       "      <td>5</td>\n",
       "      <td>diesel</td>\n",
       "      <td>3515.91</td>\n",
       "      <td>11.955192</td>\n",
       "      <td>7.554859</td>\n",
       "      <td>74</td>\n",
       "    </tr>\n",
       "  </tbody>\n",
       "</table>\n",
       "</div>"
      ],
      "text/plain": [
       "              maker  manufacture_year  engine_power body_type transmission  \\\n",
       "507   mercedes-benz              2011         120.0       van          man   \n",
       "577           skoda              2007          96.0       van          man   \n",
       "583           skoda              2005         128.0       van          man   \n",
       "898            ford              2011         103.0       van          man   \n",
       "972           skoda              2016          79.0       van          man   \n",
       "1007        hyundai              2002          90.0       van          man   \n",
       "1038          skoda              2016          55.0       van          man   \n",
       "1079       chrysler              2012         214.0       van         auto   \n",
       "1320          skoda              2004          96.0       van          man   \n",
       "1603           fiat              2006          77.0       van          man   \n",
       "\n",
       "      door_count  seat_count fuel_type  price_eur  mileage (log)  \\\n",
       "507            5           5    diesel   22168.76      12.223878   \n",
       "577            5           9    diesel    8475.20      12.409013   \n",
       "583            5           8    diesel    9215.40      12.421184   \n",
       "898            5           5    diesel    9437.45      11.830040   \n",
       "972            5           5    diesel    4441.15      12.055250   \n",
       "1007           5           5  gasoline    1073.28      12.111762   \n",
       "1038           3           2    diesel    5162.84      11.716307   \n",
       "1079           5           7  gasoline   18467.80      11.718312   \n",
       "1320           4           6    diesel    8845.30      11.957611   \n",
       "1603           4           5    diesel    3515.91      11.955192   \n",
       "\n",
       "      engine_displacement (log)  ad_day_count  \n",
       "507                    7.669962            74  \n",
       "577                    7.808323            74  \n",
       "583                    7.808323            74  \n",
       "898                    7.600902            74  \n",
       "972                    7.599401            74  \n",
       "1007                   7.492760            74  \n",
       "1038                   7.286876            74  \n",
       "1079                   8.189800            74  \n",
       "1320                   7.824046            74  \n",
       "1603                   7.554859            74  "
      ]
     },
     "execution_count": 22,
     "metadata": {},
     "output_type": "execute_result"
    }
   ],
   "source": [
    "carData.head(10)"
   ]
  },
  {
   "cell_type": "code",
   "execution_count": 23,
   "metadata": {},
   "outputs": [],
   "source": [
    "carData = pd.concat([carData,pd.get_dummies(carData.maker)],axis=\"columns\")\n",
    "carData = carData.drop(columns=['maker'])"
   ]
  },
  {
   "cell_type": "code",
   "execution_count": 24,
   "metadata": {},
   "outputs": [],
   "source": [
    "carData = carData.drop(columns=['manufacture_year'])"
   ]
  },
  {
   "cell_type": "code",
   "execution_count": 25,
   "metadata": {},
   "outputs": [],
   "source": [
    "carData = pd.concat([carData,pd.get_dummies(carData.body_type)],axis=\"columns\")\n",
    "carData = carData.drop(columns=['body_type'])"
   ]
  },
  {
   "cell_type": "code",
   "execution_count": 26,
   "metadata": {},
   "outputs": [],
   "source": [
    "carData['transmission'] = carData['transmission'].map( {'man': 1, 'auto': 0} ).astype(int)"
   ]
  },
  {
   "cell_type": "code",
   "execution_count": 27,
   "metadata": {},
   "outputs": [],
   "source": [
    "carData = pd.concat([carData,pd.get_dummies(carData.door_count,prefix='door_count')],axis=\"columns\")\n",
    "carData = carData.drop(columns=['door_count'])"
   ]
  },
  {
   "cell_type": "code",
   "execution_count": 28,
   "metadata": {},
   "outputs": [],
   "source": [
    "carData = pd.concat([carData,pd.get_dummies(carData.seat_count,prefix='seat_count')],axis=\"columns\")\n",
    "carData = carData.drop(columns=['seat_count'])"
   ]
  },
  {
   "cell_type": "code",
   "execution_count": 29,
   "metadata": {},
   "outputs": [],
   "source": [
    "carData = pd.concat([carData,pd.get_dummies(carData.fuel_type)],axis=\"columns\")\n",
    "carData = carData.drop(columns=['fuel_type'])"
   ]
  },
  {
   "cell_type": "code",
   "execution_count": 30,
   "metadata": {},
   "outputs": [
    {
     "data": {
      "text/html": [
       "<div>\n",
       "<style scoped>\n",
       "    .dataframe tbody tr th:only-of-type {\n",
       "        vertical-align: middle;\n",
       "    }\n",
       "\n",
       "    .dataframe tbody tr th {\n",
       "        vertical-align: top;\n",
       "    }\n",
       "\n",
       "    .dataframe thead th {\n",
       "        text-align: right;\n",
       "    }\n",
       "</style>\n",
       "<table border=\"1\" class=\"dataframe\">\n",
       "  <thead>\n",
       "    <tr style=\"text-align: right;\">\n",
       "      <th></th>\n",
       "      <th>engine_power</th>\n",
       "      <th>transmission</th>\n",
       "      <th>price_eur</th>\n",
       "      <th>mileage (log)</th>\n",
       "      <th>engine_displacement (log)</th>\n",
       "      <th>ad_day_count</th>\n",
       "      <th>alfa-romeo</th>\n",
       "      <th>aston-martin</th>\n",
       "      <th>audi</th>\n",
       "      <th>bentley</th>\n",
       "      <th>...</th>\n",
       "      <th>seat_count_5</th>\n",
       "      <th>seat_count_6</th>\n",
       "      <th>seat_count_7</th>\n",
       "      <th>seat_count_8</th>\n",
       "      <th>seat_count_9</th>\n",
       "      <th>cng</th>\n",
       "      <th>diesel</th>\n",
       "      <th>electric</th>\n",
       "      <th>gasoline</th>\n",
       "      <th>lpg</th>\n",
       "    </tr>\n",
       "  </thead>\n",
       "  <tbody>\n",
       "    <tr>\n",
       "      <th>507</th>\n",
       "      <td>120.0</td>\n",
       "      <td>1</td>\n",
       "      <td>22168.76</td>\n",
       "      <td>12.223878</td>\n",
       "      <td>7.669962</td>\n",
       "      <td>74</td>\n",
       "      <td>0</td>\n",
       "      <td>0</td>\n",
       "      <td>0</td>\n",
       "      <td>0</td>\n",
       "      <td>...</td>\n",
       "      <td>1</td>\n",
       "      <td>0</td>\n",
       "      <td>0</td>\n",
       "      <td>0</td>\n",
       "      <td>0</td>\n",
       "      <td>0</td>\n",
       "      <td>1</td>\n",
       "      <td>0</td>\n",
       "      <td>0</td>\n",
       "      <td>0</td>\n",
       "    </tr>\n",
       "    <tr>\n",
       "      <th>577</th>\n",
       "      <td>96.0</td>\n",
       "      <td>1</td>\n",
       "      <td>8475.20</td>\n",
       "      <td>12.409013</td>\n",
       "      <td>7.808323</td>\n",
       "      <td>74</td>\n",
       "      <td>0</td>\n",
       "      <td>0</td>\n",
       "      <td>0</td>\n",
       "      <td>0</td>\n",
       "      <td>...</td>\n",
       "      <td>0</td>\n",
       "      <td>0</td>\n",
       "      <td>0</td>\n",
       "      <td>0</td>\n",
       "      <td>1</td>\n",
       "      <td>0</td>\n",
       "      <td>1</td>\n",
       "      <td>0</td>\n",
       "      <td>0</td>\n",
       "      <td>0</td>\n",
       "    </tr>\n",
       "    <tr>\n",
       "      <th>583</th>\n",
       "      <td>128.0</td>\n",
       "      <td>1</td>\n",
       "      <td>9215.40</td>\n",
       "      <td>12.421184</td>\n",
       "      <td>7.808323</td>\n",
       "      <td>74</td>\n",
       "      <td>0</td>\n",
       "      <td>0</td>\n",
       "      <td>0</td>\n",
       "      <td>0</td>\n",
       "      <td>...</td>\n",
       "      <td>0</td>\n",
       "      <td>0</td>\n",
       "      <td>0</td>\n",
       "      <td>1</td>\n",
       "      <td>0</td>\n",
       "      <td>0</td>\n",
       "      <td>1</td>\n",
       "      <td>0</td>\n",
       "      <td>0</td>\n",
       "      <td>0</td>\n",
       "    </tr>\n",
       "    <tr>\n",
       "      <th>898</th>\n",
       "      <td>103.0</td>\n",
       "      <td>1</td>\n",
       "      <td>9437.45</td>\n",
       "      <td>11.830040</td>\n",
       "      <td>7.600902</td>\n",
       "      <td>74</td>\n",
       "      <td>0</td>\n",
       "      <td>0</td>\n",
       "      <td>0</td>\n",
       "      <td>0</td>\n",
       "      <td>...</td>\n",
       "      <td>1</td>\n",
       "      <td>0</td>\n",
       "      <td>0</td>\n",
       "      <td>0</td>\n",
       "      <td>0</td>\n",
       "      <td>0</td>\n",
       "      <td>1</td>\n",
       "      <td>0</td>\n",
       "      <td>0</td>\n",
       "      <td>0</td>\n",
       "    </tr>\n",
       "    <tr>\n",
       "      <th>972</th>\n",
       "      <td>79.0</td>\n",
       "      <td>1</td>\n",
       "      <td>4441.15</td>\n",
       "      <td>12.055250</td>\n",
       "      <td>7.599401</td>\n",
       "      <td>74</td>\n",
       "      <td>0</td>\n",
       "      <td>0</td>\n",
       "      <td>0</td>\n",
       "      <td>0</td>\n",
       "      <td>...</td>\n",
       "      <td>1</td>\n",
       "      <td>0</td>\n",
       "      <td>0</td>\n",
       "      <td>0</td>\n",
       "      <td>0</td>\n",
       "      <td>0</td>\n",
       "      <td>1</td>\n",
       "      <td>0</td>\n",
       "      <td>0</td>\n",
       "      <td>0</td>\n",
       "    </tr>\n",
       "    <tr>\n",
       "      <th>1007</th>\n",
       "      <td>90.0</td>\n",
       "      <td>1</td>\n",
       "      <td>1073.28</td>\n",
       "      <td>12.111762</td>\n",
       "      <td>7.492760</td>\n",
       "      <td>74</td>\n",
       "      <td>0</td>\n",
       "      <td>0</td>\n",
       "      <td>0</td>\n",
       "      <td>0</td>\n",
       "      <td>...</td>\n",
       "      <td>1</td>\n",
       "      <td>0</td>\n",
       "      <td>0</td>\n",
       "      <td>0</td>\n",
       "      <td>0</td>\n",
       "      <td>0</td>\n",
       "      <td>0</td>\n",
       "      <td>0</td>\n",
       "      <td>1</td>\n",
       "      <td>0</td>\n",
       "    </tr>\n",
       "    <tr>\n",
       "      <th>1038</th>\n",
       "      <td>55.0</td>\n",
       "      <td>1</td>\n",
       "      <td>5162.84</td>\n",
       "      <td>11.716307</td>\n",
       "      <td>7.286876</td>\n",
       "      <td>74</td>\n",
       "      <td>0</td>\n",
       "      <td>0</td>\n",
       "      <td>0</td>\n",
       "      <td>0</td>\n",
       "      <td>...</td>\n",
       "      <td>0</td>\n",
       "      <td>0</td>\n",
       "      <td>0</td>\n",
       "      <td>0</td>\n",
       "      <td>0</td>\n",
       "      <td>0</td>\n",
       "      <td>1</td>\n",
       "      <td>0</td>\n",
       "      <td>0</td>\n",
       "      <td>0</td>\n",
       "    </tr>\n",
       "    <tr>\n",
       "      <th>1079</th>\n",
       "      <td>214.0</td>\n",
       "      <td>0</td>\n",
       "      <td>18467.80</td>\n",
       "      <td>11.718312</td>\n",
       "      <td>8.189800</td>\n",
       "      <td>74</td>\n",
       "      <td>0</td>\n",
       "      <td>0</td>\n",
       "      <td>0</td>\n",
       "      <td>0</td>\n",
       "      <td>...</td>\n",
       "      <td>0</td>\n",
       "      <td>0</td>\n",
       "      <td>1</td>\n",
       "      <td>0</td>\n",
       "      <td>0</td>\n",
       "      <td>0</td>\n",
       "      <td>0</td>\n",
       "      <td>0</td>\n",
       "      <td>1</td>\n",
       "      <td>0</td>\n",
       "    </tr>\n",
       "    <tr>\n",
       "      <th>1320</th>\n",
       "      <td>96.0</td>\n",
       "      <td>1</td>\n",
       "      <td>8845.30</td>\n",
       "      <td>11.957611</td>\n",
       "      <td>7.824046</td>\n",
       "      <td>74</td>\n",
       "      <td>0</td>\n",
       "      <td>0</td>\n",
       "      <td>0</td>\n",
       "      <td>0</td>\n",
       "      <td>...</td>\n",
       "      <td>0</td>\n",
       "      <td>1</td>\n",
       "      <td>0</td>\n",
       "      <td>0</td>\n",
       "      <td>0</td>\n",
       "      <td>0</td>\n",
       "      <td>1</td>\n",
       "      <td>0</td>\n",
       "      <td>0</td>\n",
       "      <td>0</td>\n",
       "    </tr>\n",
       "    <tr>\n",
       "      <th>1603</th>\n",
       "      <td>77.0</td>\n",
       "      <td>1</td>\n",
       "      <td>3515.91</td>\n",
       "      <td>11.955192</td>\n",
       "      <td>7.554859</td>\n",
       "      <td>74</td>\n",
       "      <td>0</td>\n",
       "      <td>0</td>\n",
       "      <td>0</td>\n",
       "      <td>0</td>\n",
       "      <td>...</td>\n",
       "      <td>1</td>\n",
       "      <td>0</td>\n",
       "      <td>0</td>\n",
       "      <td>0</td>\n",
       "      <td>0</td>\n",
       "      <td>0</td>\n",
       "      <td>1</td>\n",
       "      <td>0</td>\n",
       "      <td>0</td>\n",
       "      <td>0</td>\n",
       "    </tr>\n",
       "  </tbody>\n",
       "</table>\n",
       "<p>10 rows × 84 columns</p>\n",
       "</div>"
      ],
      "text/plain": [
       "      engine_power  transmission  price_eur  mileage (log)  \\\n",
       "507          120.0             1   22168.76      12.223878   \n",
       "577           96.0             1    8475.20      12.409013   \n",
       "583          128.0             1    9215.40      12.421184   \n",
       "898          103.0             1    9437.45      11.830040   \n",
       "972           79.0             1    4441.15      12.055250   \n",
       "1007          90.0             1    1073.28      12.111762   \n",
       "1038          55.0             1    5162.84      11.716307   \n",
       "1079         214.0             0   18467.80      11.718312   \n",
       "1320          96.0             1    8845.30      11.957611   \n",
       "1603          77.0             1    3515.91      11.955192   \n",
       "\n",
       "      engine_displacement (log)  ad_day_count  alfa-romeo  aston-martin  audi  \\\n",
       "507                    7.669962            74           0             0     0   \n",
       "577                    7.808323            74           0             0     0   \n",
       "583                    7.808323            74           0             0     0   \n",
       "898                    7.600902            74           0             0     0   \n",
       "972                    7.599401            74           0             0     0   \n",
       "1007                   7.492760            74           0             0     0   \n",
       "1038                   7.286876            74           0             0     0   \n",
       "1079                   8.189800            74           0             0     0   \n",
       "1320                   7.824046            74           0             0     0   \n",
       "1603                   7.554859            74           0             0     0   \n",
       "\n",
       "      bentley  ...  seat_count_5  seat_count_6  seat_count_7  seat_count_8  \\\n",
       "507         0  ...             1             0             0             0   \n",
       "577         0  ...             0             0             0             0   \n",
       "583         0  ...             0             0             0             1   \n",
       "898         0  ...             1             0             0             0   \n",
       "972         0  ...             1             0             0             0   \n",
       "1007        0  ...             1             0             0             0   \n",
       "1038        0  ...             0             0             0             0   \n",
       "1079        0  ...             0             0             1             0   \n",
       "1320        0  ...             0             1             0             0   \n",
       "1603        0  ...             1             0             0             0   \n",
       "\n",
       "      seat_count_9  cng  diesel  electric  gasoline  lpg  \n",
       "507              0    0       1         0         0    0  \n",
       "577              1    0       1         0         0    0  \n",
       "583              0    0       1         0         0    0  \n",
       "898              0    0       1         0         0    0  \n",
       "972              0    0       1         0         0    0  \n",
       "1007             0    0       0         0         1    0  \n",
       "1038             0    0       1         0         0    0  \n",
       "1079             0    0       0         0         1    0  \n",
       "1320             0    0       1         0         0    0  \n",
       "1603             0    0       1         0         0    0  \n",
       "\n",
       "[10 rows x 84 columns]"
      ]
     },
     "execution_count": 30,
     "metadata": {},
     "output_type": "execute_result"
    }
   ],
   "source": [
    "carData.head(10)"
   ]
  },
  {
   "cell_type": "code",
   "execution_count": 31,
   "metadata": {},
   "outputs": [
    {
     "data": {
      "text/plain": [
       "(215738, 84)"
      ]
     },
     "execution_count": 31,
     "metadata": {},
     "output_type": "execute_result"
    }
   ],
   "source": [
    "carData.shape"
   ]
  },
  {
   "cell_type": "code",
   "execution_count": 32,
   "metadata": {},
   "outputs": [],
   "source": [
    "carDataSample = carData.sample(n = 25000, random_state=0)\n",
    "carDataSample = carDataSample.loc[:, (carDataSample != 0).any(axis=0)]"
   ]
  },
  {
   "cell_type": "markdown",
   "metadata": {},
   "source": [
    "_Regress Sample_"
   ]
  },
  {
   "cell_type": "code",
   "execution_count": 33,
   "metadata": {},
   "outputs": [],
   "source": [
    "\n",
    "X = carDataSample.loc[:, carDataSample.columns != 'price_eur']\n",
    "y = np.log(carDataSample['price_eur'])"
   ]
  },
  {
   "cell_type": "markdown",
   "metadata": {},
   "source": [
    "# Regression Algorithms"
   ]
  },
  {
   "cell_type": "code",
   "execution_count": 34,
   "metadata": {},
   "outputs": [],
   "source": [
    "from sklearn.model_selection import train_test_split\n",
    "from sklearn.preprocessing import StandardScaler\n",
    "from sklearn.model_selection import GridSearchCV\n",
    "from sklearn.metrics import r2_score\n",
    "\n",
    "from sklearn.tree import DecisionTreeRegressor\n",
    "from sklearn.ensemble import RandomForestRegressor\n",
    "from sklearn.ensemble import BaggingRegressor\n",
    "from sklearn.ensemble import AdaBoostRegressor\n",
    "from sklearn.ensemble import GradientBoostingRegressor"
   ]
  },
  {
   "cell_type": "code",
   "execution_count": 35,
   "metadata": {},
   "outputs": [],
   "source": [
    "X_train_org, X_test_org, y_train, y_test = train_test_split(X,y,random_state=0)\n",
    "\n",
    "sc = StandardScaler()\n",
    "X_train = sc.fit_transform(X_train_org)\n",
    "X_test = sc.transform(X_test_org)"
   ]
  },
  {
   "cell_type": "code",
   "execution_count": 36,
   "metadata": {},
   "outputs": [
    {
     "name": "stdout",
     "output_type": "stream",
     "text": [
      "{'max_features': 10, 'max_samples': 0.5, 'n_estimators': 100, 'random_state': 0}\n",
      "Accuracy on training set: 0.3059\n",
      "Accuracy on test set: 0.2999\n",
      "R^2:  0.29985928043177\n"
     ]
    }
   ],
   "source": [
    "dectree_params = {'max_features': [2, 5, 10],\n",
    "                  'n_estimators':[100, 200, 300, 500],\n",
    "                  'max_samples':[0.1, 0.5, 1],\n",
    "                  'random_state':[0]\n",
    "                 }\n",
    "dectreegrid = GridSearchCV(estimator=BaggingRegressor(base_estimator=DecisionTreeRegressor(max_depth=5),random_state=0), param_grid = dectree_params, cv = 5, iid=False)\n",
    "dectreegrid.fit(X_train, y_train)\n",
    "\n",
    "print(dectreegrid.best_params_)\n",
    "print(\"Accuracy on training set: {:.4f}\".format(dectreegrid.score(X_train, y_train)))\n",
    "print(\"Accuracy on test set: {:.4f}\".format(dectreegrid.score(X_test, y_test)))\n",
    "\n",
    "y_preddectree = dectreegrid.predict(X_test)\n",
    "print(\"R^2: \", r2_score(y_test, y_preddectree))"
   ]
  },
  {
   "cell_type": "code",
   "execution_count": 37,
   "metadata": {},
   "outputs": [
    {
     "name": "stdout",
     "output_type": "stream",
     "text": [
      "Accuracy on training set: 0.6360\n",
      "Accuracy on test set: 0.6428\n",
      "R^2:  0.6428171054214139\n"
     ]
    }
   ],
   "source": [
    "randomforest = RandomForestRegressor(max_depth=5,random_state=0)\n",
    "bagrandomforest = BaggingRegressor(randomforest, random_state=0)\n",
    "bagrandomforest.fit(X_train, y_train)\n",
    "\n",
    "print(\"Accuracy on training set: {:.4f}\".format(bagrandomforest.score(X_train, y_train)))\n",
    "print(\"Accuracy on test set: {:.4f}\".format(bagrandomforest.score(X_test, y_test)))\n",
    "\n",
    "y_predrandomforest = bagrandomforest.predict(X_test)\n",
    "print(\"R^2: \", r2_score(y_test, y_predrandomforest))"
   ]
  },
  {
   "cell_type": "code",
   "execution_count": 38,
   "metadata": {},
   "outputs": [
    {
     "name": "stdout",
     "output_type": "stream",
     "text": [
      "{'max_features': 10, 'max_samples': 0.5, 'n_estimators': 100, 'random_state': 0}\n",
      "Accuracy on training set: 0.3055\n",
      "Accuracy on test set: 0.2995\n",
      "R^2:  0.2994990415569352\n"
     ]
    }
   ],
   "source": [
    "dectreepastegrid = GridSearchCV(estimator=BaggingRegressor(base_estimator=DecisionTreeRegressor(max_depth=5),random_state=0,bootstrap=False), param_grid = dectree_params, cv = 5, iid=False)\n",
    "dectreepastegrid.fit(X_train, y_train)\n",
    "\n",
    "print(dectreepastegrid.best_params_)\n",
    "print(\"Accuracy on training set: {:.4f}\".format(dectreepastegrid.score(X_train, y_train)))\n",
    "print(\"Accuracy on test set: {:.4f}\".format(dectreepastegrid.score(X_test, y_test)))\n",
    "\n",
    "y_preddectreepaste = dectreepastegrid.predict(X_test)\n",
    "print(\"R^2: \", r2_score(y_test, y_preddectreepaste))"
   ]
  },
  {
   "cell_type": "code",
   "execution_count": 39,
   "metadata": {},
   "outputs": [
    {
     "name": "stdout",
     "output_type": "stream",
     "text": [
      "Accuracy on training set: 0.6305\n",
      "Accuracy on test set: 0.6367\n",
      "R^2:  0.6367223866963034\n"
     ]
    }
   ],
   "source": [
    "bagrandomforestpaste = BaggingRegressor(randomforest, random_state=0,bootstrap=False)\n",
    "bagrandomforestpaste.fit(X_train, y_train)\n",
    "\n",
    "print(\"Accuracy on training set: {:.4f}\".format(bagrandomforestpaste.score(X_train, y_train)))\n",
    "print(\"Accuracy on test set: {:.4f}\".format(bagrandomforestpaste.score(X_test, y_test)))\n",
    "\n",
    "y_predrandomforestpaste = bagrandomforestpaste.predict(X_test)\n",
    "print(\"R^2: \", r2_score(y_test, y_predrandomforestpaste))"
   ]
  },
  {
   "cell_type": "code",
   "execution_count": 40,
   "metadata": {},
   "outputs": [
    {
     "name": "stdout",
     "output_type": "stream",
     "text": [
      "Accuracy on training set: -0.1698\n",
      "Accuracy on test set: -0.1747\n",
      "R^2:  -0.174668388294275\n"
     ]
    }
   ],
   "source": [
    "dectreeada = AdaBoostRegressor(base_estimator=DecisionTreeRegressor(max_depth=5), n_estimators=100, learning_rate=0.5, random_state=0)\n",
    "dectreeada.fit(X_train, y_train)\n",
    "\n",
    "print(\"Accuracy on training set: {:.4f}\".format(dectreeada.score(X_train, y_train)))\n",
    "print(\"Accuracy on test set: {:.4f}\".format(dectreeada.score(X_test, y_test)))\n",
    "\n",
    "y_preddectreeada = dectreeada.predict(X_test)\n",
    "print(\"R^2: \", r2_score(y_test, y_preddectreeada))"
   ]
  },
  {
   "cell_type": "code",
   "execution_count": 41,
   "metadata": {},
   "outputs": [
    {
     "name": "stdout",
     "output_type": "stream",
     "text": [
      "Accuracy on training set: 0.6303\n",
      "Accuracy on test set: 0.6139\n",
      "R^2:  0.6138963844493799\n"
     ]
    }
   ],
   "source": [
    "adarandomforest = AdaBoostRegressor(randomforest, n_estimators=200, learning_rate=0.5, random_state=0)\n",
    "adarandomforest.fit(X_train, y_train)\n",
    "\n",
    "print(\"Accuracy on training set: {:.4f}\".format(adarandomforest.score(X_train, y_train)))\n",
    "print(\"Accuracy on test set: {:.4f}\".format(adarandomforest.score(X_test, y_test)))\n",
    "\n",
    "y_predrandomforestada = adarandomforest.predict(X_test)\n",
    "print(\"R^2: \", r2_score(y_test, y_predrandomforestada))"
   ]
  },
  {
   "cell_type": "code",
   "execution_count": 42,
   "metadata": {},
   "outputs": [
    {
     "name": "stdout",
     "output_type": "stream",
     "text": [
      "Accuracy on training set: 0.5579\n",
      "Accuracy on test set: 0.5373\n",
      "R^2:  0.5373404528451966\n"
     ]
    }
   ],
   "source": [
    "gbrt = GradientBoostingRegressor(max_depth=2, n_estimators=3, learning_rate=1.0, random_state=0)\n",
    "gbrt.fit(X_train, y_train)\n",
    "\n",
    "print(\"Accuracy on training set: {:.4f}\".format(gbrt.score(X_train, y_train)))\n",
    "print(\"Accuracy on test set: {:.4f}\".format(gbrt.score(X_test, y_test)))\n",
    "\n",
    "y_predgbrt = gbrt.predict(X_test)\n",
    "print(\"R^2: \", r2_score(y_test, y_predgbrt))"
   ]
  },
  {
   "cell_type": "markdown",
   "metadata": {},
   "source": [
    "# PCA with Project 1 models"
   ]
  },
  {
   "cell_type": "code",
   "execution_count": 43,
   "metadata": {},
   "outputs": [],
   "source": [
    "from sklearn.decomposition import PCA\n",
    "\n",
    "pca = PCA(0.95)\n",
    "\n",
    "pca.fit(X_train)\n",
    "X_train_new = pca.transform(X_train)\n",
    "X_test_new = pca.transform(X_test)"
   ]
  },
  {
   "cell_type": "markdown",
   "metadata": {},
   "source": [
    "<b>Linear Regression</b>"
   ]
  },
  {
   "cell_type": "code",
   "execution_count": 44,
   "metadata": {},
   "outputs": [
    {
     "name": "stdout",
     "output_type": "stream",
     "text": [
      "lr.coef_: [ 1.28970222e-01  1.08515849e-01 -2.35824572e-02 -8.87549832e-02\n",
      " -1.26298509e-01  1.46315356e-02  5.59663432e-02 -1.98769889e-02\n",
      "  1.26979095e-01  9.96509984e-02 -1.28030913e-01  7.42721148e-02\n",
      " -4.01377891e-03 -2.64584411e-02  4.51901005e-02  3.65276454e-02\n",
      " -4.98337871e-02  1.10113691e-03  1.52834651e-02 -4.59285536e-02\n",
      "  7.14868701e-04  2.59583836e-03  2.12567273e-02  1.09543248e-02\n",
      " -2.09630231e-02  5.29614697e-03  2.24609048e-02  3.65613101e-02\n",
      "  6.11144965e-03  1.88073564e-02  2.21787200e-02 -2.28794908e-02\n",
      "  2.37695137e-02 -8.30715784e-04 -4.45589777e-03 -1.53235170e-03\n",
      " -1.22316232e-02  1.83800031e-02  2.27369389e-02 -7.35252296e-03\n",
      " -4.88813158e-03 -1.49808371e-02 -1.26783937e-02 -4.84090116e-04\n",
      " -1.30290141e-02  5.31757462e-04 -9.70616781e-07  6.08219537e-03\n",
      "  2.18571016e-02 -1.99030676e-02  9.00796404e-03  2.58571359e-03\n",
      " -4.27463185e-02 -2.37830197e-02 -3.08341956e-02 -2.36548369e-03\n",
      "  1.59937262e-02  2.72325180e-02 -1.04574865e-02  4.32438156e-02\n",
      " -5.41324396e-02  2.91956431e-02 -2.42225494e-02  3.47080504e-02\n",
      "  1.84808474e-02 -2.41790028e-02 -3.31465282e-02 -7.84104467e-02]\n",
      "lr.intercept_: 7.403578708970106\n",
      "Training set score: 0.4757\n",
      "Test set score: 0.4638\n",
      "R^2:  0.46382397873284664\n"
     ]
    }
   ],
   "source": [
    "from sklearn.linear_model import LinearRegression\n",
    "\n",
    "lr = LinearRegression()\n",
    "lr.fit(X_train_new, y_train)\n",
    "\n",
    "print(\"lr.coef_:\", lr.coef_)\n",
    "print(\"lr.intercept_:\", lr.intercept_)\n",
    "\n",
    "print(\"Training set score: {:.4f}\".format(lr.score(X_train_new, y_train)))\n",
    "print(\"Test set score: {:.4f}\".format(lr.score(X_test_new, y_test)))\n",
    "\n",
    "y_predlr = lr.predict(X_test_new)\n",
    "print(\"R^2: \", r2_score(y_test, y_predlr))"
   ]
  },
  {
   "cell_type": "markdown",
   "metadata": {},
   "source": [
    "<b>Lasso Regression</b>"
   ]
  },
  {
   "cell_type": "code",
   "execution_count": 45,
   "metadata": {},
   "outputs": [
    {
     "name": "stdout",
     "output_type": "stream",
     "text": [
      "{'mean_fit_time': array([0.59762347, 0.10650969, 0.02100241, 0.0180037 , 0.01700258]), 'std_fit_time': array([1.15801096e-02, 1.85017586e-02, 1.99925900e-03, 2.38418579e-07,\n",
      "       2.38418579e-07]), 'mean_score_time': array([0.00299978, 0.00250101, 0.00250053, 0.00199986, 0.00200081]), 'std_score_time': array([1.19209290e-06, 4.99248505e-04, 4.99725342e-04, 7.15255737e-07,\n",
      "       4.76837158e-07]), 'param_alpha': masked_array(data=[0.0001, 0.001, 0.01, 0.1, 1],\n",
      "             mask=[False, False, False, False, False],\n",
      "       fill_value='?',\n",
      "            dtype=object), 'params': [{'alpha': 0.0001}, {'alpha': 0.001}, {'alpha': 0.01}, {'alpha': 0.1}, {'alpha': 1}], 'split0_test_score': array([-2.18761634e+01,  4.30263331e-01,  4.54797329e-01,  3.12252721e-01,\n",
      "       -1.01362112e-05]), 'split1_test_score': array([-1.69098332e+00,  4.51278097e-01,  4.63218759e-01,  3.17057707e-01,\n",
      "       -1.00089162e-05]), 'mean_test_score': array([-1.17835734e+01,  4.40770714e-01,  4.59008044e-01,  3.14655214e-01,\n",
      "       -1.00725637e-05]), 'std_test_score': array([1.00925901e+01, 1.05073827e-02, 4.21071519e-03, 2.40249263e-03,\n",
      "       6.36475356e-08]), 'rank_test_score': array([5, 2, 1, 3, 4]), 'split0_train_score': array([0.49126715, 0.48014817, 0.46933478, 0.33037928, 0.        ]), 'split1_train_score': array([0.48206539, 0.47914916, 0.4689063 , 0.30441491, 0.        ]), 'mean_train_score': array([0.48666627, 0.47964866, 0.46912054, 0.3173971 , 0.        ]), 'std_train_score': array([0.00460088, 0.0004995 , 0.00021424, 0.01298218, 0.        ])}\n",
      "Lasso(alpha=0.01, copy_X=True, fit_intercept=True, max_iter=1000,\n",
      "      normalize=False, positive=False, precompute=False, random_state=None,\n",
      "      selection='cyclic', tol=0.0001, warm_start=False)\n",
      "Train score: 0.4661\n",
      "Test score: 0.4582\n",
      "R^2:  0.45818067412413077\n"
     ]
    }
   ],
   "source": [
    "from sklearn.linear_model import Lasso\n",
    "\n",
    "lasso_params = {'alpha':[0.0001, 0.001, 0.01, 0.1, 1]}\n",
    "lasso_reg = Lasso()\n",
    "\n",
    "lasso = GridSearchCV(lasso_reg,lasso_params,cv=2,return_train_score=True)\n",
    "lasso.fit(X_train_new,y_train)\n",
    "\n",
    "print(lasso.cv_results_)\n",
    "print(lasso.best_estimator_)\n",
    "print('Train score: {:.4f}'.format(lasso.score(X_train_new,y_train)))\n",
    "print('Test score: {:.4f}'.format(lasso.score(X_test_new, y_test)))\n",
    "\n",
    "y_pred_lasso = lasso.predict(X_test_new)\n",
    "print(\"R^2: \", r2_score(y_test, y_pred_lasso))"
   ]
  },
  {
   "cell_type": "markdown",
   "metadata": {},
   "source": [
    "<b>Ridge Regression</b>"
   ]
  },
  {
   "cell_type": "code",
   "execution_count": 46,
   "metadata": {},
   "outputs": [
    {
     "name": "stdout",
     "output_type": "stream",
     "text": [
      "{'mean_fit_time': array([0.02128732, 0.01850188, 0.01950049, 0.01900232, 0.01950228]), 'std_fit_time': array([1.28829479e-03, 4.99844551e-04, 4.99010086e-04, 8.34465027e-07,\n",
      "       5.00798225e-04]), 'mean_score_time': array([0.00275683, 0.0029999 , 0.00200021, 0.00299919, 0.00300002]), 'std_score_time': array([2.44855881e-04, 1.19209290e-07, 1.19209290e-07, 1.07288361e-06,\n",
      "       0.00000000e+00]), 'param_alpha': masked_array(data=[0.0001, 0.001, 0.01, 0.1, 1],\n",
      "             mask=[False, False, False, False, False],\n",
      "       fill_value='?',\n",
      "            dtype=object), 'params': [{'alpha': 0.0001}, {'alpha': 0.001}, {'alpha': 0.01}, {'alpha': 0.1}, {'alpha': 1}], 'split0_test_score': array([-69.56869377, -69.52591809, -69.10067036, -65.08564057,\n",
      "       -40.00503651]), 'split1_test_score': array([-11.86341541, -11.85856029, -11.81017446, -11.34235544,\n",
      "        -7.8849761 ]), 'mean_test_score': array([-40.71605459, -40.69223919, -40.45542241, -38.21399801,\n",
      "       -23.9450063 ]), 'std_test_score': array([28.85263918, 28.8336789 , 28.64524795, 26.87164256, 16.06003021]), 'rank_test_score': array([5, 4, 3, 2, 1]), 'split0_train_score': array([0.49379198, 0.49379198, 0.49379185, 0.49378038, 0.49313669]), 'split1_train_score': array([0.48317569, 0.48317569, 0.48317568, 0.4831743 , 0.48307948]), 'mean_train_score': array([0.48848383, 0.48848383, 0.48848377, 0.48847734, 0.48810808]), 'std_train_score': array([0.00530814, 0.00530814, 0.00530809, 0.00530304, 0.00502861])}\n",
      "Ridge(alpha=1, copy_X=True, fit_intercept=True, max_iter=None, normalize=False,\n",
      "      random_state=None, solver='auto', tol=0.001)\n",
      "Train score: 0.4757\n",
      "Test score: 0.4638\n",
      "R^2:  0.4638246052848526\n"
     ]
    }
   ],
   "source": [
    "from  sklearn.linear_model import Ridge\n",
    "\n",
    "ridge_params = {'alpha':[0.0001, 0.001, 0.01, 0.1, 1]}\n",
    "ridge_reg = Ridge()\n",
    "\n",
    "\n",
    "ridge = GridSearchCV(ridge_reg,ridge_params,cv=2,return_train_score=True)\n",
    "ridge.fit(X_train_new,y_train)\n",
    "\n",
    "print(ridge.cv_results_)\n",
    "print(ridge.best_estimator_)\n",
    "print('Train score: {:.4f}'.format(ridge.score(X_train_new,y_train)))\n",
    "print('Test score: {:.4f}'.format(ridge.score(X_test_new, y_test)))\n",
    "\n",
    "y_pred_ridge = ridge.predict(X_test_new)\n",
    "print(\"R^2: \", r2_score(y_test, y_pred_ridge))"
   ]
  },
  {
   "cell_type": "markdown",
   "metadata": {},
   "source": [
    "<b>Polynomial Regression</b>"
   ]
  },
  {
   "cell_type": "code",
   "execution_count": 47,
   "metadata": {},
   "outputs": [
    {
     "name": "stdout",
     "output_type": "stream",
     "text": [
      "Train score: 0.4757\n",
      "Test score: 0.4638\n"
     ]
    }
   ],
   "source": [
    "from sklearn.preprocessing import PolynomialFeatures\n",
    "\n",
    "poly = PolynomialFeatures(degree=1)\n",
    "X_train_poly = poly.fit_transform(X_train_new)\n",
    "X_test_poly = poly.transform(X_test_new)\n",
    "lr.fit(X_train_poly, y_train)\n",
    "\n",
    "print(\"Train score: {:.4f}\".format(lr.score(X_train_poly, y_train)))\n",
    "print(\"Test score: {:.4f}\".format(lr.score(X_test_poly, y_test)))"
   ]
  },
  {
   "cell_type": "markdown",
   "metadata": {},
   "source": [
    "<b>KNN Regressor</b>"
   ]
  },
  {
   "cell_type": "code",
   "execution_count": 48,
   "metadata": {},
   "outputs": [
    {
     "name": "stdout",
     "output_type": "stream",
     "text": [
      "{'mean_fit_time': array([0.04150093, 0.04500365, 0.05400145, 0.04100287, 0.04803622]), 'std_fit_time': array([0.00549924, 0.00100088, 0.00599825, 0.00100029, 0.00103295]), 'mean_score_time': array([ 9.15265989,  9.35702682,  9.80105543,  9.80634308, 10.01579499]), 'std_score_time': array([0.43726587, 0.31874275, 0.07948732, 0.38198996, 0.11672187]), 'param_n_neighbors': masked_array(data=[41, 43, 45, 47, 49],\n",
      "             mask=[False, False, False, False, False],\n",
      "       fill_value='?',\n",
      "            dtype=object), 'param_p': masked_array(data=[1, 1, 1, 1, 1],\n",
      "             mask=[False, False, False, False, False],\n",
      "       fill_value='?',\n",
      "            dtype=object), 'params': [{'n_neighbors': 41, 'p': 1}, {'n_neighbors': 43, 'p': 1}, {'n_neighbors': 45, 'p': 1}, {'n_neighbors': 47, 'p': 1}, {'n_neighbors': 49, 'p': 1}], 'split0_test_score': array([0.46785609, 0.462293  , 0.4596614 , 0.45630072, 0.45276708]), 'split1_test_score': array([0.46370901, 0.45978788, 0.45688779, 0.45427047, 0.45148829]), 'mean_test_score': array([0.46578255, 0.46104044, 0.45827459, 0.45528559, 0.45212768]), 'std_test_score': array([0.00207354, 0.00125256, 0.00138681, 0.00101513, 0.00063939]), 'rank_test_score': array([1, 2, 3, 4, 5]), 'split0_train_score': array([0.48490197, 0.47756972, 0.47307472, 0.46936162, 0.46605245]), 'split1_train_score': array([0.50068083, 0.4965014 , 0.49326116, 0.48928667, 0.48541594]), 'mean_train_score': array([0.4927914 , 0.48703556, 0.48316794, 0.47932414, 0.4757342 ]), 'std_train_score': array([0.00788943, 0.00946584, 0.01009322, 0.00996252, 0.00968174])}\n",
      "KNeighborsRegressor(algorithm='auto', leaf_size=30, metric='minkowski',\n",
      "                    metric_params=None, n_jobs=None, n_neighbors=41, p=1,\n",
      "                    weights='uniform')\n",
      "Train score: 0.5690\n",
      "Test score: 0.5046\n",
      "R^2:  0.5045939747697266\n"
     ]
    }
   ],
   "source": [
    "from sklearn.neighbors import KNeighborsRegressor\n",
    "\n",
    "knn_params = {'n_neighbors':[41, 43, 45, 47, 49],\n",
    "              'p': [1]}\n",
    "knn_reg = KNeighborsRegressor()\n",
    "\n",
    "knn = GridSearchCV(knn_reg,knn_params,cv=2,return_train_score=True)\n",
    "knn.fit(X_train_new, y_train)\n",
    "\n",
    "print(knn.cv_results_)\n",
    "print(knn.best_estimator_)\n",
    "print('Train score: {:.4f}'.format(knn.score(X_train_new,y_train)))\n",
    "print('Test score: {:.4f}'.format(knn.score(X_test_new,y_test)))\n",
    "\n",
    "y_pred_knn = knn.predict(X_test_new)\n",
    "print(\"R^2: \", r2_score(y_test, y_pred_knn))"
   ]
  },
  {
   "cell_type": "markdown",
   "metadata": {},
   "source": [
    "<b>Simple SVM</b>"
   ]
  },
  {
   "cell_type": "code",
   "execution_count": 49,
   "metadata": {},
   "outputs": [
    {
     "name": "stdout",
     "output_type": "stream",
     "text": [
      "{'mean_fit_time': array([1.77096069, 0.83706152, 0.21751559, 0.02950156, 0.01950097,\n",
      "       3.44091952, 2.7310971 , 0.46681082, 0.03050268, 0.01800096,\n",
      "       4.5175432 , 3.53217793, 2.51401365, 0.02800262, 0.01850188,\n",
      "       4.85626745, 4.71004009, 3.4335798 , 0.02900207, 0.02200174,\n",
      "       5.09444261, 5.02496564, 3.62213373, 0.03500223, 0.01950037]), 'std_fit_time': array([2.33737350e-01, 1.23009562e-01, 6.50012493e-03, 3.50010395e-03,\n",
      "       5.00202179e-04, 2.09510326e-03, 1.42949820e-02, 1.22233033e-01,\n",
      "       5.49972057e-03, 1.19209290e-07, 2.82827616e-02, 5.57000637e-02,\n",
      "       4.36777472e-01, 3.00109386e-03, 5.00082970e-04, 6.87215328e-02,\n",
      "       1.48742199e-02, 7.65597820e-03, 3.00014019e-03, 1.00016594e-03,\n",
      "       9.65170860e-02, 1.78900957e-02, 1.14018679e-01, 9.00125504e-03,\n",
      "       4.99129295e-04]), 'mean_score_time': array([0.00200105, 0.00250196, 0.00200105, 0.00200093, 0.00200081,\n",
      "       0.00250101, 0.00200057, 0.0024997 , 0.00250101, 0.00300062,\n",
      "       0.0020014 , 0.00250161, 0.00300062, 0.00249934, 0.00250018,\n",
      "       0.00250149, 0.00300145, 0.00300348, 0.00250018, 0.00300002,\n",
      "       0.00250196, 0.00250137, 0.00250173, 0.00200105, 0.00200057]), 'std_score_time': array([1.19209290e-06, 4.99248505e-04, 0.00000000e+00, 3.57627869e-07,\n",
      "       2.38418579e-07, 4.99725342e-04, 4.76837158e-07, 5.00082970e-04,\n",
      "       5.00202179e-04, 1.19209290e-07, 1.31130219e-06, 5.00082970e-04,\n",
      "       1.54972076e-06, 5.00679016e-04, 4.99844551e-04, 5.01394272e-04,\n",
      "       1.66893005e-06, 3.21865082e-06, 4.99844551e-04, 0.00000000e+00,\n",
      "       4.96149063e-04, 5.00559807e-04, 4.99486923e-04, 9.53674316e-07,\n",
      "       0.00000000e+00]), 'param_C': masked_array(data=[0.01, 0.01, 0.01, 0.01, 0.01, 0.1, 0.1, 0.1, 0.1, 0.1,\n",
      "                   1, 1, 1, 1, 1, 10, 10, 10, 10, 10, 100, 100, 100, 100,\n",
      "                   100],\n",
      "             mask=[False, False, False, False, False, False, False, False,\n",
      "                   False, False, False, False, False, False, False, False,\n",
      "                   False, False, False, False, False, False, False, False,\n",
      "                   False],\n",
      "       fill_value='?',\n",
      "            dtype=object), 'param_epsilon': masked_array(data=[0.01, 0.1, 1, 10, 100, 0.01, 0.1, 1, 10, 100, 0.01,\n",
      "                   0.1, 1, 10, 100, 0.01, 0.1, 1, 10, 100, 0.01, 0.1, 1,\n",
      "                   10, 100],\n",
      "             mask=[False, False, False, False, False, False, False, False,\n",
      "                   False, False, False, False, False, False, False, False,\n",
      "                   False, False, False, False, False, False, False, False,\n",
      "                   False],\n",
      "       fill_value='?',\n",
      "            dtype=object), 'params': [{'C': 0.01, 'epsilon': 0.01}, {'C': 0.01, 'epsilon': 0.1}, {'C': 0.01, 'epsilon': 1}, {'C': 0.01, 'epsilon': 10}, {'C': 0.01, 'epsilon': 100}, {'C': 0.1, 'epsilon': 0.01}, {'C': 0.1, 'epsilon': 0.1}, {'C': 0.1, 'epsilon': 1}, {'C': 0.1, 'epsilon': 10}, {'C': 0.1, 'epsilon': 100}, {'C': 1, 'epsilon': 0.01}, {'C': 1, 'epsilon': 0.1}, {'C': 1, 'epsilon': 1}, {'C': 1, 'epsilon': 10}, {'C': 1, 'epsilon': 100}, {'C': 10, 'epsilon': 0.01}, {'C': 10, 'epsilon': 0.1}, {'C': 10, 'epsilon': 1}, {'C': 10, 'epsilon': 10}, {'C': 10, 'epsilon': 100}, {'C': 100, 'epsilon': 0.01}, {'C': 100, 'epsilon': 0.1}, {'C': 100, 'epsilon': 1}, {'C': 100, 'epsilon': 10}, {'C': 100, 'epsilon': 100}], 'split0_test_score': array([-1.29492049e+00, -7.84776293e-02, -5.82256222e-01, -1.01681741e+02,\n",
      "       -1.04435911e+02, -2.27473071e+01, -8.52517152e+00, -8.11177225e-01,\n",
      "       -9.98999822e+01, -1.04435911e+02, -3.55561050e+01, -2.59451616e+01,\n",
      "       -1.33024022e+01, -9.98999403e+01, -1.04435911e+02, -4.09453280e+01,\n",
      "       -3.51178185e+01, -5.22540919e+01, -9.98999133e+01, -1.04435911e+02,\n",
      "       -5.37085310e+01, -7.27959297e+01, -8.92725011e+01, -9.98999226e+01,\n",
      "       -1.04435911e+02]), 'split1_test_score': array([ 9.75765136e-02,  2.96428342e-01, -4.69171387e-01, -1.00543015e+02,\n",
      "       -1.03188623e+02, -2.40454645e-01,  8.35839553e-02, -3.17189942e-01,\n",
      "       -1.00450374e+02, -1.03188623e+02, -4.36497588e+00,  6.86510468e-02,\n",
      "       -1.47087442e+00, -1.00450427e+02, -1.03188623e+02, -2.83692195e-01,\n",
      "       -8.72059219e-01, -7.79407824e-01, -1.00450385e+02, -1.03188623e+02,\n",
      "       -4.97064998e+00, -7.16758523e+00, -1.37197123e+00, -1.00450451e+02,\n",
      "       -1.03188623e+02]), 'mean_test_score': array([  -0.59867199,    0.10897536,   -0.5257138 , -101.11237809,\n",
      "       -103.81226677,  -11.49388088,   -4.22079378,   -0.56418358,\n",
      "       -100.17517801, -103.81226677,  -19.96054047,  -12.93825529,\n",
      "         -7.3866383 , -100.17518363, -103.81226677,  -20.61451012,\n",
      "        -17.99493886,  -26.51674986, -100.17514939, -103.81226677,\n",
      "        -29.33959051,  -39.98175749,  -45.32223617, -100.17518677,\n",
      "       -103.81226677]), 'std_test_score': array([ 0.6962485 ,  0.18745299,  0.05654242,  0.56936272,  0.62364413,\n",
      "       11.25342624,  4.30437774,  0.24699364,  0.27519577,  0.62364413,\n",
      "       15.59556458, 13.00690634,  5.91576388,  0.27524334,  0.62364413,\n",
      "       20.33081792, 17.12287964, 25.73734203,  0.27523607,  0.62364413,\n",
      "       24.36894053, 32.81417226, 43.95026494,  0.27526419,  0.62364413]), 'rank_test_score': array([ 4,  1,  2, 20, 21,  7,  5,  3, 17, 21, 10,  8,  6, 18, 21, 11,  9,\n",
      "       12, 16, 21, 13, 14, 15, 19, 21]), 'split0_train_score': array([ 2.61591193e-01,  3.16688098e-01, -3.66943062e-01, -1.00271802e+02,\n",
      "       -1.03188623e+02,  2.99593040e-01,  3.78982746e-01,  2.78583293e-01,\n",
      "       -9.84908740e+01, -1.03188623e+02,  3.02348946e-01,  3.90947079e-01,\n",
      "        2.46650669e-01, -9.84908226e+01, -1.03188623e+02,  3.29587126e-01,\n",
      "        2.71349128e-01,  5.89507900e-02, -9.84907833e+01, -1.03188623e+02,\n",
      "        5.25584254e-02, -3.52885026e-01, -1.48316554e-01, -9.84908101e+01,\n",
      "       -1.03188623e+02]), 'split1_train_score': array([ 2.00095840e-01,  3.17718672e-01, -3.69603761e-01, -1.01932179e+02,\n",
      "       -1.04435911e+02,  2.39133725e-01,  3.56232685e-01,  2.96253195e-01,\n",
      "       -1.01838860e+02, -1.04435911e+02,  2.89550131e-01,  3.63910544e-01,\n",
      "        1.91175801e-01, -1.01838898e+02, -1.04435911e+02,  8.87326961e-02,\n",
      "        3.18256640e-01,  9.81544728e-03, -1.01838865e+02, -1.04435911e+02,\n",
      "        3.74738914e-02, -1.33263247e-01, -1.56826897e-01, -1.01838928e+02,\n",
      "       -1.04435911e+02]), 'mean_train_score': array([ 2.30843517e-01,  3.17203385e-01, -3.68273412e-01, -1.01101990e+02,\n",
      "       -1.03812267e+02,  2.69363382e-01,  3.67607716e-01,  2.87418244e-01,\n",
      "       -1.00164867e+02, -1.03812267e+02,  2.95949539e-01,  3.77428812e-01,\n",
      "        2.18913235e-01, -1.00164860e+02, -1.03812267e+02,  2.09159911e-01,\n",
      "        2.94802884e-01,  3.43831186e-02, -1.00164824e+02, -1.03812267e+02,\n",
      "        4.50161584e-02, -2.43074137e-01, -1.52571726e-01, -1.00164869e+02,\n",
      "       -1.03812267e+02]), 'std_train_score': array([3.07476761e-02, 5.15287242e-04, 1.33034906e-03, 8.30188353e-01,\n",
      "       6.23644125e-01, 3.02296573e-02, 1.13750304e-02, 8.83495099e-03,\n",
      "       1.67399303e+00, 6.23644125e-01, 6.39940772e-03, 1.35182675e-02,\n",
      "       2.77374339e-02, 1.67403750e+00, 6.23644125e-01, 1.20427215e-01,\n",
      "       2.34537558e-02, 2.45676713e-02, 1.67404098e+00, 6.23644125e-01,\n",
      "       7.54226700e-03, 1.09810890e-01, 4.25517178e-03, 1.67405917e+00,\n",
      "       6.23644125e-01])}\n",
      "LinearSVR(C=0.01, dual=True, epsilon=0.1, fit_intercept=True,\n",
      "          intercept_scaling=1.0, loss='epsilon_insensitive', max_iter=1000,\n",
      "          random_state=None, tol=0.0001, verbose=0)\n",
      "Train score: 0.3300\n",
      "Test score: 0.3126\n",
      "R^2:  0.31258246701483505\n"
     ]
    }
   ],
   "source": [
    "from sklearn.svm import SVR, LinearSVR\n",
    "\n",
    "svm_simple_params = {'C':[0.01,0.1,1,10,100],\n",
    "                     'epsilon':[0.01,0.1,1,10,100]\n",
    "                    }\n",
    "\n",
    "svm_simple_reg = LinearSVR()\n",
    "svm_simple = GridSearchCV(estimator=svm_simple_reg,param_grid=svm_simple_params,cv=2,return_train_score=True)\n",
    "\n",
    "svm_simple.fit(X_train_new, y_train)\n",
    "\n",
    "print(svm_simple.cv_results_)\n",
    "print(svm_simple.best_estimator_)\n",
    "print('Train score: {:.4f}'.format(svm_simple.score(X_train_new,y_train)))\n",
    "print('Test score: {:.4f}'.format(svm_simple.score(X_test_new,y_test)))\n",
    "\n",
    "y_pred_svm_simple = svm_simple.predict(X_test_new)\n",
    "print(\"R^2: \", r2_score(y_test, y_pred_svm_simple))"
   ]
  },
  {
   "cell_type": "markdown",
   "metadata": {},
   "source": [
    "<b>SVM with kernels</b>"
   ]
  },
  {
   "cell_type": "code",
   "execution_count": 50,
   "metadata": {},
   "outputs": [
    {
     "name": "stdout",
     "output_type": "stream",
     "text": [
      "{'mean_fit_time': array([2.17138147, 3.09742916, 4.92754912, 3.36204159, 3.33995938,\n",
      "       4.61927879, 7.53167653, 4.22281814, 6.2589159 ]), 'std_fit_time': array([0.02310967, 0.1238085 , 0.02808261, 0.26099789, 0.41880679,\n",
      "       0.03849351, 0.0487082 , 0.20246124, 0.47584605]), 'mean_score_time': array([1.34087729, 1.88232124, 2.85550845, 1.2034862 , 1.70011568,\n",
      "       2.54726291, 1.38764524, 1.68657255, 2.80170977]), 'std_score_time': array([0.10878611, 0.01196373, 0.00570428, 0.00360417, 0.0965991 ,\n",
      "       0.07108378, 0.08604074, 0.02140594, 0.26544154]), 'param_C': masked_array(data=[1, 1, 1, 10, 10, 10, 100, 100, 100],\n",
      "             mask=[False, False, False, False, False, False, False, False,\n",
      "                   False],\n",
      "       fill_value='?',\n",
      "            dtype=object), 'param_gamma': masked_array(data=[0.01, 0.1, 1, 0.01, 0.1, 1, 0.01, 0.1, 1],\n",
      "             mask=[False, False, False, False, False, False, False, False,\n",
      "                   False],\n",
      "       fill_value='?',\n",
      "            dtype=object), 'param_kernel': masked_array(data=['rbf', 'rbf', 'rbf', 'rbf', 'rbf', 'rbf', 'rbf', 'rbf',\n",
      "                   'rbf'],\n",
      "             mask=[False, False, False, False, False, False, False, False,\n",
      "                   False],\n",
      "       fill_value='?',\n",
      "            dtype=object), 'params': [{'C': 1, 'gamma': 0.01, 'kernel': 'rbf'}, {'C': 1, 'gamma': 0.1, 'kernel': 'rbf'}, {'C': 1, 'gamma': 1, 'kernel': 'rbf'}, {'C': 10, 'gamma': 0.01, 'kernel': 'rbf'}, {'C': 10, 'gamma': 0.1, 'kernel': 'rbf'}, {'C': 10, 'gamma': 1, 'kernel': 'rbf'}, {'C': 100, 'gamma': 0.01, 'kernel': 'rbf'}, {'C': 100, 'gamma': 0.1, 'kernel': 'rbf'}, {'C': 100, 'gamma': 1, 'kernel': 'rbf'}], 'split0_test_score': array([0.62138892, 0.56130776, 0.38026017, 0.67161463, 0.59019287,\n",
      "       0.44237535, 0.63323224, 0.55713071, 0.41916534]), 'split1_test_score': array([0.62577713, 0.55904014, 0.39240262, 0.66678074, 0.58253066,\n",
      "       0.43315157, 0.5958792 , 0.52926928, 0.41412811]), 'mean_test_score': array([0.62358302, 0.56017395, 0.38633139, 0.66919768, 0.58636177,\n",
      "       0.43776346, 0.61455572, 0.5432    , 0.41664673]), 'std_test_score': array([0.0021941 , 0.00113381, 0.00607123, 0.00241695, 0.00383111,\n",
      "       0.00461189, 0.01867652, 0.01393072, 0.00251862]), 'rank_test_score': array([2, 5, 9, 1, 4, 7, 3, 6, 8]), 'split0_train_score': array([0.68444876, 0.80276161, 0.77481385, 0.81697097, 0.92990785,\n",
      "       0.96987964, 0.8901874 , 0.95863072, 0.98322017]), 'split1_train_score': array([0.6792691 , 0.80173583, 0.78467233, 0.80527751, 0.92234509,\n",
      "       0.96763789, 0.87767866, 0.95538014, 0.97867433]), 'mean_train_score': array([0.68185893, 0.80224872, 0.77974309, 0.81112424, 0.92612647,\n",
      "       0.96875876, 0.88393303, 0.95700543, 0.98094725]), 'std_train_score': array([0.00258983, 0.00051289, 0.00492924, 0.00584673, 0.00378138,\n",
      "       0.00112087, 0.00625437, 0.00162529, 0.00227292])}\n",
      "SVR(C=10, cache_size=200, coef0=0.0, degree=3, epsilon=0.1, gamma=0.01,\n",
      "    kernel='rbf', max_iter=-1, shrinking=True, tol=0.001, verbose=False)\n",
      "Train score: 0.7988\n",
      "Test score: 0.6922\n",
      "R^2:  0.6922223659539686\n"
     ]
    }
   ],
   "source": [
    "svm_rbf_params = {'C':[1,10,100],\n",
    "                  'gamma':[.01,.1,1],\n",
    "                  'kernel':['rbf']\n",
    "                 }\n",
    "\n",
    "svm_rbf_reg = SVR()\n",
    "svm_rbf = GridSearchCV(svm_rbf_reg,svm_rbf_params,cv=2,return_train_score=True)\n",
    "\n",
    "svm_rbf.fit(X_train_new, y_train)\n",
    "\n",
    "print(svm_rbf.cv_results_)\n",
    "print(svm_rbf.best_estimator_)\n",
    "print('Train score: {:.4f}'.format(svm_rbf.score(X_train_new,y_train)))\n",
    "print('Test score: {:.4f}'.format(svm_rbf.score(X_test_new,y_test)))\n",
    "\n",
    "y_pred_svm_rbf = svm_rbf.predict(X_test_new)\n",
    "print(\"R^2: \", r2_score(y_test, y_pred_svm_rbf))"
   ]
  },
  {
   "cell_type": "code",
   "execution_count": 51,
   "metadata": {},
   "outputs": [
    {
     "data": {
      "text/plain": [
       "'\\nsvm_poly_params = {\\'C\\':[1,10,100],\\n                  \\'gamma\\':[.01,.1,1],\\n                  \\'kernel\\':[\\'poly\\']\\n                 }\\n\\nsvm_poly_reg = SVR()\\nsvm_poly = GridSearchCV(svm_poly_reg,svm_poly_params,cv=2,return_train_score=True,n_jobs=-1)\\n\\nsvm_poly.fit(X_train_new, y_train)\\n\\nprint(svm_poly.cv_results_)\\nprint(svm_poly.best_estimator_)\\nprint(\\'Train score: {:.4f}\\'.format(svm_poly.score(X_train_new,y_train)))\\nprint(\\'Test score: {:.4f}\\'.format(svm_poly.score(X_test_new,y_test)))\\n\\ny_pred_svm_poly = svm_poly.predict(X_test_new)\\nprint(\"R^2: \", r2_score(y_test, y_pred_svm_poly))\\n'"
      ]
     },
     "execution_count": 51,
     "metadata": {},
     "output_type": "execute_result"
    }
   ],
   "source": [
    "'''\n",
    "svm_poly_params = {'C':[1,10,100],\n",
    "                  'gamma':[.01,.1,1],\n",
    "                  'kernel':['poly']\n",
    "                 }\n",
    "\n",
    "svm_poly_reg = SVR()\n",
    "svm_poly = GridSearchCV(svm_poly_reg,svm_poly_params,cv=2,return_train_score=True,n_jobs=-1)\n",
    "\n",
    "svm_poly.fit(X_train_new, y_train)\n",
    "\n",
    "print(svm_poly.cv_results_)\n",
    "print(svm_poly.best_estimator_)\n",
    "print('Train score: {:.4f}'.format(svm_poly.score(X_train_new,y_train)))\n",
    "print('Test score: {:.4f}'.format(svm_poly.score(X_test_new,y_test)))\n",
    "\n",
    "y_pred_svm_poly = svm_poly.predict(X_test_new)\n",
    "print(\"R^2: \", r2_score(y_test, y_pred_svm_poly))\n",
    "'''"
   ]
  },
  {
   "cell_type": "code",
   "execution_count": 52,
   "metadata": {},
   "outputs": [
    {
     "data": {
      "text/plain": [
       "'\\nsvm_linear_params = {\\'C\\':[1,10,100],\\n                     \\'gamma\\':[.01,.1,1],\\n                     \\'kernel\\':[\\'linear\\']\\n                    }\\n\\nsvm_linear_reg = SVR()\\nsvm_linear = GridSearchCV(svm_linear_reg,svm_linear_params,cv=2,return_train_score=True,n_jobs=-1)\\n\\nsvm_linear.fit(X_train_new, y_train)\\n\\nprint(svm_linear.cv_results_)\\nprint(svm_linear.best_estimator_)\\nprint(\\'Train score: {:.4f}\\'.format(svm_linear.score(X_train_new,y_train)))\\nprint(\\'Test score: {:.4f}\\'.format(svm_linear.score(X_test_new,y_test)))\\n\\ny_pred_svm_linear = svm_linear.predict(X_test_new)\\nprint(\"R^2: \", r2_score(y_test, y_pred_svm_linear))\\n'"
      ]
     },
     "execution_count": 52,
     "metadata": {},
     "output_type": "execute_result"
    }
   ],
   "source": [
    "'''\n",
    "svm_linear_params = {'C':[1,10,100],\n",
    "                     'gamma':[.01,.1,1],\n",
    "                     'kernel':['linear']\n",
    "                    }\n",
    "\n",
    "svm_linear_reg = SVR()\n",
    "svm_linear = GridSearchCV(svm_linear_reg,svm_linear_params,cv=2,return_train_score=True,n_jobs=-1)\n",
    "\n",
    "svm_linear.fit(X_train_new, y_train)\n",
    "\n",
    "print(svm_linear.cv_results_)\n",
    "print(svm_linear.best_estimator_)\n",
    "print('Train score: {:.4f}'.format(svm_linear.score(X_train_new,y_train)))\n",
    "print('Test score: {:.4f}'.format(svm_linear.score(X_test_new,y_test)))\n",
    "\n",
    "y_pred_svm_linear = svm_linear.predict(X_test_new)\n",
    "print(\"R^2: \", r2_score(y_test, y_pred_svm_linear))\n",
    "'''"
   ]
  },
  {
   "cell_type": "markdown",
   "metadata": {},
   "source": [
    "# Deep Learning Models"
   ]
  },
  {
   "cell_type": "code",
   "execution_count": 53,
   "metadata": {},
   "outputs": [
    {
     "name": "stdout",
     "output_type": "stream",
     "text": [
      "Requirement already satisfied: tensorflow in c:\\users\\samip\\anaconda3\\lib\\site-packages (2.3.1)\n",
      "Requirement already satisfied: opt-einsum>=2.3.2 in c:\\users\\samip\\anaconda3\\lib\\site-packages (from tensorflow) (3.3.0)\n",
      "Requirement already satisfied: astunparse==1.6.3 in c:\\users\\samip\\anaconda3\\lib\\site-packages (from tensorflow) (1.6.3)\n",
      "Requirement already satisfied: tensorflow-estimator<2.4.0,>=2.3.0 in c:\\users\\samip\\anaconda3\\lib\\site-packages (from tensorflow) (2.3.0)\n",
      "Requirement already satisfied: absl-py>=0.7.0 in c:\\users\\samip\\anaconda3\\lib\\site-packages (from tensorflow) (0.11.0)\n",
      "Requirement already satisfied: wrapt>=1.11.1 in c:\\users\\samip\\anaconda3\\lib\\site-packages (from tensorflow) (1.11.2)\n",
      "Requirement already satisfied: six>=1.12.0 in c:\\users\\samip\\anaconda3\\lib\\site-packages (from tensorflow) (1.12.0)\n",
      "Requirement already satisfied: tensorboard<3,>=2.3.0 in c:\\users\\samip\\anaconda3\\lib\\site-packages (from tensorflow) (2.4.0)\n",
      "Requirement already satisfied: keras-preprocessing<1.2,>=1.1.1 in c:\\users\\samip\\anaconda3\\lib\\site-packages (from tensorflow) (1.1.2)\n",
      "Requirement already satisfied: gast==0.3.3 in c:\\users\\samip\\anaconda3\\lib\\site-packages (from tensorflow) (0.3.3)\n",
      "Requirement already satisfied: google-pasta>=0.1.8 in c:\\users\\samip\\anaconda3\\lib\\site-packages (from tensorflow) (0.2.0)\n",
      "Requirement already satisfied: termcolor>=1.1.0 in c:\\users\\samip\\anaconda3\\lib\\site-packages (from tensorflow) (1.1.0)\n",
      "Requirement already satisfied: wheel>=0.26 in c:\\users\\samip\\anaconda3\\lib\\site-packages (from tensorflow) (0.33.6)\n",
      "Requirement already satisfied: h5py<2.11.0,>=2.10.0 in c:\\users\\samip\\anaconda3\\lib\\site-packages (from tensorflow) (2.10.0)\n",
      "Requirement already satisfied: grpcio>=1.8.6 in c:\\users\\samip\\anaconda3\\lib\\site-packages (from tensorflow) (1.33.2)\n",
      "Requirement already satisfied: protobuf>=3.9.2 in c:\\users\\samip\\anaconda3\\lib\\site-packages (from tensorflow) (3.14.0)\n",
      "Requirement already satisfied: numpy<1.19.0,>=1.16.0 in c:\\users\\samip\\anaconda3\\lib\\site-packages (from tensorflow) (1.16.5)\n",
      "Requirement already satisfied: tensorboard-plugin-wit>=1.6.0 in c:\\users\\samip\\anaconda3\\lib\\site-packages (from tensorboard<3,>=2.3.0->tensorflow) (1.7.0)\n",
      "Requirement already satisfied: markdown>=2.6.8 in c:\\users\\samip\\anaconda3\\lib\\site-packages (from tensorboard<3,>=2.3.0->tensorflow) (3.3.3)\n",
      "Requirement already satisfied: google-auth<2,>=1.6.3 in c:\\users\\samip\\anaconda3\\lib\\site-packages (from tensorboard<3,>=2.3.0->tensorflow) (1.23.0)\n",
      "Requirement already satisfied: requests<3,>=2.21.0 in c:\\users\\samip\\anaconda3\\lib\\site-packages (from tensorboard<3,>=2.3.0->tensorflow) (2.22.0)\n",
      "Requirement already satisfied: werkzeug>=0.11.15 in c:\\users\\samip\\anaconda3\\lib\\site-packages (from tensorboard<3,>=2.3.0->tensorflow) (0.16.0)\n",
      "Requirement already satisfied: setuptools>=41.0.0 in c:\\users\\samip\\anaconda3\\lib\\site-packages (from tensorboard<3,>=2.3.0->tensorflow) (41.4.0)\n",
      "Requirement already satisfied: google-auth-oauthlib<0.5,>=0.4.1 in c:\\users\\samip\\anaconda3\\lib\\site-packages (from tensorboard<3,>=2.3.0->tensorflow) (0.4.2)\n",
      "Requirement already satisfied: importlib-metadata; python_version < \"3.8\" in c:\\users\\samip\\anaconda3\\lib\\site-packages (from markdown>=2.6.8->tensorboard<3,>=2.3.0->tensorflow) (0.23)\n",
      "Requirement already satisfied: cachetools<5.0,>=2.0.0 in c:\\users\\samip\\anaconda3\\lib\\site-packages (from google-auth<2,>=1.6.3->tensorboard<3,>=2.3.0->tensorflow) (4.1.1)\n",
      "Requirement already satisfied: pyasn1-modules>=0.2.1 in c:\\users\\samip\\anaconda3\\lib\\site-packages (from google-auth<2,>=1.6.3->tensorboard<3,>=2.3.0->tensorflow) (0.2.8)\n",
      "Requirement already satisfied: rsa<5,>=3.1.4; python_version >= \"3.5\" in c:\\users\\samip\\anaconda3\\lib\\site-packages (from google-auth<2,>=1.6.3->tensorboard<3,>=2.3.0->tensorflow) (4.6)\n",
      "Requirement already satisfied: urllib3!=1.25.0,!=1.25.1,<1.26,>=1.21.1 in c:\\users\\samip\\anaconda3\\lib\\site-packages (from requests<3,>=2.21.0->tensorboard<3,>=2.3.0->tensorflow) (1.24.2)\n",
      "Requirement already satisfied: certifi>=2017.4.17 in c:\\users\\samip\\anaconda3\\lib\\site-packages (from requests<3,>=2.21.0->tensorboard<3,>=2.3.0->tensorflow) (2019.9.11)\n",
      "Requirement already satisfied: idna<2.9,>=2.5 in c:\\users\\samip\\anaconda3\\lib\\site-packages (from requests<3,>=2.21.0->tensorboard<3,>=2.3.0->tensorflow) (2.8)\n",
      "Requirement already satisfied: chardet<3.1.0,>=3.0.2 in c:\\users\\samip\\anaconda3\\lib\\site-packages (from requests<3,>=2.21.0->tensorboard<3,>=2.3.0->tensorflow) (3.0.4)\n",
      "Requirement already satisfied: requests-oauthlib>=0.7.0 in c:\\users\\samip\\anaconda3\\lib\\site-packages (from google-auth-oauthlib<0.5,>=0.4.1->tensorboard<3,>=2.3.0->tensorflow) (1.3.0)\n",
      "Requirement already satisfied: zipp>=0.5 in c:\\users\\samip\\anaconda3\\lib\\site-packages (from importlib-metadata; python_version < \"3.8\"->markdown>=2.6.8->tensorboard<3,>=2.3.0->tensorflow) (0.6.0)\n",
      "Requirement already satisfied: pyasn1<0.5.0,>=0.4.6 in c:\\users\\samip\\anaconda3\\lib\\site-packages (from pyasn1-modules>=0.2.1->google-auth<2,>=1.6.3->tensorboard<3,>=2.3.0->tensorflow) (0.4.8)\n",
      "Requirement already satisfied: oauthlib>=3.0.0 in c:\\users\\samip\\anaconda3\\lib\\site-packages (from requests-oauthlib>=0.7.0->google-auth-oauthlib<0.5,>=0.4.1->tensorboard<3,>=2.3.0->tensorflow) (3.1.0)\n",
      "Requirement already satisfied: more-itertools in c:\\users\\samip\\anaconda3\\lib\\site-packages (from zipp>=0.5->importlib-metadata; python_version < \"3.8\"->markdown>=2.6.8->tensorboard<3,>=2.3.0->tensorflow) (7.2.0)\n",
      "Note: you may need to restart the kernel to use updated packages.\n"
     ]
    }
   ],
   "source": [
    "pip install tensorflow"
   ]
  },
  {
   "cell_type": "code",
   "execution_count": 54,
   "metadata": {},
   "outputs": [
    {
     "name": "stdout",
     "output_type": "stream",
     "text": [
      "Requirement already satisfied: keras in c:\\users\\samip\\anaconda3\\lib\\site-packages (2.4.3)\n",
      "Requirement already satisfied: h5py in c:\\users\\samip\\anaconda3\\lib\\site-packages (from keras) (2.10.0)\n",
      "Requirement already satisfied: pyyaml in c:\\users\\samip\\anaconda3\\lib\\site-packages (from keras) (5.1.2)\n",
      "Requirement already satisfied: scipy>=0.14 in c:\\users\\samip\\anaconda3\\lib\\site-packages (from keras) (1.3.1)\n",
      "Requirement already satisfied: numpy>=1.9.1 in c:\\users\\samip\\anaconda3\\lib\\site-packages (from keras) (1.16.5)\n",
      "Requirement already satisfied: six in c:\\users\\samip\\anaconda3\\lib\\site-packages (from h5py->keras) (1.12.0)\n",
      "Note: you may need to restart the kernel to use updated packages.\n"
     ]
    }
   ],
   "source": [
    "pip install keras"
   ]
  },
  {
   "cell_type": "code",
   "execution_count": 55,
   "metadata": {},
   "outputs": [],
   "source": [
    "import tensorflow as tf"
   ]
  },
  {
   "cell_type": "code",
   "execution_count": 56,
   "metadata": {},
   "outputs": [],
   "source": [
    "from keras.models import Sequential\n",
    "from keras.layers import Dense"
   ]
  },
  {
   "cell_type": "code",
   "execution_count": 57,
   "metadata": {},
   "outputs": [
    {
     "name": "stdout",
     "output_type": "stream",
     "text": [
      "938/938 [==============================] - 1s 769us/step - loss: 1.1344 - mse: 1.1344\n",
      "196/196 [==============================] - 0s 694us/step - loss: 0.2474 - mse: 0.2474\n",
      "Train score: 0.5019\n",
      "Test score: 0.5368\n"
     ]
    }
   ],
   "source": [
    "dlmodel = Sequential()\n",
    "dlmodel.add(Dense(82, input_dim=82, kernel_initializer='normal', activation='relu'))\n",
    "dlmodel.add(Dense(21, kernel_initializer='normal', activation='relu'))\n",
    "dlmodel.add(Dense(1, kernel_initializer='normal'))\n",
    "\n",
    "dlmodel.compile(loss='mse', optimizer='sgd' , metrics = ['mse'])\n",
    "dlmodel.fit(X_train, y_train, epochs = 1, batch_size = 20)\n",
    "\n",
    "dlmodel.evaluate(X_test, y_test)\n",
    "\n",
    "y_train_predictdl = dlmodel.predict(X_train)\n",
    "y_test_predictdl = dlmodel.predict(X_test)\n",
    "\n",
    "print('Train score: {:.4f}'.format(r2_score(y_train, y_train_predictdl)))\n",
    "print('Test score: {:.4f}'.format(r2_score(y_test, y_test_predictdl)))"
   ]
  },
  {
   "cell_type": "markdown",
   "metadata": {},
   "source": [
    "# Conclusion\n",
    "\n",
    "<b>The PCA made the linear regression, Lasso Regression, and Ridge Regression perform a little worse. The PCA made KNN and SVM perform better. SVM with the RBF kernel performed very well with an R^2 value of 0.69</b>"
   ]
  }
 ],
 "metadata": {
  "kernelspec": {
   "display_name": "Python 3",
   "language": "python",
   "name": "python3"
  },
  "language_info": {
   "codemirror_mode": {
    "name": "ipython",
    "version": 3
   },
   "file_extension": ".py",
   "mimetype": "text/x-python",
   "name": "python",
   "nbconvert_exporter": "python",
   "pygments_lexer": "ipython3",
   "version": "3.7.4"
  }
 },
 "nbformat": 4,
 "nbformat_minor": 2
}
