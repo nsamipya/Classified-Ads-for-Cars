{
 "cells": [
  {
   "cell_type": "markdown",
   "metadata": {},
   "source": [
    "# Project  - Regression "
   ]
  },
  {
   "cell_type": "markdown",
   "metadata": {},
   "source": [
    "## __Classified Ads for Cars__\n",
    "Something about the data which author mentioned : The scrapers were tuned slowly over the course of the year and some of the sources were completely unstructured, so as a result the data is  _dirty_ , there are missing values and some values are very obviously wrong (e.g. phone numbers scraped as mileage etc.)\n",
    "\n",
    "There are roughly 3,5 Million rows and the data is dirty.\n"
   ]
  },
  {
   "cell_type": "markdown",
   "metadata": {},
   "source": [
    "## Data Description "
   ]
  },
  {
   "cell_type": "markdown",
   "metadata": {},
   "source": [
    "### Link to the dataset : https://www.kaggle.com/mirosval/personal-cars-classifieds"
   ]
  },
  {
   "cell_type": "markdown",
   "metadata": {},
   "source": [
    "## Importing the libraries"
   ]
  },
  {
   "cell_type": "code",
   "execution_count": 86,
   "metadata": {},
   "outputs": [],
   "source": [
    "import numpy as np\n",
    "import pandas as pd\n",
    "import matplotlib.pyplot as plt"
   ]
  },
  {
   "cell_type": "markdown",
   "metadata": {},
   "source": [
    "# Data Exploration and Data Cleaning"
   ]
  },
  {
   "cell_type": "code",
   "execution_count": 87,
   "metadata": {},
   "outputs": [
    {
     "name": "stderr",
     "output_type": "stream",
     "text": [
      "C:\\Users\\samip\\Anaconda3\\lib\\site-packages\\IPython\\core\\interactiveshell.py:3058: DtypeWarning: Columns (7,8,10,11,12) have mixed types.Specify dtype option on import or set low_memory=False.\n",
      "  interactivity=interactivity, compiler=compiler, result=result)\n"
     ]
    }
   ],
   "source": [
    "carData = pd.read_csv(\"all_anonymized_2015_11_2017_03.csv\")"
   ]
  },
  {
   "cell_type": "code",
   "execution_count": 88,
   "metadata": {},
   "outputs": [
    {
     "data": {
      "text/html": [
       "<div>\n",
       "<style scoped>\n",
       "    .dataframe tbody tr th:only-of-type {\n",
       "        vertical-align: middle;\n",
       "    }\n",
       "\n",
       "    .dataframe tbody tr th {\n",
       "        vertical-align: top;\n",
       "    }\n",
       "\n",
       "    .dataframe thead th {\n",
       "        text-align: right;\n",
       "    }\n",
       "</style>\n",
       "<table border=\"1\" class=\"dataframe\">\n",
       "  <thead>\n",
       "    <tr style=\"text-align: right;\">\n",
       "      <th></th>\n",
       "      <th>maker</th>\n",
       "      <th>model</th>\n",
       "      <th>mileage</th>\n",
       "      <th>manufacture_year</th>\n",
       "      <th>engine_displacement</th>\n",
       "      <th>engine_power</th>\n",
       "      <th>body_type</th>\n",
       "      <th>color_slug</th>\n",
       "      <th>stk_year</th>\n",
       "      <th>transmission</th>\n",
       "      <th>door_count</th>\n",
       "      <th>seat_count</th>\n",
       "      <th>fuel_type</th>\n",
       "      <th>date_created</th>\n",
       "      <th>date_last_seen</th>\n",
       "      <th>price_eur</th>\n",
       "    </tr>\n",
       "  </thead>\n",
       "  <tbody>\n",
       "    <tr>\n",
       "      <th>0</th>\n",
       "      <td>ford</td>\n",
       "      <td>galaxy</td>\n",
       "      <td>151000.0</td>\n",
       "      <td>2011.0</td>\n",
       "      <td>2000.0</td>\n",
       "      <td>103.0</td>\n",
       "      <td>NaN</td>\n",
       "      <td>NaN</td>\n",
       "      <td>None</td>\n",
       "      <td>man</td>\n",
       "      <td>5</td>\n",
       "      <td>7</td>\n",
       "      <td>diesel</td>\n",
       "      <td>2015-11-14 18:10:06.838319+00</td>\n",
       "      <td>2016-01-27 20:40:15.46361+00</td>\n",
       "      <td>10584.75</td>\n",
       "    </tr>\n",
       "    <tr>\n",
       "      <th>1</th>\n",
       "      <td>skoda</td>\n",
       "      <td>octavia</td>\n",
       "      <td>143476.0</td>\n",
       "      <td>2012.0</td>\n",
       "      <td>2000.0</td>\n",
       "      <td>81.0</td>\n",
       "      <td>NaN</td>\n",
       "      <td>NaN</td>\n",
       "      <td>None</td>\n",
       "      <td>man</td>\n",
       "      <td>5</td>\n",
       "      <td>5</td>\n",
       "      <td>diesel</td>\n",
       "      <td>2015-11-14 18:10:06.853411+00</td>\n",
       "      <td>2016-01-27 20:40:15.46361+00</td>\n",
       "      <td>8882.31</td>\n",
       "    </tr>\n",
       "    <tr>\n",
       "      <th>2</th>\n",
       "      <td>bmw</td>\n",
       "      <td>NaN</td>\n",
       "      <td>97676.0</td>\n",
       "      <td>2010.0</td>\n",
       "      <td>1995.0</td>\n",
       "      <td>85.0</td>\n",
       "      <td>NaN</td>\n",
       "      <td>NaN</td>\n",
       "      <td>None</td>\n",
       "      <td>man</td>\n",
       "      <td>5</td>\n",
       "      <td>5</td>\n",
       "      <td>diesel</td>\n",
       "      <td>2015-11-14 18:10:06.861792+00</td>\n",
       "      <td>2016-01-27 20:40:15.46361+00</td>\n",
       "      <td>12065.06</td>\n",
       "    </tr>\n",
       "    <tr>\n",
       "      <th>3</th>\n",
       "      <td>skoda</td>\n",
       "      <td>fabia</td>\n",
       "      <td>111970.0</td>\n",
       "      <td>2004.0</td>\n",
       "      <td>1200.0</td>\n",
       "      <td>47.0</td>\n",
       "      <td>NaN</td>\n",
       "      <td>NaN</td>\n",
       "      <td>None</td>\n",
       "      <td>man</td>\n",
       "      <td>5</td>\n",
       "      <td>5</td>\n",
       "      <td>gasoline</td>\n",
       "      <td>2015-11-14 18:10:06.872313+00</td>\n",
       "      <td>2016-01-27 20:40:15.46361+00</td>\n",
       "      <td>2960.77</td>\n",
       "    </tr>\n",
       "    <tr>\n",
       "      <th>4</th>\n",
       "      <td>skoda</td>\n",
       "      <td>fabia</td>\n",
       "      <td>128886.0</td>\n",
       "      <td>2004.0</td>\n",
       "      <td>1200.0</td>\n",
       "      <td>47.0</td>\n",
       "      <td>NaN</td>\n",
       "      <td>NaN</td>\n",
       "      <td>None</td>\n",
       "      <td>man</td>\n",
       "      <td>5</td>\n",
       "      <td>5</td>\n",
       "      <td>gasoline</td>\n",
       "      <td>2015-11-14 18:10:06.880335+00</td>\n",
       "      <td>2016-01-27 20:40:15.46361+00</td>\n",
       "      <td>2738.71</td>\n",
       "    </tr>\n",
       "    <tr>\n",
       "      <th>5</th>\n",
       "      <td>skoda</td>\n",
       "      <td>fabia</td>\n",
       "      <td>140932.0</td>\n",
       "      <td>2003.0</td>\n",
       "      <td>1200.0</td>\n",
       "      <td>40.0</td>\n",
       "      <td>NaN</td>\n",
       "      <td>NaN</td>\n",
       "      <td>None</td>\n",
       "      <td>man</td>\n",
       "      <td>5</td>\n",
       "      <td>5</td>\n",
       "      <td>gasoline</td>\n",
       "      <td>2015-11-14 18:10:06.894643+00</td>\n",
       "      <td>2016-01-27 20:40:15.46361+00</td>\n",
       "      <td>1628.42</td>\n",
       "    </tr>\n",
       "    <tr>\n",
       "      <th>6</th>\n",
       "      <td>skoda</td>\n",
       "      <td>fabia</td>\n",
       "      <td>167220.0</td>\n",
       "      <td>2001.0</td>\n",
       "      <td>1400.0</td>\n",
       "      <td>74.0</td>\n",
       "      <td>NaN</td>\n",
       "      <td>NaN</td>\n",
       "      <td>None</td>\n",
       "      <td>man</td>\n",
       "      <td>5</td>\n",
       "      <td>5</td>\n",
       "      <td>gasoline</td>\n",
       "      <td>2015-11-14 18:10:06.915376+00</td>\n",
       "      <td>2016-01-27 20:40:15.46361+00</td>\n",
       "      <td>2072.54</td>\n",
       "    </tr>\n",
       "    <tr>\n",
       "      <th>7</th>\n",
       "      <td>bmw</td>\n",
       "      <td>NaN</td>\n",
       "      <td>148500.0</td>\n",
       "      <td>2009.0</td>\n",
       "      <td>2000.0</td>\n",
       "      <td>130.0</td>\n",
       "      <td>NaN</td>\n",
       "      <td>NaN</td>\n",
       "      <td>None</td>\n",
       "      <td>auto</td>\n",
       "      <td>5</td>\n",
       "      <td>5</td>\n",
       "      <td>diesel</td>\n",
       "      <td>2015-11-14 18:10:06.924123+00</td>\n",
       "      <td>2016-01-27 20:40:15.46361+00</td>\n",
       "      <td>10547.74</td>\n",
       "    </tr>\n",
       "    <tr>\n",
       "      <th>8</th>\n",
       "      <td>skoda</td>\n",
       "      <td>octavia</td>\n",
       "      <td>105389.0</td>\n",
       "      <td>2003.0</td>\n",
       "      <td>1900.0</td>\n",
       "      <td>81.0</td>\n",
       "      <td>NaN</td>\n",
       "      <td>NaN</td>\n",
       "      <td>None</td>\n",
       "      <td>man</td>\n",
       "      <td>5</td>\n",
       "      <td>5</td>\n",
       "      <td>diesel</td>\n",
       "      <td>2015-11-14 18:10:06.936239+00</td>\n",
       "      <td>2016-01-27 20:40:15.46361+00</td>\n",
       "      <td>4293.12</td>\n",
       "    </tr>\n",
       "    <tr>\n",
       "      <th>9</th>\n",
       "      <td>NaN</td>\n",
       "      <td>NaN</td>\n",
       "      <td>301381.0</td>\n",
       "      <td>2002.0</td>\n",
       "      <td>1900.0</td>\n",
       "      <td>88.0</td>\n",
       "      <td>NaN</td>\n",
       "      <td>NaN</td>\n",
       "      <td>None</td>\n",
       "      <td>man</td>\n",
       "      <td>5</td>\n",
       "      <td>5</td>\n",
       "      <td>diesel</td>\n",
       "      <td>2015-11-14 18:10:06.954319+00</td>\n",
       "      <td>2016-01-27 20:40:15.46361+00</td>\n",
       "      <td>1332.35</td>\n",
       "    </tr>\n",
       "  </tbody>\n",
       "</table>\n",
       "</div>"
      ],
      "text/plain": [
       "   maker    model   mileage  manufacture_year  engine_displacement  \\\n",
       "0   ford   galaxy  151000.0            2011.0               2000.0   \n",
       "1  skoda  octavia  143476.0            2012.0               2000.0   \n",
       "2    bmw      NaN   97676.0            2010.0               1995.0   \n",
       "3  skoda    fabia  111970.0            2004.0               1200.0   \n",
       "4  skoda    fabia  128886.0            2004.0               1200.0   \n",
       "5  skoda    fabia  140932.0            2003.0               1200.0   \n",
       "6  skoda    fabia  167220.0            2001.0               1400.0   \n",
       "7    bmw      NaN  148500.0            2009.0               2000.0   \n",
       "8  skoda  octavia  105389.0            2003.0               1900.0   \n",
       "9    NaN      NaN  301381.0            2002.0               1900.0   \n",
       "\n",
       "   engine_power body_type color_slug stk_year transmission door_count  \\\n",
       "0         103.0       NaN        NaN     None          man          5   \n",
       "1          81.0       NaN        NaN     None          man          5   \n",
       "2          85.0       NaN        NaN     None          man          5   \n",
       "3          47.0       NaN        NaN     None          man          5   \n",
       "4          47.0       NaN        NaN     None          man          5   \n",
       "5          40.0       NaN        NaN     None          man          5   \n",
       "6          74.0       NaN        NaN     None          man          5   \n",
       "7         130.0       NaN        NaN     None         auto          5   \n",
       "8          81.0       NaN        NaN     None          man          5   \n",
       "9          88.0       NaN        NaN     None          man          5   \n",
       "\n",
       "  seat_count fuel_type                   date_created  \\\n",
       "0          7    diesel  2015-11-14 18:10:06.838319+00   \n",
       "1          5    diesel  2015-11-14 18:10:06.853411+00   \n",
       "2          5    diesel  2015-11-14 18:10:06.861792+00   \n",
       "3          5  gasoline  2015-11-14 18:10:06.872313+00   \n",
       "4          5  gasoline  2015-11-14 18:10:06.880335+00   \n",
       "5          5  gasoline  2015-11-14 18:10:06.894643+00   \n",
       "6          5  gasoline  2015-11-14 18:10:06.915376+00   \n",
       "7          5    diesel  2015-11-14 18:10:06.924123+00   \n",
       "8          5    diesel  2015-11-14 18:10:06.936239+00   \n",
       "9          5    diesel  2015-11-14 18:10:06.954319+00   \n",
       "\n",
       "                 date_last_seen  price_eur  \n",
       "0  2016-01-27 20:40:15.46361+00   10584.75  \n",
       "1  2016-01-27 20:40:15.46361+00    8882.31  \n",
       "2  2016-01-27 20:40:15.46361+00   12065.06  \n",
       "3  2016-01-27 20:40:15.46361+00    2960.77  \n",
       "4  2016-01-27 20:40:15.46361+00    2738.71  \n",
       "5  2016-01-27 20:40:15.46361+00    1628.42  \n",
       "6  2016-01-27 20:40:15.46361+00    2072.54  \n",
       "7  2016-01-27 20:40:15.46361+00   10547.74  \n",
       "8  2016-01-27 20:40:15.46361+00    4293.12  \n",
       "9  2016-01-27 20:40:15.46361+00    1332.35  "
      ]
     },
     "execution_count": 88,
     "metadata": {},
     "output_type": "execute_result"
    }
   ],
   "source": [
    "carData.head(10)"
   ]
  },
  {
   "cell_type": "code",
   "execution_count": 89,
   "metadata": {},
   "outputs": [
    {
     "data": {
      "text/plain": [
       "maker                   518915\n",
       "model                  1133361\n",
       "mileage                 362584\n",
       "manufacture_year        370578\n",
       "engine_displacement     743414\n",
       "engine_power            554877\n",
       "body_type              1122914\n",
       "color_slug             3343411\n",
       "stk_year               1708156\n",
       "transmission            741630\n",
       "door_count              614373\n",
       "seat_count              749489\n",
       "fuel_type              1847606\n",
       "date_created                 0\n",
       "date_last_seen               0\n",
       "price_eur                    0\n",
       "dtype: int64"
      ]
     },
     "execution_count": 89,
     "metadata": {},
     "output_type": "execute_result"
    }
   ],
   "source": [
    "carData.isnull().sum()"
   ]
  },
  {
   "cell_type": "code",
   "execution_count": 90,
   "metadata": {},
   "outputs": [],
   "source": [
    "carData = carData.drop(columns =['model','color_slug', 'stk_year'])"
   ]
  },
  {
   "cell_type": "code",
   "execution_count": 91,
   "metadata": {},
   "outputs": [],
   "source": [
    "carData['date_created'] = carData['date_created'].str.slice(0, 10)\n",
    "carData['date_last_seen'] = carData['date_last_seen'].str.slice(0, 10)"
   ]
  },
  {
   "cell_type": "code",
   "execution_count": 92,
   "metadata": {},
   "outputs": [],
   "source": [
    "carData = carData[carData['body_type'].notna()]\n",
    "carData = carData[carData['fuel_type'].notna()]"
   ]
  },
  {
   "cell_type": "code",
   "execution_count": 93,
   "metadata": {},
   "outputs": [
    {
     "data": {
      "text/plain": [
       "compact         241948\n",
       "other           122159\n",
       "coupe            68738\n",
       "stationwagon     68092\n",
       "van              30728\n",
       "offroad          21835\n",
       "sedan            19149\n",
       "convertible       5303\n",
       "transporter       4440\n",
       "Name: body_type, dtype: int64"
      ]
     },
     "execution_count": 93,
     "metadata": {},
     "output_type": "execute_result"
    }
   ],
   "source": [
    "carData['body_type'].value_counts()"
   ]
  },
  {
   "cell_type": "code",
   "execution_count": 94,
   "metadata": {},
   "outputs": [
    {
     "data": {
      "text/plain": [
       "None     237765\n",
       "5.0      160410\n",
       "5         13172\n",
       "0.0       11322\n",
       "7.0        9805\n",
       "4.0        9043\n",
       "4          6372\n",
       "3.0        4346\n",
       "2.0        3841\n",
       "2          2869\n",
       "7          2467\n",
       "3          1729\n",
       "9.0        1721\n",
       "6.0        1517\n",
       "8.0         886\n",
       "6           462\n",
       "9           380\n",
       "1.0         190\n",
       "8           156\n",
       "1            11\n",
       "21.0          9\n",
       "50.0          5\n",
       "14.0          5\n",
       "18.0          4\n",
       "57            4\n",
       "51.0          4\n",
       "29.0          3\n",
       "52.0          3\n",
       "17.0          3\n",
       "16.0          3\n",
       "15.0          3\n",
       "81.0          3\n",
       "44.0          2\n",
       "13.0          2\n",
       "32.0          2\n",
       "33.0          2\n",
       "36.0          2\n",
       "49.0          2\n",
       "53.0          2\n",
       "17            2\n",
       "55.0          2\n",
       "57.0          2\n",
       "58.0          2\n",
       "512.0         2\n",
       "10.0          1\n",
       "517.0         1\n",
       "30.0          1\n",
       "19.0          1\n",
       "23.0          1\n",
       "25.0          1\n",
       "515.0         1\n",
       "43.0          1\n",
       "54.0          1\n",
       "59.0          1\n",
       "85.0          1\n",
       "138.0         1\n",
       "45.0          1\n",
       "Name: seat_count, dtype: int64"
      ]
     },
     "execution_count": 94,
     "metadata": {},
     "output_type": "execute_result"
    }
   ],
   "source": [
    "carData['seat_count'].value_counts()"
   ]
  },
  {
   "cell_type": "code",
   "execution_count": 95,
   "metadata": {},
   "outputs": [
    {
     "data": {
      "text/plain": [
       "None    233523\n",
       "5.0     160334\n",
       "4.0      17846\n",
       "5        13231\n",
       "3.0       9338\n",
       "0.0       7668\n",
       "2         7290\n",
       "4         7053\n",
       "3         4242\n",
       "2.0       3839\n",
       "6.0        229\n",
       "1.0         89\n",
       "6           41\n",
       "7.0         15\n",
       "55.0         9\n",
       "1            8\n",
       "58.0         2\n",
       "9.0          2\n",
       "8.0          2\n",
       "49.0         1\n",
       "45.0         1\n",
       "17.0         1\n",
       "7            1\n",
       "22.0         1\n",
       "Name: door_count, dtype: int64"
      ]
     },
     "execution_count": 95,
     "metadata": {},
     "output_type": "execute_result"
    }
   ],
   "source": [
    "carData['door_count'].value_counts()"
   ]
  },
  {
   "cell_type": "markdown",
   "metadata": {},
   "source": [
    "_drop all the None values_"
   ]
  },
  {
   "cell_type": "code",
   "execution_count": 96,
   "metadata": {},
   "outputs": [],
   "source": [
    "carData = carData[carData['seat_count'] != 'None']\n",
    "carData = carData[carData['door_count'] != 'None']"
   ]
  },
  {
   "cell_type": "markdown",
   "metadata": {},
   "source": [
    "_convert everything to numeric_ "
   ]
  },
  {
   "cell_type": "markdown",
   "metadata": {},
   "source": [
    "_Also dropping seat count values greater than 9 and door count values greater than 7_"
   ]
  },
  {
   "cell_type": "code",
   "execution_count": 97,
   "metadata": {},
   "outputs": [],
   "source": [
    "carData[['seat_count', 'door_count']] = carData[['seat_count', 'door_count']].apply(pd.to_numeric)\n",
    "carData = carData[carData['seat_count'] <= 9] #drop values greater than 9\n",
    "carData['seat_count'] = carData['seat_count'].astype(np.int64)\n",
    "carData = carData[carData['door_count'] <= 7] #drop values greater than 7\n",
    "carData['door_count'] = carData['door_count'].astype(np.int64)"
   ]
  },
  {
   "cell_type": "code",
   "execution_count": 98,
   "metadata": {},
   "outputs": [
    {
     "data": {
      "text/plain": [
       "0      8629\n",
       "1       198\n",
       "2      5095\n",
       "3      5251\n",
       "4     15148\n",
       "5    170986\n",
       "6      1893\n",
       "7     12023\n",
       "8       991\n",
       "9      2018\n",
       "Name: seat_count, dtype: int64"
      ]
     },
     "execution_count": 98,
     "metadata": {},
     "output_type": "execute_result"
    }
   ],
   "source": [
    "carData['seat_count'].value_counts().sort_index()"
   ]
  },
  {
   "cell_type": "code",
   "execution_count": 99,
   "metadata": {},
   "outputs": [
    {
     "data": {
      "text/plain": [
       "Text(0.5, 1.0, 'Car Seat Counts')"
      ]
     },
     "execution_count": 99,
     "metadata": {},
     "output_type": "execute_result"
    },
    {
     "data": {
      "image/png": "[encoded data removed]",
      "text/plain": [
       "<Figure size 432x288 with 1 Axes>"
      ]
     },
     "metadata": {
      "needs_background": "light"
     },
     "output_type": "display_data"
    }
   ],
   "source": [
    "carData['seat_count'].value_counts().sort_index().plot(kind ='bar')\n",
    "plt.title(\"Car Seat Counts\")"
   ]
  },
  {
   "cell_type": "code",
   "execution_count": 100,
   "metadata": {},
   "outputs": [
    {
     "data": {
      "text/plain": [
       "0      7653\n",
       "1        85\n",
       "2     10010\n",
       "3     12587\n",
       "4     23968\n",
       "5    167650\n",
       "6       264\n",
       "7        15\n",
       "Name: door_count, dtype: int64"
      ]
     },
     "execution_count": 100,
     "metadata": {},
     "output_type": "execute_result"
    }
   ],
   "source": [
    "carData['door_count'].value_counts().sort_index()"
   ]
  },
  {
   "cell_type": "code",
   "execution_count": 101,
   "metadata": {},
   "outputs": [
    {
     "data": {
      "text/plain": [
       "Text(0.5, 1.0, 'Car Door Counts')"
      ]
     },
     "execution_count": 101,
     "metadata": {},
     "output_type": "execute_result"
    },
    {
     "data": {
      "image/png": "[encoded data removed]",
      "text/plain": [
       "<Figure size 432x288 with 1 Axes>"
      ]
     },
     "metadata": {
      "needs_background": "light"
     },
     "output_type": "display_data"
    }
   ],
   "source": [
    "carData['door_count'].value_counts().sort_index().plot(kind = 'bar')\n",
    "plt.title(\"Car Door Counts\")"
   ]
  },
  {
   "cell_type": "code",
   "execution_count": 102,
   "metadata": {},
   "outputs": [],
   "source": [
    "carData['maker'] = carData['maker'].fillna(carData['maker'].mode()[0])\n",
    "carData['transmission'] = carData['transmission'].fillna(carData['transmission'].mode()[0])\n",
    "\n",
    "carData['manufacture_year'] = carData['manufacture_year'].fillna(carData['manufacture_year'].mode()[0])\n",
    "carData['manufacture_year'] = carData['manufacture_year'].astype(np.int64)\n",
    "\n",
    "carData = carData[carData['mileage'] != 0] # remove cars without any mileage\n",
    "carData['mileage'] = carData['mileage'].fillna(carData['mileage'].mean())\n",
    "carData['mileage (log)'] = np.log(carData['mileage'])\n",
    "carData = carData.drop(columns=['mileage'])\n",
    "\n",
    "carData['engine_displacement'] = carData['engine_displacement'].fillna(carData['engine_displacement'].mean())\n",
    "carData['engine_power'] = carData['engine_power'].fillna(carData['engine_power'].mean())\n",
    "carData['engine_displacement (log)'] = np.log(carData['engine_displacement'])\n",
    "carData = carData.drop(columns=['engine_displacement'])"
   ]
  },
  {
   "cell_type": "code",
   "execution_count": 103,
   "metadata": {},
   "outputs": [
    {
     "data": {
      "text/plain": [
       "Text(0.5, 1.0, 'Automatic and Manual Car Counts')"
      ]
     },
     "execution_count": 103,
     "metadata": {},
     "output_type": "execute_result"
    },
    {
     "data": {
      "image/png": "[encoded data removed]",
      "text/plain": [
       "<Figure size 432x288 with 1 Axes>"
      ]
     },
     "metadata": {
      "needs_background": "light"
     },
     "output_type": "display_data"
    }
   ],
   "source": [
    "carData['transmission'].value_counts().sort_index().plot(kind ='bar')\n",
    "plt.title(\"Automatic and Manual Car Counts\")"
   ]
  },
  {
   "cell_type": "code",
   "execution_count": 104,
   "metadata": {},
   "outputs": [],
   "source": [
    "carData[['date_created','date_last_seen']] = carData[['date_created','date_last_seen']].apply(pd.to_datetime)\n",
    "carData['ad_day_count'] = (carData['date_last_seen'] - carData['date_created']).dt.days\n",
    "carData = carData.drop(columns =['date_created','date_last_seen'])"
   ]
  },
  {
   "cell_type": "code",
   "execution_count": 105,
   "metadata": {},
   "outputs": [
    {
     "data": {
      "text/plain": [
       "maker                        0\n",
       "manufacture_year             0\n",
       "engine_power                 0\n",
       "body_type                    0\n",
       "transmission                 0\n",
       "door_count                   0\n",
       "seat_count                   0\n",
       "fuel_type                    0\n",
       "price_eur                    0\n",
       "mileage (log)                0\n",
       "engine_displacement (log)    0\n",
       "ad_day_count                 0\n",
       "dtype: int64"
      ]
     },
     "execution_count": 105,
     "metadata": {},
     "output_type": "execute_result"
    }
   ],
   "source": [
    "carData.isnull().sum()"
   ]
  },
  {
   "cell_type": "code",
   "execution_count": 106,
   "metadata": {},
   "outputs": [
    {
     "data": {
      "text/html": [
       "<div>\n",
       "<style scoped>\n",
       "    .dataframe tbody tr th:only-of-type {\n",
       "        vertical-align: middle;\n",
       "    }\n",
       "\n",
       "    .dataframe tbody tr th {\n",
       "        vertical-align: top;\n",
       "    }\n",
       "\n",
       "    .dataframe thead th {\n",
       "        text-align: right;\n",
       "    }\n",
       "</style>\n",
       "<table border=\"1\" class=\"dataframe\">\n",
       "  <thead>\n",
       "    <tr style=\"text-align: right;\">\n",
       "      <th></th>\n",
       "      <th>maker</th>\n",
       "      <th>manufacture_year</th>\n",
       "      <th>engine_power</th>\n",
       "      <th>body_type</th>\n",
       "      <th>transmission</th>\n",
       "      <th>door_count</th>\n",
       "      <th>seat_count</th>\n",
       "      <th>fuel_type</th>\n",
       "      <th>price_eur</th>\n",
       "      <th>mileage (log)</th>\n",
       "      <th>engine_displacement (log)</th>\n",
       "      <th>ad_day_count</th>\n",
       "    </tr>\n",
       "  </thead>\n",
       "  <tbody>\n",
       "    <tr>\n",
       "      <th>507</th>\n",
       "      <td>mercedes-benz</td>\n",
       "      <td>2011</td>\n",
       "      <td>120.0</td>\n",
       "      <td>van</td>\n",
       "      <td>man</td>\n",
       "      <td>5</td>\n",
       "      <td>5</td>\n",
       "      <td>diesel</td>\n",
       "      <td>22168.76</td>\n",
       "      <td>12.223878</td>\n",
       "      <td>7.669962</td>\n",
       "      <td>74</td>\n",
       "    </tr>\n",
       "    <tr>\n",
       "      <th>577</th>\n",
       "      <td>skoda</td>\n",
       "      <td>2007</td>\n",
       "      <td>96.0</td>\n",
       "      <td>van</td>\n",
       "      <td>man</td>\n",
       "      <td>5</td>\n",
       "      <td>9</td>\n",
       "      <td>diesel</td>\n",
       "      <td>8475.20</td>\n",
       "      <td>12.409013</td>\n",
       "      <td>7.808323</td>\n",
       "      <td>74</td>\n",
       "    </tr>\n",
       "    <tr>\n",
       "      <th>583</th>\n",
       "      <td>skoda</td>\n",
       "      <td>2005</td>\n",
       "      <td>128.0</td>\n",
       "      <td>van</td>\n",
       "      <td>man</td>\n",
       "      <td>5</td>\n",
       "      <td>8</td>\n",
       "      <td>diesel</td>\n",
       "      <td>9215.40</td>\n",
       "      <td>12.421184</td>\n",
       "      <td>7.808323</td>\n",
       "      <td>74</td>\n",
       "    </tr>\n",
       "    <tr>\n",
       "      <th>898</th>\n",
       "      <td>ford</td>\n",
       "      <td>2011</td>\n",
       "      <td>103.0</td>\n",
       "      <td>van</td>\n",
       "      <td>man</td>\n",
       "      <td>5</td>\n",
       "      <td>5</td>\n",
       "      <td>diesel</td>\n",
       "      <td>9437.45</td>\n",
       "      <td>11.830040</td>\n",
       "      <td>7.600902</td>\n",
       "      <td>74</td>\n",
       "    </tr>\n",
       "    <tr>\n",
       "      <th>972</th>\n",
       "      <td>skoda</td>\n",
       "      <td>2016</td>\n",
       "      <td>79.0</td>\n",
       "      <td>van</td>\n",
       "      <td>man</td>\n",
       "      <td>5</td>\n",
       "      <td>5</td>\n",
       "      <td>diesel</td>\n",
       "      <td>4441.15</td>\n",
       "      <td>12.055250</td>\n",
       "      <td>7.599401</td>\n",
       "      <td>74</td>\n",
       "    </tr>\n",
       "    <tr>\n",
       "      <th>1007</th>\n",
       "      <td>hyundai</td>\n",
       "      <td>2002</td>\n",
       "      <td>90.0</td>\n",
       "      <td>van</td>\n",
       "      <td>man</td>\n",
       "      <td>5</td>\n",
       "      <td>5</td>\n",
       "      <td>gasoline</td>\n",
       "      <td>1073.28</td>\n",
       "      <td>12.111762</td>\n",
       "      <td>7.492760</td>\n",
       "      <td>74</td>\n",
       "    </tr>\n",
       "    <tr>\n",
       "      <th>1038</th>\n",
       "      <td>skoda</td>\n",
       "      <td>2016</td>\n",
       "      <td>55.0</td>\n",
       "      <td>van</td>\n",
       "      <td>man</td>\n",
       "      <td>3</td>\n",
       "      <td>2</td>\n",
       "      <td>diesel</td>\n",
       "      <td>5162.84</td>\n",
       "      <td>11.716307</td>\n",
       "      <td>7.286876</td>\n",
       "      <td>74</td>\n",
       "    </tr>\n",
       "    <tr>\n",
       "      <th>1079</th>\n",
       "      <td>chrysler</td>\n",
       "      <td>2012</td>\n",
       "      <td>214.0</td>\n",
       "      <td>van</td>\n",
       "      <td>auto</td>\n",
       "      <td>5</td>\n",
       "      <td>7</td>\n",
       "      <td>gasoline</td>\n",
       "      <td>18467.80</td>\n",
       "      <td>11.718312</td>\n",
       "      <td>8.189800</td>\n",
       "      <td>74</td>\n",
       "    </tr>\n",
       "    <tr>\n",
       "      <th>1320</th>\n",
       "      <td>skoda</td>\n",
       "      <td>2004</td>\n",
       "      <td>96.0</td>\n",
       "      <td>van</td>\n",
       "      <td>man</td>\n",
       "      <td>4</td>\n",
       "      <td>6</td>\n",
       "      <td>diesel</td>\n",
       "      <td>8845.30</td>\n",
       "      <td>11.957611</td>\n",
       "      <td>7.824046</td>\n",
       "      <td>74</td>\n",
       "    </tr>\n",
       "    <tr>\n",
       "      <th>1603</th>\n",
       "      <td>fiat</td>\n",
       "      <td>2006</td>\n",
       "      <td>77.0</td>\n",
       "      <td>van</td>\n",
       "      <td>man</td>\n",
       "      <td>4</td>\n",
       "      <td>5</td>\n",
       "      <td>diesel</td>\n",
       "      <td>3515.91</td>\n",
       "      <td>11.955192</td>\n",
       "      <td>7.554859</td>\n",
       "      <td>74</td>\n",
       "    </tr>\n",
       "  </tbody>\n",
       "</table>\n",
       "</div>"
      ],
      "text/plain": [
       "              maker  manufacture_year  engine_power body_type transmission  \\\n",
       "507   mercedes-benz              2011         120.0       van          man   \n",
       "577           skoda              2007          96.0       van          man   \n",
       "583           skoda              2005         128.0       van          man   \n",
       "898            ford              2011         103.0       van          man   \n",
       "972           skoda              2016          79.0       van          man   \n",
       "1007        hyundai              2002          90.0       van          man   \n",
       "1038          skoda              2016          55.0       van          man   \n",
       "1079       chrysler              2012         214.0       van         auto   \n",
       "1320          skoda              2004          96.0       van          man   \n",
       "1603           fiat              2006          77.0       van          man   \n",
       "\n",
       "      door_count  seat_count fuel_type  price_eur  mileage (log)  \\\n",
       "507            5           5    diesel   22168.76      12.223878   \n",
       "577            5           9    diesel    8475.20      12.409013   \n",
       "583            5           8    diesel    9215.40      12.421184   \n",
       "898            5           5    diesel    9437.45      11.830040   \n",
       "972            5           5    diesel    4441.15      12.055250   \n",
       "1007           5           5  gasoline    1073.28      12.111762   \n",
       "1038           3           2    diesel    5162.84      11.716307   \n",
       "1079           5           7  gasoline   18467.80      11.718312   \n",
       "1320           4           6    diesel    8845.30      11.957611   \n",
       "1603           4           5    diesel    3515.91      11.955192   \n",
       "\n",
       "      engine_displacement (log)  ad_day_count  \n",
       "507                    7.669962            74  \n",
       "577                    7.808323            74  \n",
       "583                    7.808323            74  \n",
       "898                    7.600902            74  \n",
       "972                    7.599401            74  \n",
       "1007                   7.492760            74  \n",
       "1038                   7.286876            74  \n",
       "1079                   8.189800            74  \n",
       "1320                   7.824046            74  \n",
       "1603                   7.554859            74  "
      ]
     },
     "execution_count": 106,
     "metadata": {},
     "output_type": "execute_result"
    }
   ],
   "source": [
    "carData.head(10)"
   ]
  },
  {
   "cell_type": "code",
   "execution_count": 107,
   "metadata": {},
   "outputs": [],
   "source": [
    "carData = pd.concat([carData,pd.get_dummies(carData.maker)],axis=\"columns\")\n",
    "carData = carData.drop(columns=['maker'])"
   ]
  },
  {
   "cell_type": "code",
   "execution_count": 108,
   "metadata": {},
   "outputs": [],
   "source": [
    "carData = carData.drop(columns=['manufacture_year'])"
   ]
  },
  {
   "cell_type": "code",
   "execution_count": 109,
   "metadata": {},
   "outputs": [],
   "source": [
    "carData = pd.concat([carData,pd.get_dummies(carData.body_type)],axis=\"columns\")\n",
    "carData = carData.drop(columns=['body_type'])"
   ]
  },
  {
   "cell_type": "code",
   "execution_count": 110,
   "metadata": {},
   "outputs": [],
   "source": [
    "carData['transmission'] = carData['transmission'].map( {'man': 1, 'auto': 0} ).astype(int)"
   ]
  },
  {
   "cell_type": "code",
   "execution_count": 111,
   "metadata": {},
   "outputs": [],
   "source": [
    "carData = pd.concat([carData,pd.get_dummies(carData.door_count,prefix='door_count')],axis=\"columns\")\n",
    "carData = carData.drop(columns=['door_count'])"
   ]
  },
  {
   "cell_type": "code",
   "execution_count": 112,
   "metadata": {},
   "outputs": [],
   "source": [
    "carData = pd.concat([carData,pd.get_dummies(carData.seat_count,prefix='seat_count')],axis=\"columns\")\n",
    "carData = carData.drop(columns=['seat_count'])"
   ]
  },
  {
   "cell_type": "code",
   "execution_count": 113,
   "metadata": {},
   "outputs": [],
   "source": [
    "carData = pd.concat([carData,pd.get_dummies(carData.fuel_type)],axis=\"columns\")\n",
    "carData = carData.drop(columns=['fuel_type'])"
   ]
  },
  {
   "cell_type": "code",
   "execution_count": 114,
   "metadata": {},
   "outputs": [
    {
     "data": {
      "text/html": [
       "<div>\n",
       "<style scoped>\n",
       "    .dataframe tbody tr th:only-of-type {\n",
       "        vertical-align: middle;\n",
       "    }\n",
       "\n",
       "    .dataframe tbody tr th {\n",
       "        vertical-align: top;\n",
       "    }\n",
       "\n",
       "    .dataframe thead th {\n",
       "        text-align: right;\n",
       "    }\n",
       "</style>\n",
       "<table border=\"1\" class=\"dataframe\">\n",
       "  <thead>\n",
       "    <tr style=\"text-align: right;\">\n",
       "      <th></th>\n",
       "      <th>engine_power</th>\n",
       "      <th>transmission</th>\n",
       "      <th>price_eur</th>\n",
       "      <th>mileage (log)</th>\n",
       "      <th>engine_displacement (log)</th>\n",
       "      <th>ad_day_count</th>\n",
       "      <th>alfa-romeo</th>\n",
       "      <th>aston-martin</th>\n",
       "      <th>audi</th>\n",
       "      <th>bentley</th>\n",
       "      <th>...</th>\n",
       "      <th>seat_count_5</th>\n",
       "      <th>seat_count_6</th>\n",
       "      <th>seat_count_7</th>\n",
       "      <th>seat_count_8</th>\n",
       "      <th>seat_count_9</th>\n",
       "      <th>cng</th>\n",
       "      <th>diesel</th>\n",
       "      <th>electric</th>\n",
       "      <th>gasoline</th>\n",
       "      <th>lpg</th>\n",
       "    </tr>\n",
       "  </thead>\n",
       "  <tbody>\n",
       "    <tr>\n",
       "      <th>507</th>\n",
       "      <td>120.0</td>\n",
       "      <td>1</td>\n",
       "      <td>22168.76</td>\n",
       "      <td>12.223878</td>\n",
       "      <td>7.669962</td>\n",
       "      <td>74</td>\n",
       "      <td>0</td>\n",
       "      <td>0</td>\n",
       "      <td>0</td>\n",
       "      <td>0</td>\n",
       "      <td>...</td>\n",
       "      <td>1</td>\n",
       "      <td>0</td>\n",
       "      <td>0</td>\n",
       "      <td>0</td>\n",
       "      <td>0</td>\n",
       "      <td>0</td>\n",
       "      <td>1</td>\n",
       "      <td>0</td>\n",
       "      <td>0</td>\n",
       "      <td>0</td>\n",
       "    </tr>\n",
       "    <tr>\n",
       "      <th>577</th>\n",
       "      <td>96.0</td>\n",
       "      <td>1</td>\n",
       "      <td>8475.20</td>\n",
       "      <td>12.409013</td>\n",
       "      <td>7.808323</td>\n",
       "      <td>74</td>\n",
       "      <td>0</td>\n",
       "      <td>0</td>\n",
       "      <td>0</td>\n",
       "      <td>0</td>\n",
       "      <td>...</td>\n",
       "      <td>0</td>\n",
       "      <td>0</td>\n",
       "      <td>0</td>\n",
       "      <td>0</td>\n",
       "      <td>1</td>\n",
       "      <td>0</td>\n",
       "      <td>1</td>\n",
       "      <td>0</td>\n",
       "      <td>0</td>\n",
       "      <td>0</td>\n",
       "    </tr>\n",
       "    <tr>\n",
       "      <th>583</th>\n",
       "      <td>128.0</td>\n",
       "      <td>1</td>\n",
       "      <td>9215.40</td>\n",
       "      <td>12.421184</td>\n",
       "      <td>7.808323</td>\n",
       "      <td>74</td>\n",
       "      <td>0</td>\n",
       "      <td>0</td>\n",
       "      <td>0</td>\n",
       "      <td>0</td>\n",
       "      <td>...</td>\n",
       "      <td>0</td>\n",
       "      <td>0</td>\n",
       "      <td>0</td>\n",
       "      <td>1</td>\n",
       "      <td>0</td>\n",
       "      <td>0</td>\n",
       "      <td>1</td>\n",
       "      <td>0</td>\n",
       "      <td>0</td>\n",
       "      <td>0</td>\n",
       "    </tr>\n",
       "    <tr>\n",
       "      <th>898</th>\n",
       "      <td>103.0</td>\n",
       "      <td>1</td>\n",
       "      <td>9437.45</td>\n",
       "      <td>11.830040</td>\n",
       "      <td>7.600902</td>\n",
       "      <td>74</td>\n",
       "      <td>0</td>\n",
       "      <td>0</td>\n",
       "      <td>0</td>\n",
       "      <td>0</td>\n",
       "      <td>...</td>\n",
       "      <td>1</td>\n",
       "      <td>0</td>\n",
       "      <td>0</td>\n",
       "      <td>0</td>\n",
       "      <td>0</td>\n",
       "      <td>0</td>\n",
       "      <td>1</td>\n",
       "      <td>0</td>\n",
       "      <td>0</td>\n",
       "      <td>0</td>\n",
       "    </tr>\n",
       "    <tr>\n",
       "      <th>972</th>\n",
       "      <td>79.0</td>\n",
       "      <td>1</td>\n",
       "      <td>4441.15</td>\n",
       "      <td>12.055250</td>\n",
       "      <td>7.599401</td>\n",
       "      <td>74</td>\n",
       "      <td>0</td>\n",
       "      <td>0</td>\n",
       "      <td>0</td>\n",
       "      <td>0</td>\n",
       "      <td>...</td>\n",
       "      <td>1</td>\n",
       "      <td>0</td>\n",
       "      <td>0</td>\n",
       "      <td>0</td>\n",
       "      <td>0</td>\n",
       "      <td>0</td>\n",
       "      <td>1</td>\n",
       "      <td>0</td>\n",
       "      <td>0</td>\n",
       "      <td>0</td>\n",
       "    </tr>\n",
       "    <tr>\n",
       "      <th>1007</th>\n",
       "      <td>90.0</td>\n",
       "      <td>1</td>\n",
       "      <td>1073.28</td>\n",
       "      <td>12.111762</td>\n",
       "      <td>7.492760</td>\n",
       "      <td>74</td>\n",
       "      <td>0</td>\n",
       "      <td>0</td>\n",
       "      <td>0</td>\n",
       "      <td>0</td>\n",
       "      <td>...</td>\n",
       "      <td>1</td>\n",
       "      <td>0</td>\n",
       "      <td>0</td>\n",
       "      <td>0</td>\n",
       "      <td>0</td>\n",
       "      <td>0</td>\n",
       "      <td>0</td>\n",
       "      <td>0</td>\n",
       "      <td>1</td>\n",
       "      <td>0</td>\n",
       "    </tr>\n",
       "    <tr>\n",
       "      <th>1038</th>\n",
       "      <td>55.0</td>\n",
       "      <td>1</td>\n",
       "      <td>5162.84</td>\n",
       "      <td>11.716307</td>\n",
       "      <td>7.286876</td>\n",
       "      <td>74</td>\n",
       "      <td>0</td>\n",
       "      <td>0</td>\n",
       "      <td>0</td>\n",
       "      <td>0</td>\n",
       "      <td>...</td>\n",
       "      <td>0</td>\n",
       "      <td>0</td>\n",
       "      <td>0</td>\n",
       "      <td>0</td>\n",
       "      <td>0</td>\n",
       "      <td>0</td>\n",
       "      <td>1</td>\n",
       "      <td>0</td>\n",
       "      <td>0</td>\n",
       "      <td>0</td>\n",
       "    </tr>\n",
       "    <tr>\n",
       "      <th>1079</th>\n",
       "      <td>214.0</td>\n",
       "      <td>0</td>\n",
       "      <td>18467.80</td>\n",
       "      <td>11.718312</td>\n",
       "      <td>8.189800</td>\n",
       "      <td>74</td>\n",
       "      <td>0</td>\n",
       "      <td>0</td>\n",
       "      <td>0</td>\n",
       "      <td>0</td>\n",
       "      <td>...</td>\n",
       "      <td>0</td>\n",
       "      <td>0</td>\n",
       "      <td>1</td>\n",
       "      <td>0</td>\n",
       "      <td>0</td>\n",
       "      <td>0</td>\n",
       "      <td>0</td>\n",
       "      <td>0</td>\n",
       "      <td>1</td>\n",
       "      <td>0</td>\n",
       "    </tr>\n",
       "    <tr>\n",
       "      <th>1320</th>\n",
       "      <td>96.0</td>\n",
       "      <td>1</td>\n",
       "      <td>8845.30</td>\n",
       "      <td>11.957611</td>\n",
       "      <td>7.824046</td>\n",
       "      <td>74</td>\n",
       "      <td>0</td>\n",
       "      <td>0</td>\n",
       "      <td>0</td>\n",
       "      <td>0</td>\n",
       "      <td>...</td>\n",
       "      <td>0</td>\n",
       "      <td>1</td>\n",
       "      <td>0</td>\n",
       "      <td>0</td>\n",
       "      <td>0</td>\n",
       "      <td>0</td>\n",
       "      <td>1</td>\n",
       "      <td>0</td>\n",
       "      <td>0</td>\n",
       "      <td>0</td>\n",
       "    </tr>\n",
       "    <tr>\n",
       "      <th>1603</th>\n",
       "      <td>77.0</td>\n",
       "      <td>1</td>\n",
       "      <td>3515.91</td>\n",
       "      <td>11.955192</td>\n",
       "      <td>7.554859</td>\n",
       "      <td>74</td>\n",
       "      <td>0</td>\n",
       "      <td>0</td>\n",
       "      <td>0</td>\n",
       "      <td>0</td>\n",
       "      <td>...</td>\n",
       "      <td>1</td>\n",
       "      <td>0</td>\n",
       "      <td>0</td>\n",
       "      <td>0</td>\n",
       "      <td>0</td>\n",
       "      <td>0</td>\n",
       "      <td>1</td>\n",
       "      <td>0</td>\n",
       "      <td>0</td>\n",
       "      <td>0</td>\n",
       "    </tr>\n",
       "  </tbody>\n",
       "</table>\n",
       "<p>10 rows × 84 columns</p>\n",
       "</div>"
      ],
      "text/plain": [
       "      engine_power  transmission  price_eur  mileage (log)  \\\n",
       "507          120.0             1   22168.76      12.223878   \n",
       "577           96.0             1    8475.20      12.409013   \n",
       "583          128.0             1    9215.40      12.421184   \n",
       "898          103.0             1    9437.45      11.830040   \n",
       "972           79.0             1    4441.15      12.055250   \n",
       "1007          90.0             1    1073.28      12.111762   \n",
       "1038          55.0             1    5162.84      11.716307   \n",
       "1079         214.0             0   18467.80      11.718312   \n",
       "1320          96.0             1    8845.30      11.957611   \n",
       "1603          77.0             1    3515.91      11.955192   \n",
       "\n",
       "      engine_displacement (log)  ad_day_count  alfa-romeo  aston-martin  audi  \\\n",
       "507                    7.669962            74           0             0     0   \n",
       "577                    7.808323            74           0             0     0   \n",
       "583                    7.808323            74           0             0     0   \n",
       "898                    7.600902            74           0             0     0   \n",
       "972                    7.599401            74           0             0     0   \n",
       "1007                   7.492760            74           0             0     0   \n",
       "1038                   7.286876            74           0             0     0   \n",
       "1079                   8.189800            74           0             0     0   \n",
       "1320                   7.824046            74           0             0     0   \n",
       "1603                   7.554859            74           0             0     0   \n",
       "\n",
       "      bentley  ...  seat_count_5  seat_count_6  seat_count_7  seat_count_8  \\\n",
       "507         0  ...             1             0             0             0   \n",
       "577         0  ...             0             0             0             0   \n",
       "583         0  ...             0             0             0             1   \n",
       "898         0  ...             1             0             0             0   \n",
       "972         0  ...             1             0             0             0   \n",
       "1007        0  ...             1             0             0             0   \n",
       "1038        0  ...             0             0             0             0   \n",
       "1079        0  ...             0             0             1             0   \n",
       "1320        0  ...             0             1             0             0   \n",
       "1603        0  ...             1             0             0             0   \n",
       "\n",
       "      seat_count_9  cng  diesel  electric  gasoline  lpg  \n",
       "507              0    0       1         0         0    0  \n",
       "577              1    0       1         0         0    0  \n",
       "583              0    0       1         0         0    0  \n",
       "898              0    0       1         0         0    0  \n",
       "972              0    0       1         0         0    0  \n",
       "1007             0    0       0         0         1    0  \n",
       "1038             0    0       1         0         0    0  \n",
       "1079             0    0       0         0         1    0  \n",
       "1320             0    0       1         0         0    0  \n",
       "1603             0    0       1         0         0    0  \n",
       "\n",
       "[10 rows x 84 columns]"
      ]
     },
     "execution_count": 114,
     "metadata": {},
     "output_type": "execute_result"
    }
   ],
   "source": [
    "carData.head(10)"
   ]
  },
  {
   "cell_type": "code",
   "execution_count": 115,
   "metadata": {},
   "outputs": [
    {
     "data": {
      "text/plain": [
       "(215738, 84)"
      ]
     },
     "execution_count": 115,
     "metadata": {},
     "output_type": "execute_result"
    }
   ],
   "source": [
    "carData.shape"
   ]
  },
  {
   "cell_type": "code",
   "execution_count": 116,
   "metadata": {},
   "outputs": [],
   "source": [
    "carDataSample = carData.sample(n = 25000, random_state=0)\n",
    "carDataSample = carDataSample.loc[:, (carDataSample != 0).any(axis=0)]"
   ]
  },
  {
   "cell_type": "code",
   "execution_count": 117,
   "metadata": {},
   "outputs": [],
   "source": [
    "#regress sample\n",
    "X = carDataSample.loc[:, carDataSample.columns != 'price_eur']\n",
    "y = np.log(carDataSample['price_eur'])"
   ]
  },
  {
   "cell_type": "markdown",
   "metadata": {},
   "source": [
    "# Regression Algorithms"
   ]
  },
  {
   "cell_type": "code",
   "execution_count": 118,
   "metadata": {},
   "outputs": [],
   "source": [
    "from sklearn.model_selection import train_test_split\n",
    "from sklearn.preprocessing import StandardScaler\n",
    "from sklearn.model_selection import GridSearchCV\n",
    "from sklearn.metrics import r2_score"
   ]
  },
  {
   "cell_type": "code",
   "execution_count": 119,
   "metadata": {},
   "outputs": [],
   "source": [
    "X_train_org, X_test_org, y_train, y_test = train_test_split(X,y,random_state=0)\n",
    "\n",
    "sc = StandardScaler()\n",
    "X_train = sc.fit_transform(X_train_org)\n",
    "X_test = sc.transform(X_test_org)"
   ]
  },
  {
   "cell_type": "markdown",
   "metadata": {},
   "source": [
    "<b>Linear Regression</b>"
   ]
  },
  {
   "cell_type": "code",
   "execution_count": 120,
   "metadata": {},
   "outputs": [
    {
     "name": "stdout",
     "output_type": "stream",
     "text": [
      "lr.coef_: [ 2.15539664e-02 -7.51886096e-02 -7.81256333e-02 -2.14251269e-02\n",
      "  1.22674714e-01  5.00604348e+11  5.64399131e+10  1.40750995e+12\n",
      "  1.78435834e+11  1.61588769e+12  6.13746242e+11  3.90536767e+11\n",
      "  1.57034424e+12  5.16134103e+11  3.13992628e+11  1.27027446e+12\n",
      "  2.17379339e+12  6.65325987e+11  1.49302079e+11  1.36569417e+12\n",
      "  5.64399131e+10  1.38230553e+11  3.42980835e+11  4.71340478e+11\n",
      "  9.53700762e+11  7.98159620e+10  2.82018891e+11  5.73993259e+11\n",
      "  2.52279039e+11  5.64399131e+10  8.84697006e+11  1.50086375e+12\n",
      "  5.51593176e+11  6.55822921e+11  8.35964895e+11  1.64686549e+12\n",
      "  1.62035721e+12  5.19183333e+11  1.55824028e+12  5.64399131e+10\n",
      "  2.58502189e+11  1.00560138e+12  3.46178291e+12  5.31202049e+11\n",
      "  5.54443753e+11  7.02014358e+11  5.64399131e+10  1.05912490e+12\n",
      "  2.38886911e+12  9.25751310e+11 -7.69110258e+11 -5.58446252e+11\n",
      " -1.80379873e+12 -1.12232986e+12 -8.68559827e+11 -1.09019143e+12\n",
      " -1.80496018e+12 -4.64913698e+11 -1.30008797e+12  1.06397927e+12\n",
      "  1.53495623e+11  1.29861428e+12  1.42033964e+12  1.98953494e+12\n",
      "  2.70381609e+12  2.57542328e+11  8.01775840e+10  1.30496419e+12\n",
      "  2.31317498e+11  1.07748892e+12  1.04498341e+12  1.77942539e+12\n",
      "  2.96145614e+12  6.75597917e+11  1.60127964e+12  4.22848999e+11\n",
      "  6.69734225e+11  2.64507829e+11  2.84278256e+12  1.32359901e+11\n",
      "  2.83517003e+12  4.73879581e+11]\n",
      "lr.intercept_: 7.402913754727493\n",
      "Training set score: 0.5046\n",
      "Test set score: 0.4950\n",
      "R^2:  0.4950330167407273\n"
     ]
    }
   ],
   "source": [
    "from sklearn.linear_model import LinearRegression\n",
    "\n",
    "lr = LinearRegression()\n",
    "lr.fit(X_train, y_train)\n",
    "\n",
    "print(\"lr.coef_:\", lr.coef_)\n",
    "print(\"lr.intercept_:\", lr.intercept_)\n",
    "\n",
    "print(\"Training set score: {:.4f}\".format(lr.score(X_train, y_train)))\n",
    "print(\"Test set score: {:.4f}\".format(lr.score(X_test, y_test)))\n",
    "\n",
    "y_predlr = lr.predict(X_test)\n",
    "print(\"R^2: \", r2_score(y_test, y_predlr))"
   ]
  },
  {
   "cell_type": "markdown",
   "metadata": {},
   "source": [
    "<b>Lasso Regression</b>"
   ]
  },
  {
   "cell_type": "code",
   "execution_count": 121,
   "metadata": {},
   "outputs": [
    {
     "name": "stderr",
     "output_type": "stream",
     "text": [
      "C:\\Users\\samip\\Anaconda3\\lib\\site-packages\\sklearn\\linear_model\\coordinate_descent.py:475: ConvergenceWarning: Objective did not converge. You might want to increase the number of iterations. Duality gap: 42.64780583084348, tolerance: 0.4981476945266166\n",
      "  positive)\n",
      "C:\\Users\\samip\\Anaconda3\\lib\\site-packages\\sklearn\\linear_model\\coordinate_descent.py:475: ConvergenceWarning: Objective did not converge. You might want to increase the number of iterations. Duality gap: 42.126842182873816, tolerance: 0.4918917331247469\n",
      "  positive)\n"
     ]
    },
    {
     "name": "stdout",
     "output_type": "stream",
     "text": [
      "{'mean_fit_time': array([0.90506661, 0.14701092, 0.06350589, 0.04250479, 0.03900552]), 'std_fit_time': array([0.02100098, 0.00800049, 0.0095017 , 0.00150132, 0.00100112]), 'mean_score_time': array([0.00450051, 0.00350022, 0.00299883, 0.00249875, 0.00349784]), 'std_score_time': array([5.00082970e-04, 4.99963760e-04, 9.53674316e-07, 4.98890877e-04,\n",
      "       4.99010086e-04]), 'param_alpha': masked_array(data=[0.0001, 0.001, 0.01, 0.1, 1],\n",
      "             mask=[False, False, False, False, False],\n",
      "       fill_value='?',\n",
      "            dtype=object), 'params': [{'alpha': 0.0001}, {'alpha': 0.001}, {'alpha': 0.01}, {'alpha': 0.1}, {'alpha': 1}], 'split0_test_score': array([ 4.91439174e-01,  4.92299615e-01,  4.87489876e-01,  3.35825963e-01,\n",
      "       -1.01362112e-05]), 'split1_test_score': array([ 4.93375979e-01,  4.94400977e-01,  4.94609780e-01,  3.50109979e-01,\n",
      "       -1.00089162e-05]), 'mean_test_score': array([ 4.92407577e-01,  4.93350296e-01,  4.91049828e-01,  3.42967971e-01,\n",
      "       -1.00725637e-05]), 'std_test_score': array([9.68402556e-04, 1.05068126e-03, 3.55995236e-03, 7.14200793e-03,\n",
      "       6.36475356e-08]), 'rank_test_score': array([2, 1, 3, 4, 5]), 'split0_train_score': array([0.51006785, 0.50988973, 0.50121248, 0.35037108, 0.        ]), 'split1_train_score': array([0.50721333, 0.50705735, 0.49868057, 0.33777627, 0.        ]), 'mean_train_score': array([0.50864059, 0.50847354, 0.49994652, 0.34407367, 0.        ]), 'std_train_score': array([0.00142726, 0.00141619, 0.00126595, 0.00629741, 0.        ])}\n",
      "Lasso(alpha=0.001, copy_X=True, fit_intercept=True, max_iter=1000,\n",
      "      normalize=False, positive=False, precompute=False, random_state=None,\n",
      "      selection='cyclic', tol=0.0001, warm_start=False)\n",
      "Train score: 0.5046\n",
      "Test score: 0.4945\n",
      "R^2:  0.49449510076179026\n"
     ]
    }
   ],
   "source": [
    "from sklearn.linear_model import Lasso\n",
    "\n",
    "lasso_params = {'alpha':[0.0001, 0.001, 0.01, 0.1, 1]}\n",
    "lasso_reg = Lasso()\n",
    "\n",
    "lasso = GridSearchCV(lasso_reg,lasso_params,cv=2,return_train_score=True)\n",
    "lasso.fit(X_train,y_train)\n",
    "\n",
    "print(lasso.cv_results_)\n",
    "print(lasso.best_estimator_)\n",
    "print('Train score: {:.4f}'.format(lasso.score(X_train,y_train)))\n",
    "print('Test score: {:.4f}'.format(lasso.score(X_test, y_test)))\n",
    "\n",
    "y_pred_lasso = lasso.predict(X_test)\n",
    "print(\"R^2: \", r2_score(y_test, y_pred_lasso))"
   ]
  },
  {
   "cell_type": "markdown",
   "metadata": {},
   "source": [
    "<b>Ridge Regression</b>"
   ]
  },
  {
   "cell_type": "code",
   "execution_count": 122,
   "metadata": {},
   "outputs": [
    {
     "name": "stdout",
     "output_type": "stream",
     "text": [
      "{'mean_fit_time': array([0.05623555, 0.04550278, 0.04250395, 0.05550432, 0.04250312]), 'std_fit_time': array([0.00176907, 0.00050008, 0.00250089, 0.00850034, 0.00150013]), 'mean_score_time': array([0.00400126, 0.00250101, 0.00299931, 0.00400007, 0.00250006]), 'std_score_time': array([8.34465027e-07, 5.00679016e-04, 1.19209290e-06, 1.00004673e-03,\n",
      "       5.00202179e-04]), 'param_alpha': masked_array(data=[0.0001, 0.001, 0.01, 0.1, 1],\n",
      "             mask=[False, False, False, False, False],\n",
      "       fill_value='?',\n",
      "            dtype=object), 'params': [{'alpha': 0.0001}, {'alpha': 0.001}, {'alpha': 0.01}, {'alpha': 0.1}, {'alpha': 1}], 'split0_test_score': array([0.49131932, 0.49131932, 0.49131935, 0.49131961, 0.49132219]), 'split1_test_score': array([0.49323045, 0.49323045, 0.49323049, 0.49323087, 0.49323465]), 'mean_test_score': array([0.49227488, 0.49227489, 0.49227492, 0.49227524, 0.49227842]), 'std_test_score': array([0.00095557, 0.00095557, 0.00095557, 0.00095563, 0.00095623]), 'rank_test_score': array([5, 4, 3, 2, 1]), 'split0_train_score': array([0.51006973, 0.51006973, 0.51006973, 0.51006973, 0.51006972]), 'split1_train_score': array([0.50721509, 0.50721509, 0.50721509, 0.50721509, 0.50721508]), 'mean_train_score': array([0.50864241, 0.50864241, 0.50864241, 0.50864241, 0.5086424 ]), 'std_train_score': array([0.00142732, 0.00142732, 0.00142732, 0.00142732, 0.00142732])}\n",
      "Ridge(alpha=1, copy_X=True, fit_intercept=True, max_iter=None, normalize=False,\n",
      "      random_state=None, solver='auto', tol=0.001)\n",
      "Train score: 0.5048\n",
      "Test score: 0.4948\n",
      "R^2:  0.4947714169929316\n"
     ]
    }
   ],
   "source": [
    "from  sklearn.linear_model import Ridge\n",
    "\n",
    "ridge_params = {'alpha':[0.0001, 0.001, 0.01, 0.1, 1]}\n",
    "ridge_reg = Ridge()\n",
    "\n",
    "\n",
    "ridge = GridSearchCV(ridge_reg,ridge_params,cv=2,return_train_score=True)\n",
    "ridge.fit(X_train,y_train)\n",
    "\n",
    "print(ridge.cv_results_)\n",
    "print(ridge.best_estimator_)\n",
    "print('Train score: {:.4f}'.format(ridge.score(X_train,y_train)))\n",
    "print('Test score: {:.4f}'.format(ridge.score(X_test, y_test)))\n",
    "\n",
    "y_pred_ridge = ridge.predict(X_test)\n",
    "print(\"R^2: \", r2_score(y_test, y_pred_ridge))"
   ]
  },
  {
   "cell_type": "markdown",
   "metadata": {},
   "source": [
    "<b>Polynomial Regression</b>"
   ]
  },
  {
   "cell_type": "code",
   "execution_count": 123,
   "metadata": {},
   "outputs": [
    {
     "name": "stdout",
     "output_type": "stream",
     "text": [
      "Train score: 0.5048\n",
      "Test score: 0.4948\n"
     ]
    }
   ],
   "source": [
    "from sklearn.preprocessing import PolynomialFeatures\n",
    "\n",
    "poly = PolynomialFeatures(degree=1)\n",
    "X_train_poly = poly.fit_transform(X_train)\n",
    "X_test_poly = poly.transform(X_test)\n",
    "lr.fit(X_train_poly, y_train)\n",
    "\n",
    "print(\"Train score: {:.4f}\".format(lr.score(X_train_poly, y_train)))\n",
    "print(\"Test score: {:.4f}\".format(lr.score(X_test_poly, y_test)))"
   ]
  },
  {
   "cell_type": "markdown",
   "metadata": {},
   "source": [
    "<b>KNN Regressor</b>"
   ]
  },
  {
   "cell_type": "code",
   "execution_count": 124,
   "metadata": {},
   "outputs": [
    {
     "name": "stdout",
     "output_type": "stream",
     "text": [
      "{'mean_fit_time': array([0.07650423, 0.08500493, 0.06600475, 0.07150519, 0.09250784]), 'std_fit_time': array([0.00450015, 0.03200185, 0.01300097, 0.017501  , 0.02650118]), 'mean_score_time': array([1.94064438, 1.94814479, 1.97264636, 1.97614765, 2.10365522]), 'std_score_time': array([0.10250795, 0.07600629, 0.02150214, 0.02100182, 0.0585047 ]), 'param_n_neighbors': masked_array(data=[41, 43, 45, 47, 49],\n",
      "             mask=[False, False, False, False, False],\n",
      "       fill_value='?',\n",
      "            dtype=object), 'param_p': masked_array(data=[1, 1, 1, 1, 1],\n",
      "             mask=[False, False, False, False, False],\n",
      "       fill_value='?',\n",
      "            dtype=object), 'params': [{'n_neighbors': 41, 'p': 1}, {'n_neighbors': 43, 'p': 1}, {'n_neighbors': 45, 'p': 1}, {'n_neighbors': 47, 'p': 1}, {'n_neighbors': 49, 'p': 1}], 'split0_test_score': array([0.46468999, 0.46186829, 0.45842452, 0.45461722, 0.45140837]), 'split1_test_score': array([0.46637075, 0.46261393, 0.45860461, 0.45515418, 0.45234337]), 'mean_test_score': array([0.46553037, 0.46224111, 0.45851457, 0.4548857 , 0.45187587]), 'std_test_score': array([8.40381425e-04, 3.72816168e-04, 9.00459201e-05, 2.68475585e-04,\n",
      "       4.67498516e-04]), 'rank_test_score': array([1, 2, 3, 4, 5]), 'split0_train_score': array([0.50474729, 0.50019097, 0.4960224 , 0.49176897, 0.48785771]), 'split1_train_score': array([0.48838327, 0.48311796, 0.47965626, 0.47619821, 0.47182427]), 'mean_train_score': array([0.49656528, 0.49165446, 0.48783933, 0.48398359, 0.47984099]), 'std_train_score': array([0.00818201, 0.0085365 , 0.00818307, 0.00778538, 0.00801672])}\n",
      "KNeighborsRegressor(algorithm='auto', leaf_size=30, metric='minkowski',\n",
      "                    metric_params=None, n_jobs=None, n_neighbors=41, p=1,\n",
      "                    weights='uniform')\n",
      "Train score: 0.0440\n",
      "Test score: 0.0432\n",
      "R^2:  0.04317134030321235\n"
     ]
    }
   ],
   "source": [
    "from sklearn.neighbors import KNeighborsRegressor\n",
    "\n",
    "knn_params = {'n_neighbors':[41, 43, 45, 47, 49],\n",
    "              'p': [1]}\n",
    "knn_reg = KNeighborsRegressor()\n",
    "\n",
    "knn = GridSearchCV(knn_reg,knn_params,cv=2,return_train_score=True)\n",
    "knn.fit(X, y)\n",
    "\n",
    "print(knn.cv_results_)\n",
    "print(knn.best_estimator_)\n",
    "print('Train score: {:.4f}'.format(knn.score(X_train,y_train)))\n",
    "print('Test score: {:.4f}'.format(knn.score(X_test,y_test)))\n",
    "\n",
    "y_pred_knn = knn.predict(X_test)\n",
    "print(\"R^2: \", r2_score(y_test, y_pred_knn))"
   ]
  },
  {
   "cell_type": "markdown",
   "metadata": {},
   "source": [
    "<b>Simple SVM</b>"
   ]
  },
  {
   "cell_type": "code",
   "execution_count": 125,
   "metadata": {},
   "outputs": [
    {
     "name": "stderr",
     "output_type": "stream",
     "text": [
      "C:\\Users\\samip\\Anaconda3\\lib\\site-packages\\sklearn\\svm\\base.py:929: ConvergenceWarning: Liblinear failed to converge, increase the number of iterations.\n",
      "  \"the number of iterations.\", ConvergenceWarning)\n",
      "C:\\Users\\samip\\Anaconda3\\lib\\site-packages\\sklearn\\svm\\base.py:929: ConvergenceWarning: Liblinear failed to converge, increase the number of iterations.\n",
      "  \"the number of iterations.\", ConvergenceWarning)\n",
      "C:\\Users\\samip\\Anaconda3\\lib\\site-packages\\sklearn\\svm\\base.py:929: ConvergenceWarning: Liblinear failed to converge, increase the number of iterations.\n",
      "  \"the number of iterations.\", ConvergenceWarning)\n",
      "C:\\Users\\samip\\Anaconda3\\lib\\site-packages\\sklearn\\svm\\base.py:929: ConvergenceWarning: Liblinear failed to converge, increase the number of iterations.\n",
      "  \"the number of iterations.\", ConvergenceWarning)\n",
      "C:\\Users\\samip\\Anaconda3\\lib\\site-packages\\sklearn\\svm\\base.py:929: ConvergenceWarning: Liblinear failed to converge, increase the number of iterations.\n",
      "  \"the number of iterations.\", ConvergenceWarning)\n",
      "C:\\Users\\samip\\Anaconda3\\lib\\site-packages\\sklearn\\svm\\base.py:929: ConvergenceWarning: Liblinear failed to converge, increase the number of iterations.\n",
      "  \"the number of iterations.\", ConvergenceWarning)\n",
      "C:\\Users\\samip\\Anaconda3\\lib\\site-packages\\sklearn\\svm\\base.py:929: ConvergenceWarning: Liblinear failed to converge, increase the number of iterations.\n",
      "  \"the number of iterations.\", ConvergenceWarning)\n",
      "C:\\Users\\samip\\Anaconda3\\lib\\site-packages\\sklearn\\svm\\base.py:929: ConvergenceWarning: Liblinear failed to converge, increase the number of iterations.\n",
      "  \"the number of iterations.\", ConvergenceWarning)\n",
      "C:\\Users\\samip\\Anaconda3\\lib\\site-packages\\sklearn\\svm\\base.py:929: ConvergenceWarning: Liblinear failed to converge, increase the number of iterations.\n",
      "  \"the number of iterations.\", ConvergenceWarning)\n",
      "C:\\Users\\samip\\Anaconda3\\lib\\site-packages\\sklearn\\svm\\base.py:929: ConvergenceWarning: Liblinear failed to converge, increase the number of iterations.\n",
      "  \"the number of iterations.\", ConvergenceWarning)\n",
      "C:\\Users\\samip\\Anaconda3\\lib\\site-packages\\sklearn\\svm\\base.py:929: ConvergenceWarning: Liblinear failed to converge, increase the number of iterations.\n",
      "  \"the number of iterations.\", ConvergenceWarning)\n",
      "C:\\Users\\samip\\Anaconda3\\lib\\site-packages\\sklearn\\svm\\base.py:929: ConvergenceWarning: Liblinear failed to converge, increase the number of iterations.\n",
      "  \"the number of iterations.\", ConvergenceWarning)\n",
      "C:\\Users\\samip\\Anaconda3\\lib\\site-packages\\sklearn\\svm\\base.py:929: ConvergenceWarning: Liblinear failed to converge, increase the number of iterations.\n",
      "  \"the number of iterations.\", ConvergenceWarning)\n",
      "C:\\Users\\samip\\Anaconda3\\lib\\site-packages\\sklearn\\svm\\base.py:929: ConvergenceWarning: Liblinear failed to converge, increase the number of iterations.\n",
      "  \"the number of iterations.\", ConvergenceWarning)\n",
      "C:\\Users\\samip\\Anaconda3\\lib\\site-packages\\sklearn\\svm\\base.py:929: ConvergenceWarning: Liblinear failed to converge, increase the number of iterations.\n",
      "  \"the number of iterations.\", ConvergenceWarning)\n",
      "C:\\Users\\samip\\Anaconda3\\lib\\site-packages\\sklearn\\svm\\base.py:929: ConvergenceWarning: Liblinear failed to converge, increase the number of iterations.\n",
      "  \"the number of iterations.\", ConvergenceWarning)\n",
      "C:\\Users\\samip\\Anaconda3\\lib\\site-packages\\sklearn\\svm\\base.py:929: ConvergenceWarning: Liblinear failed to converge, increase the number of iterations.\n",
      "  \"the number of iterations.\", ConvergenceWarning)\n",
      "C:\\Users\\samip\\Anaconda3\\lib\\site-packages\\sklearn\\svm\\base.py:929: ConvergenceWarning: Liblinear failed to converge, increase the number of iterations.\n",
      "  \"the number of iterations.\", ConvergenceWarning)\n",
      "C:\\Users\\samip\\Anaconda3\\lib\\site-packages\\sklearn\\svm\\base.py:929: ConvergenceWarning: Liblinear failed to converge, increase the number of iterations.\n",
      "  \"the number of iterations.\", ConvergenceWarning)\n",
      "C:\\Users\\samip\\Anaconda3\\lib\\site-packages\\sklearn\\svm\\base.py:929: ConvergenceWarning: Liblinear failed to converge, increase the number of iterations.\n",
      "  \"the number of iterations.\", ConvergenceWarning)\n",
      "C:\\Users\\samip\\Anaconda3\\lib\\site-packages\\sklearn\\svm\\base.py:929: ConvergenceWarning: Liblinear failed to converge, increase the number of iterations.\n",
      "  \"the number of iterations.\", ConvergenceWarning)\n",
      "C:\\Users\\samip\\Anaconda3\\lib\\site-packages\\sklearn\\svm\\base.py:929: ConvergenceWarning: Liblinear failed to converge, increase the number of iterations.\n",
      "  \"the number of iterations.\", ConvergenceWarning)\n",
      "C:\\Users\\samip\\Anaconda3\\lib\\site-packages\\sklearn\\svm\\base.py:929: ConvergenceWarning: Liblinear failed to converge, increase the number of iterations.\n",
      "  \"the number of iterations.\", ConvergenceWarning)\n",
      "C:\\Users\\samip\\Anaconda3\\lib\\site-packages\\sklearn\\svm\\base.py:929: ConvergenceWarning: Liblinear failed to converge, increase the number of iterations.\n",
      "  \"the number of iterations.\", ConvergenceWarning)\n",
      "C:\\Users\\samip\\Anaconda3\\lib\\site-packages\\sklearn\\svm\\base.py:929: ConvergenceWarning: Liblinear failed to converge, increase the number of iterations.\n",
      "  \"the number of iterations.\", ConvergenceWarning)\n",
      "C:\\Users\\samip\\Anaconda3\\lib\\site-packages\\sklearn\\svm\\base.py:929: ConvergenceWarning: Liblinear failed to converge, increase the number of iterations.\n",
      "  \"the number of iterations.\", ConvergenceWarning)\n",
      "C:\\Users\\samip\\Anaconda3\\lib\\site-packages\\sklearn\\svm\\base.py:929: ConvergenceWarning: Liblinear failed to converge, increase the number of iterations.\n",
      "  \"the number of iterations.\", ConvergenceWarning)\n",
      "C:\\Users\\samip\\Anaconda3\\lib\\site-packages\\sklearn\\svm\\base.py:929: ConvergenceWarning: Liblinear failed to converge, increase the number of iterations.\n",
      "  \"the number of iterations.\", ConvergenceWarning)\n",
      "C:\\Users\\samip\\Anaconda3\\lib\\site-packages\\sklearn\\svm\\base.py:929: ConvergenceWarning: Liblinear failed to converge, increase the number of iterations.\n",
      "  \"the number of iterations.\", ConvergenceWarning)\n",
      "C:\\Users\\samip\\Anaconda3\\lib\\site-packages\\sklearn\\svm\\base.py:929: ConvergenceWarning: Liblinear failed to converge, increase the number of iterations.\n",
      "  \"the number of iterations.\", ConvergenceWarning)\n"
     ]
    },
    {
     "name": "stdout",
     "output_type": "stream",
     "text": [
      "{'mean_fit_time': array([0.93656957, 0.88907599, 0.78355038, 0.02950382, 0.01950109,\n",
      "       1.07307827, 0.94707012, 0.83756268, 0.03450179, 0.01999819,\n",
      "       0.96057081, 0.97707379, 0.86857378, 0.02900302, 0.01949513,\n",
      "       1.2640928 , 1.4381063 , 0.96457708, 0.03050244, 0.02050066,\n",
      "       0.9960742 , 0.99908388, 0.80105078, 0.04500341, 0.03000116]), 'std_fit_time': array([5.75009584e-02, 2.59928703e-02, 3.94929647e-02, 8.50081444e-03,\n",
      "       4.99129295e-04, 1.18004203e-01, 2.20022202e-02, 3.55039835e-02,\n",
      "       9.49764252e-03, 9.99569893e-04, 7.50088692e-03, 2.00068951e-03,\n",
      "       1.15102530e-02, 7.00199604e-03, 4.89592552e-04, 6.00135326e-03,\n",
      "       3.80027294e-02, 2.74914503e-02, 4.50003147e-03, 5.01155853e-04,\n",
      "       4.59849834e-02, 2.70110369e-02, 3.99005413e-03, 3.99971008e-03,\n",
      "       2.38418579e-07]), 'mean_score_time': array([0.00799894, 0.00749886, 0.00799918, 0.00749981, 0.00750089,\n",
      "       0.00799906, 0.00800085, 0.00800192, 0.00750113, 0.0070014 ,\n",
      "       0.00750005, 0.00799882, 0.00800192, 0.00799978, 0.00699925,\n",
      "       0.00750101, 0.00850177, 0.00849652, 0.0080018 , 0.00700176,\n",
      "       0.00750017, 0.01000202, 0.0074991 , 0.01100028, 0.00900102]), 'std_score_time': array([1.43051147e-06, 5.00798225e-04, 1.43051147e-06, 5.00321388e-04,\n",
      "       4.98771667e-04, 1.31130219e-06, 9.53674316e-07, 1.19209290e-07,\n",
      "       5.00202179e-04, 4.76837158e-07, 5.00321388e-04, 3.57627869e-07,\n",
      "       1.54972076e-06, 8.34465027e-07, 7.15255737e-07, 5.00559807e-04,\n",
      "       5.01155853e-04, 4.92572784e-04, 1.19209290e-06, 1.07288361e-06,\n",
      "       4.98294830e-04, 2.99799442e-03, 4.98890877e-04, 3.00085545e-03,\n",
      "       1.00040436e-03]), 'param_C': masked_array(data=[0.01, 0.01, 0.01, 0.01, 0.01, 0.1, 0.1, 0.1, 0.1, 0.1,\n",
      "                   1, 1, 1, 1, 1, 10, 10, 10, 10, 10, 100, 100, 100, 100,\n",
      "                   100],\n",
      "             mask=[False, False, False, False, False, False, False, False,\n",
      "                   False, False, False, False, False, False, False, False,\n",
      "                   False, False, False, False, False, False, False, False,\n",
      "                   False],\n",
      "       fill_value='?',\n",
      "            dtype=object), 'param_epsilon': masked_array(data=[0.01, 0.1, 1, 10, 100, 0.01, 0.1, 1, 10, 100, 0.01,\n",
      "                   0.1, 1, 10, 100, 0.01, 0.1, 1, 10, 100, 0.01, 0.1, 1,\n",
      "                   10, 100],\n",
      "             mask=[False, False, False, False, False, False, False, False,\n",
      "                   False, False, False, False, False, False, False, False,\n",
      "                   False, False, False, False, False, False, False, False,\n",
      "                   False],\n",
      "       fill_value='?',\n",
      "            dtype=object), 'params': [{'C': 0.01, 'epsilon': 0.01}, {'C': 0.01, 'epsilon': 0.1}, {'C': 0.01, 'epsilon': 1}, {'C': 0.01, 'epsilon': 10}, {'C': 0.01, 'epsilon': 100}, {'C': 0.1, 'epsilon': 0.01}, {'C': 0.1, 'epsilon': 0.1}, {'C': 0.1, 'epsilon': 1}, {'C': 0.1, 'epsilon': 10}, {'C': 0.1, 'epsilon': 100}, {'C': 1, 'epsilon': 0.01}, {'C': 1, 'epsilon': 0.1}, {'C': 1, 'epsilon': 1}, {'C': 1, 'epsilon': 10}, {'C': 1, 'epsilon': 100}, {'C': 10, 'epsilon': 0.01}, {'C': 10, 'epsilon': 0.1}, {'C': 10, 'epsilon': 1}, {'C': 10, 'epsilon': 10}, {'C': 10, 'epsilon': 100}, {'C': 100, 'epsilon': 0.01}, {'C': 100, 'epsilon': 0.1}, {'C': 100, 'epsilon': 1}, {'C': 100, 'epsilon': 10}, {'C': 100, 'epsilon': 100}], 'split0_test_score': array([ 3.11977114e-01,  3.16993782e-01,  5.11755376e-02, -5.39254995e+01,\n",
      "       -1.06951376e+02,  2.08169984e-01,  5.66280670e-02,  4.81220674e-02,\n",
      "       -5.39248204e+01, -1.06951376e+02,  4.08144420e-01,  1.34210592e-01,\n",
      "        1.97697891e-01, -5.39253740e+01, -1.06951376e+02,  4.57177836e-01,\n",
      "        3.77191408e-01, -1.22406001e+00, -5.39247763e+01, -1.06951376e+02,\n",
      "        4.22754152e-01, -3.71030136e+00, -9.10928020e-01, -5.39257180e+01,\n",
      "       -1.06951376e+02]), 'split1_test_score': array([ 1.76499319e-01,  2.57714196e-01, -1.63687498e-02, -7.23741056e+01,\n",
      "       -1.00402022e+02, -1.71248756e-01,  3.80998261e-01,  6.95604505e-02,\n",
      "       -7.23750368e+01, -1.00402022e+02,  3.19983186e-01,  2.98791931e-01,\n",
      "        1.75858256e-01, -7.23752523e+01, -1.00402022e+02, -1.16894663e+00,\n",
      "        3.65709602e-01,  5.19089220e-03, -7.23748009e+01, -1.00402022e+02,\n",
      "       -3.69123097e-02,  2.91993977e-01, -2.06205468e-02, -7.23742604e+01,\n",
      "       -1.00402022e+02]), 'mean_test_score': array([ 2.44238217e-01,  2.87353989e-01,  1.74033939e-02, -6.31498026e+01,\n",
      "       -1.03676699e+02,  1.84606138e-02,  2.18813164e-01,  5.88412589e-02,\n",
      "       -6.31499286e+01, -1.03676699e+02,  3.64063803e-01,  2.16501261e-01,\n",
      "        1.86778074e-01, -6.31503132e+01, -1.03676699e+02, -3.55884397e-01,\n",
      "        3.71450505e-01, -6.09434560e-01, -6.31497886e+01, -1.03676699e+02,\n",
      "        1.92920921e-01, -1.70915369e+00, -4.65774283e-01, -6.31499892e+01,\n",
      "       -1.03676699e+02]), 'std_test_score': array([6.77388973e-02, 2.96397930e-02, 3.37721437e-02, 9.22430305e+00,\n",
      "       3.27467693e+00, 1.89709370e-01, 1.62185097e-01, 1.07191916e-02,\n",
      "       9.22510820e+00, 3.27467693e+00, 4.40806172e-02, 8.22906694e-02,\n",
      "       1.09198178e-02, 9.22493916e+00, 3.27467693e+00, 8.13062233e-01,\n",
      "       5.74090339e-03, 6.14625452e-01, 9.22501227e+00, 3.27467693e+00,\n",
      "       2.29833231e-01, 2.00114767e+00, 4.45153737e-01, 9.22427118e+00,\n",
      "       3.27467693e+00]), 'rank_test_score': array([ 4,  3, 11, 17, 21, 10,  5,  9, 18, 21,  2,  6,  8, 20, 21, 12,  1,\n",
      "       14, 16, 21,  7, 15, 13, 19, 21]), 'split0_train_score': array([ 3.26151715e-01,  3.26608397e-01,  8.49397532e-02, -5.04506655e+01,\n",
      "       -1.00402022e+02,  2.40613857e-01,  8.17616117e-02,  1.04670492e-01,\n",
      "       -5.04500291e+01, -1.00402022e+02,  4.44698037e-01,  1.39294246e-01,\n",
      "        2.31123659e-01, -5.04505479e+01, -1.00402022e+02,  4.81720704e-01,\n",
      "        3.96461461e-01, -1.08214686e+00, -5.04499878e+01, -1.00402022e+02,\n",
      "        4.61136279e-01, -3.63956729e+00, -7.87908858e-01, -5.04508702e+01,\n",
      "       -1.00402022e+02]), 'split1_train_score': array([ 1.89634291e-01,  2.67880303e-01, -5.05426199e-02, -7.72710232e+01,\n",
      "       -1.06951376e+02, -2.56381849e-01,  3.64247299e-01,  4.08683872e-02,\n",
      "       -7.72720150e+01, -1.06951376e+02,  2.78964005e-01,  2.67315225e-01,\n",
      "        1.41538023e-01, -7.72722446e+01, -1.06951376e+02, -1.18738752e+00,\n",
      "        3.49016245e-01, -5.25741223e-02, -7.72717616e+01, -1.06951376e+02,\n",
      "       -4.82213310e-02,  2.81224761e-01, -8.20711325e-02, -7.72711903e+01,\n",
      "       -1.06951376e+02]), 'mean_train_score': array([ 2.57893003e-01,  2.97244350e-01,  1.71985667e-02, -6.38608444e+01,\n",
      "       -1.03676699e+02, -7.88399600e-03,  2.23004455e-01,  7.27694398e-02,\n",
      "       -6.38610220e+01, -1.03676699e+02,  3.61831021e-01,  2.03304735e-01,\n",
      "        1.86330841e-01, -6.38613962e+01, -1.03676699e+02, -3.52833410e-01,\n",
      "        3.72738853e-01, -5.67360489e-01, -6.38608747e+01, -1.03676699e+02,\n",
      "        2.06457474e-01, -1.67917126e+00, -4.34989995e-01, -6.38610303e+01,\n",
      "       -1.03676699e+02]), 'std_train_score': array([ 0.06825871,  0.02936405,  0.06774119, 13.41017887,  3.27467693,\n",
      "        0.24849785,  0.14124284,  0.03190105, 13.41099296,  3.27467693,\n",
      "        0.08286702,  0.06401049,  0.04479282, 13.41084837,  3.27467693,\n",
      "        0.83455411,  0.02372261,  0.51478637, 13.41088687,  3.27467693,\n",
      "        0.25467881,  1.96039602,  0.35291886, 13.41016006,  3.27467693])}\n",
      "LinearSVR(C=10, dual=True, epsilon=0.1, fit_intercept=True,\n",
      "          intercept_scaling=1.0, loss='epsilon_insensitive', max_iter=1000,\n",
      "          random_state=None, tol=0.0001, verbose=0)\n",
      "Train score: -36.4677\n",
      "Test score: -34.5490\n",
      "R^2:  -34.549046316838634\n"
     ]
    },
    {
     "name": "stderr",
     "output_type": "stream",
     "text": [
      "C:\\Users\\samip\\Anaconda3\\lib\\site-packages\\sklearn\\svm\\base.py:929: ConvergenceWarning: Liblinear failed to converge, increase the number of iterations.\n",
      "  \"the number of iterations.\", ConvergenceWarning)\n"
     ]
    }
   ],
   "source": [
    "from sklearn.svm import SVR, LinearSVR\n",
    "\n",
    "svm_simple_params = {'C':[0.01,0.1,1,10,100],\n",
    "                     'epsilon':[0.01,0.1,1,10,100]\n",
    "                    }\n",
    "\n",
    "svm_simple_reg = LinearSVR()\n",
    "svm_simple = GridSearchCV(estimator=svm_simple_reg,param_grid=svm_simple_params,cv=2,return_train_score=True)\n",
    "\n",
    "svm_simple.fit(X, y)\n",
    "\n",
    "print(svm_simple.cv_results_)\n",
    "print(svm_simple.best_estimator_)\n",
    "print('Train score: {:.4f}'.format(svm_simple.score(X_train,y_train)))\n",
    "print('Test score: {:.4f}'.format(svm_simple.score(X_test,y_test)))\n",
    "\n",
    "y_pred_svm_simple = svm_simple.predict(X_test)\n",
    "print(\"R^2: \", r2_score(y_test, y_pred_svm_simple))"
   ]
  },
  {
   "cell_type": "markdown",
   "metadata": {},
   "source": [
    "<b>SVM with kernels</b>"
   ]
  },
  {
   "cell_type": "code",
   "execution_count": 126,
   "metadata": {},
   "outputs": [
    {
     "name": "stdout",
     "output_type": "stream",
     "text": [
      "{'mean_fit_time': array([  4.64584267,  12.71543145,  84.75917053,   9.2623148 ,\n",
      "        32.98444533, 105.34165668,  44.02501833,  39.13953662,\n",
      "       106.4748857 ]), 'std_fit_time': array([ 0.16951191,  0.27952909,  1.35000324,  0.27765131,  0.27300763,\n",
      "        7.84320974,  1.22885597,  3.97691751, 10.86782646]), 'mean_score_time': array([ 2.74021161,  6.40467894, 16.31169462,  3.51125908,  7.05102026,\n",
      "       16.43271351,  4.37782264,  7.08301258, 17.51729524]), 'std_score_time': array([0.02799141, 0.02381265, 0.02549195, 0.11500883, 0.04150307,\n",
      "       0.05850387, 0.0695045 , 0.13452101, 1.04907763]), 'param_C': masked_array(data=[1, 1, 1, 10, 10, 10, 100, 100, 100],\n",
      "             mask=[False, False, False, False, False, False, False, False,\n",
      "                   False],\n",
      "       fill_value='?',\n",
      "            dtype=object), 'param_gamma': masked_array(data=[0.01, 0.1, 1, 0.01, 0.1, 1, 0.01, 0.1, 1],\n",
      "             mask=[False, False, False, False, False, False, False, False,\n",
      "                   False],\n",
      "       fill_value='?',\n",
      "            dtype=object), 'param_kernel': masked_array(data=['rbf', 'rbf', 'rbf', 'rbf', 'rbf', 'rbf', 'rbf', 'rbf',\n",
      "                   'rbf'],\n",
      "             mask=[False, False, False, False, False, False, False, False,\n",
      "                   False],\n",
      "       fill_value='?',\n",
      "            dtype=object), 'params': [{'C': 1, 'gamma': 0.01, 'kernel': 'rbf'}, {'C': 1, 'gamma': 0.1, 'kernel': 'rbf'}, {'C': 1, 'gamma': 1, 'kernel': 'rbf'}, {'C': 10, 'gamma': 0.01, 'kernel': 'rbf'}, {'C': 10, 'gamma': 0.1, 'kernel': 'rbf'}, {'C': 10, 'gamma': 1, 'kernel': 'rbf'}, {'C': 100, 'gamma': 0.01, 'kernel': 'rbf'}, {'C': 100, 'gamma': 0.1, 'kernel': 'rbf'}, {'C': 100, 'gamma': 1, 'kernel': 'rbf'}], 'split0_test_score': array([0.49124691, 0.49132755, 0.0855767 , 0.64840372, 0.5673025 ,\n",
      "       0.11194208, 0.64252878, 0.55710811, 0.11194208]), 'split1_test_score': array([0.47521042, 0.47299249, 0.08006977, 0.62716911, 0.56018757,\n",
      "       0.11739976, 0.63042171, 0.55665804, 0.11739976]), 'mean_test_score': array([0.48322867, 0.48216002, 0.08282323, 0.63778641, 0.56374503,\n",
      "       0.11467092, 0.63647525, 0.55688308, 0.11467092]), 'std_test_score': array([0.00801824, 0.00916753, 0.00275347, 0.01061731, 0.00355746,\n",
      "       0.00272884, 0.00605354, 0.00022503, 0.00272884]), 'rank_test_score': array([5, 6, 9, 1, 3, 7, 2, 4, 7]), 'split0_train_score': array([0.55496747, 0.78837817, 0.70820638, 0.81777151, 0.98425987,\n",
      "       0.98277962, 0.94105766, 0.98738871, 0.98277962]), 'split1_train_score': array([0.5462085 , 0.78353314, 0.70808372, 0.80570696, 0.98592148,\n",
      "       0.98150142, 0.93650494, 0.98701159, 0.98150142]), 'mean_train_score': array([0.55058798, 0.78595566, 0.70814505, 0.81173924, 0.98509067,\n",
      "       0.98214052, 0.9387813 , 0.98720015, 0.98214052]), 'std_train_score': array([4.37948135e-03, 2.42251748e-03, 6.13305250e-05, 6.03227558e-03,\n",
      "       8.30805970e-04, 6.39097241e-04, 2.27635882e-03, 1.88558698e-04,\n",
      "       6.39097241e-04])}\n",
      "SVR(C=10, cache_size=200, coef0=0.0, degree=3, epsilon=0.1, gamma=0.01,\n",
      "    kernel='rbf', max_iter=-1, shrinking=True, tol=0.001, verbose=False)\n",
      "Train score: -0.5594\n",
      "Test score: -0.5400\n",
      "R^2:  -0.5400107979019384\n"
     ]
    }
   ],
   "source": [
    "svm_rbf_params = {'C':[1,10,100],\n",
    "                  'gamma':[.01,.1,1],\n",
    "                  'kernel':['rbf']\n",
    "                 }\n",
    "\n",
    "svm_rbf_reg = SVR()\n",
    "svm_rbf = GridSearchCV(svm_rbf_reg,svm_rbf_params,cv=2,return_train_score=True)\n",
    "\n",
    "svm_rbf.fit(X, y)\n",
    "\n",
    "print(svm_rbf.cv_results_)\n",
    "print(svm_rbf.best_estimator_)\n",
    "print('Train score: {:.4f}'.format(svm_rbf.score(X_train,y_train)))\n",
    "print('Test score: {:.4f}'.format(svm_rbf.score(X_test,y_test)))\n",
    "\n",
    "y_pred_svm_rbf = svm_rbf.predict(X_test)\n",
    "print(\"R^2: \", r2_score(y_test, y_pred_svm_rbf))"
   ]
  },
  {
   "cell_type": "code",
   "execution_count": 127,
   "metadata": {},
   "outputs": [
    {
     "data": {
      "text/plain": [
       "'\\nsvm_poly_params = {\\'C\\':[1,10,100],\\n                  \\'gamma\\':[.01,.1,1],\\n                  \\'kernel\\':[\\'poly\\']\\n                 }\\n\\nsvm_poly_reg = SVR()\\nsvm_poly = GridSearchCV(svm_poly_reg,svm_poly_params,cv=2,return_train_score=True,n_jobs=-1)\\n\\nsvm_poly.fit(X, y)\\n\\nprint(svm_poly.cv_results_)\\nprint(svm_poly.best_estimator_)\\nprint(\\'Train score: {:.4f}\\'.format(svm_poly.score(X_train,y_train)))\\nprint(\\'Test score: {:.4f}\\'.format(svm_poly.score(X_test,y_test)))\\n\\ny_pred_svm_poly = svm_poly.predict(X_test)\\nprint(\"R^2: \", r2_score(y_test, y_pred_svm_poly))\\n'"
      ]
     },
     "execution_count": 127,
     "metadata": {},
     "output_type": "execute_result"
    }
   ],
   "source": [
    "'''\n",
    "svm_poly_params = {'C':[1,10,100],\n",
    "                  'gamma':[.01,.1,1],\n",
    "                  'kernel':['poly']\n",
    "                 }\n",
    "\n",
    "svm_poly_reg = SVR()\n",
    "svm_poly = GridSearchCV(svm_poly_reg,svm_poly_params,cv=2,return_train_score=True,n_jobs=-1)\n",
    "\n",
    "svm_poly.fit(X, y)\n",
    "\n",
    "print(svm_poly.cv_results_)\n",
    "print(svm_poly.best_estimator_)\n",
    "print('Train score: {:.4f}'.format(svm_poly.score(X_train,y_train)))\n",
    "print('Test score: {:.4f}'.format(svm_poly.score(X_test,y_test)))\n",
    "\n",
    "y_pred_svm_poly = svm_poly.predict(X_test)\n",
    "print(\"R^2: \", r2_score(y_test, y_pred_svm_poly))\n",
    "'''"
   ]
  },
  {
   "cell_type": "code",
   "execution_count": 128,
   "metadata": {},
   "outputs": [
    {
     "data": {
      "text/plain": [
       "'\\nsvm_linear_params = {\\'C\\':[1,10,100],\\n                     \\'gamma\\':[.01,.1,1],\\n                     \\'kernel\\':[\\'linear\\']\\n                    }\\n\\nsvm_linear_reg = SVR()\\nsvm_linear = GridSearchCV(svm_linear_reg,svm_linear_params,cv=2,return_train_score=True,n_jobs=-1)\\n\\nsvm_linear.fit(X, y)\\n\\nprint(svm_linear.cv_results_)\\nprint(svm_linear.best_estimator_)\\nprint(\\'Train score: {:.4f}\\'.format(svm_linear.score(X_train,y_train)))\\nprint(\\'Test score: {:.4f}\\'.format(svm_linear.score(X_test,y_test)))\\n\\ny_pred_svm_linear = svm_linear.predict(X_test)\\nprint(\"R^2: \", r2_score(y_test, y_pred_svm_linear))\\n'"
      ]
     },
     "execution_count": 128,
     "metadata": {},
     "output_type": "execute_result"
    }
   ],
   "source": [
    "'''\n",
    "svm_linear_params = {'C':[1,10,100],\n",
    "                     'gamma':[.01,.1,1],\n",
    "                     'kernel':['linear']\n",
    "                    }\n",
    "\n",
    "svm_linear_reg = SVR()\n",
    "svm_linear = GridSearchCV(svm_linear_reg,svm_linear_params,cv=2,return_train_score=True,n_jobs=-1)\n",
    "\n",
    "svm_linear.fit(X, y)\n",
    "\n",
    "print(svm_linear.cv_results_)\n",
    "print(svm_linear.best_estimator_)\n",
    "print('Train score: {:.4f}'.format(svm_linear.score(X_train,y_train)))\n",
    "print('Test score: {:.4f}'.format(svm_linear.score(X_test,y_test)))\n",
    "\n",
    "y_pred_svm_linear = svm_linear.predict(X_test)\n",
    "print(\"R^2: \", r2_score(y_test, y_pred_svm_linear))\n",
    "'''"
   ]
  },
  {
   "cell_type": "markdown",
   "metadata": {},
   "source": [
    "# Decision Tree Regressor"
   ]
  },
  {
   "cell_type": "code",
   "execution_count": 129,
   "metadata": {},
   "outputs": [
    {
     "name": "stdout",
     "output_type": "stream",
     "text": [
      " Parameter grid for Decision Tree Regressor is: {'criterion': ['mse', 'friedman_mse', 'mae'], 'max_depth': [1, 2, 3, 4, 5]}\n"
     ]
    }
   ],
   "source": [
    "param_grid_dtr={'criterion':[\"mse\", \"friedman_mse\", \"mae\"],\n",
    "               'max_depth':[1,2,3,4,5]}\n",
    "print(\" Parameter grid for Decision Tree Regressor is: {}\".format(param_grid_dtr))"
   ]
  },
  {
   "cell_type": "code",
   "execution_count": 130,
   "metadata": {},
   "outputs": [],
   "source": [
    "grid_search_dtr=GridSearchCV(DecisionTreeRegressor(),param_grid_dtr,scoring='r2',return_train_score=True,n_jobs=-1,refit='r2')"
   ]
  },
  {
   "cell_type": "code",
   "execution_count": 131,
   "metadata": {},
   "outputs": [
    {
     "name": "stderr",
     "output_type": "stream",
     "text": [
      "C:\\Users\\samip\\Anaconda3\\lib\\site-packages\\sklearn\\model_selection\\_split.py:1978: FutureWarning: The default value of cv will change from 3 to 5 in version 0.22. Specify it explicitly to silence this warning.\n",
      "  warnings.warn(CV_WARNING, FutureWarning)\n"
     ]
    },
    {
     "data": {
      "text/plain": [
       "GridSearchCV(cv='warn', error_score='raise-deprecating',\n",
       "             estimator=DecisionTreeRegressor(criterion='mse', max_depth=None,\n",
       "                                             max_features=None,\n",
       "                                             max_leaf_nodes=None,\n",
       "                                             min_impurity_decrease=0.0,\n",
       "                                             min_impurity_split=None,\n",
       "                                             min_samples_leaf=1,\n",
       "                                             min_samples_split=2,\n",
       "                                             min_weight_fraction_leaf=0.0,\n",
       "                                             presort=False, random_state=None,\n",
       "                                             splitter='best'),\n",
       "             iid='warn', n_jobs=-1,\n",
       "             param_grid={'criterion': ['mse', 'friedman_mse', 'mae'],\n",
       "                         'max_depth': [1, 2, 3, 4, 5]},\n",
       "             pre_dispatch='2*n_jobs', refit='r2', return_train_score=True,\n",
       "             scoring='r2', verbose=0)"
      ]
     },
     "execution_count": 131,
     "metadata": {},
     "output_type": "execute_result"
    }
   ],
   "source": [
    "grid_search_dtr.fit(X_train,y_train)"
   ]
  },
  {
   "cell_type": "code",
   "execution_count": 132,
   "metadata": {},
   "outputs": [
    {
     "name": "stdout",
     "output_type": "stream",
     "text": [
      "Best parameters: {'criterion': 'mse', 'max_depth': 5}\n",
      "Best r2 score: 0.60\n"
     ]
    }
   ],
   "source": [
    "print(\"Best parameters: {}\".format(grid_search_dtr.best_params_))\n",
    "print(\"Best r2 score: {:.2f}\".format(grid_search_dtr.best_score_))"
   ]
  },
  {
   "cell_type": "markdown",
   "metadata": {},
   "source": [
    "# Conclusion\n",
    "\n",
    "<b> We are getting best R^2 value(0.60) from Decision Tree Regression.So we can say that Decision tree works well in this scenario. \n",
    "Moreover, The ridge regression model works the best for the regressing data as It had a training score of 0.5048, and a test set score of 0.4948. The R^2 value was 0.4947714169929378. </b>"
   ]
  }
 ],
 "metadata": {
  "kernelspec": {
   "display_name": "Python 3",
   "language": "python",
   "name": "python3"
  },
  "language_info": {
   "codemirror_mode": {
    "name": "ipython",
    "version": 3
   },
   "file_extension": ".py",
   "mimetype": "text/x-python",
   "name": "python",
   "nbconvert_exporter": "python",
   "pygments_lexer": "ipython3",
   "version": "3.7.4"
  }
 },
 "nbformat": 4,
 "nbformat_minor": 2
}
